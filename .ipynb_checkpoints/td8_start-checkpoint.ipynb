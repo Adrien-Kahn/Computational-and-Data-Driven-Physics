{
 "cells": [
  {
   "cell_type": "code",
   "execution_count": 1,
   "metadata": {},
   "outputs": [],
   "source": [
    "# Tutorial 8, Analysis of quantic trajectories of atoms in a cavity to infer the numbers of photons in the cavity\n",
    "\n",
    "import numpy as np\n",
    "import math\n",
    "import matplotlib.pyplot as plt\n",
    "from scipy.sparse import coo_matrix\n",
    "import numpy.matlib\n",
    "import csv\n",
    "import pandas as pd\n",
    "\n",
    "#2 files containing  atomic detections in spin state 0 (ground state) 'stateG.dat' or spin state  1 'stateE.dat'\n",
    "\n",
    "\n",
    "# they are a matrix M x T where M=2000 is the number of independent experiments\n",
    "#each  of such trajectory  (rows of the matrix) having  T=10000 detections d, having  d=0 if no atom \n",
    "#have been detected or d=1,2,3 indicating the number of atoms detecyed in the corresponding spin=0 or 1 state.\n",
    "\n",
    "#Mex=M\n",
    "#T=Md\n",
    "\n",
    "T=10000\n",
    "M=2000\n",
    "\n",
    "#Open and read the files:\n",
    "\n",
    "f0=open(\"Data/stateG.dat\")\n",
    "\n",
    "l=0\n",
    "\n",
    "d0=np.zeros((M,T)).astype(int)\n",
    "for row in csv.reader(f0):\n",
    "    #print((row[1:10]))\n",
    "    d0[l,:]=row\n",
    "    l=l+1\n",
    "    \n",
    "f1=open(\"Data/stateE.dat\")\n",
    "\n",
    "l=0\n",
    "d1=np.zeros((M,T)).astype(int)\n",
    "for row in csv.reader(f1):\n",
    "    #print((row[1:10]))\n",
    "    d1[l,:]=row\n",
    "    l=l+1\n",
    "    \n",
    "\n",
    "\n",
    "\n"
   ]
  },
  {
   "cell_type": "code",
   "execution_count": 2,
   "metadata": {},
   "outputs": [
    {
     "name": "stdout",
     "output_type": "stream",
     "text": [
      "['0', '1', '0', '0', '0', '0', '0', '0', '0']\n"
     ]
    }
   ],
   "source": [
    "#check reading of data\n",
    "print((row[1:10]))\n"
   ]
  },
  {
   "cell_type": "code",
   "execution_count": null,
   "metadata": {},
   "outputs": [],
   "source": []
  }
 ],
 "metadata": {
  "anaconda-cloud": {},
  "kernelspec": {
   "display_name": "Python 3 (ipykernel)",
   "language": "python",
   "name": "python3"
  },
  "language_info": {
   "codemirror_mode": {
    "name": "ipython",
    "version": 3
   },
   "file_extension": ".py",
   "mimetype": "text/x-python",
   "name": "python",
   "nbconvert_exporter": "python",
   "pygments_lexer": "ipython3",
   "version": "3.8.3"
  }
 },
 "nbformat": 4,
 "nbformat_minor": 1
}
