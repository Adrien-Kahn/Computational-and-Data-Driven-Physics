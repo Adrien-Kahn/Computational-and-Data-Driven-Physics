{
 "cells": [
  {
   "cell_type": "markdown",
   "metadata": {
    "id": "s2yMk80RNFZl"
   },
   "source": [
    "# <center> QCM of CoDaDri - Computational Physics Part - Academic Year 2022/2023 - 7th October 2022</center>\n",
    "\n",
    "## Rules of the game\n",
    "\n",
    "Before starting, here it is a short  summary of things that you should know. In the following, there are 20 questions. For each question you have four choices: three are wrong and one is correct. If you check the correct one you get a point, but if you are wrong you lose half a point. No answer zero points. Good Luck!\n",
    "\n",
    "\n",
    "\n",
    "\n",
    "## Introduction\n",
    "\n",
    " Before starting, here's a short  summary of things that you should know. \n",
    "In the following, there are multiple-choice questions. For each question you should find the correct solution. Note that you are allowed only to check a single answer. \n",
    "\n"
   ]
  },
  {
   "cell_type": "markdown",
   "metadata": {
    "id": "ZwLHrA4tzWgq"
   },
   "source": [
    "- **Trial Question:**\n",
    "\n",
    "Consider the following programs:\n"
   ]
  },
  {
   "cell_type": "code",
   "execution_count": null,
   "metadata": {
    "collapsed": true,
    "id": "JBBVcGCTzWgr"
   },
   "outputs": [],
   "source": [
    "#Program A:\n",
    "\n",
    "for i in range(10):\n",
    "    print (i)"
   ]
  },
  {
   "cell_type": "code",
   "execution_count": null,
   "metadata": {
    "collapsed": true,
    "id": "DrAu9z59zWgs"
   },
   "outputs": [],
   "source": [
    "#Program B:\n",
    "\n",
    "for i in range(10):\n",
    "print (i)"
   ]
  },
  {
   "cell_type": "markdown",
   "metadata": {
    "id": "1Zv-y_tbzWgt"
   },
   "source": [
    "Which of the above programs (A, B) prints all integers from \n",
    "0 to 9 (including these numbers)?\n",
    "\n",
    "[a] Program A does the job.\n",
    "\n",
    "[b] Program B does the job.\n",
    "\n",
    "[c] Both Program A and Program B do the job.\n",
    "\n",
    "[d] All programs are  wrong."
   ]
  },
  {
   "cell_type": "markdown",
   "metadata": {
    "id": "iJfmx1_FzWgu"
   },
   "source": [
    "If you check [a] - correct answer. [+ 1 point]\n",
    "If you check [b] - wrong answer (indentation missing). [-0.25 points]\n",
    "If you check [c] - wrong answer. [-0.25 points]\n",
    "if you check [d] - wrong answer. [-0.25 points]\n",
    "\n",
    "---"
   ]
  },
  {
   "cell_type": "markdown",
   "metadata": {
    "id": "WT2KTaAwNFZr"
   },
   "source": [
    "## Introduction to Monte Carlo\n",
    "**Question 1:**\n",
    "\n",
    "Consider a one-dimensional system of $N$ sites. A particle hops between neighboring sites at\n",
    "times $t = 0, 1, 2,\\ldots$. A move from site $i$ to site $i + 1$ is \"to the right\", and a move from site $i$ to site $i - 1$ is \"to the left\". A hard wall is put at the left of the site $0$ and at the right of the site $N-1$.\n",
    "We consider the following  programs "
   ]
  },
  {
   "cell_type": "code",
   "execution_count": null,
   "metadata": {
    "collapsed": true,
    "id": "ir6tlZsuNFZs"
   },
   "outputs": [],
   "source": [
    "#Program A1\n",
    "import random\n",
    "N = 10; position = 0\n",
    "for t in range(100000):\n",
    "    if random.uniform(0.0, 1.0) < 0.5 :\n",
    "        position = min(position + 1, N - 1) \n",
    "    elif random.uniform(0.0, 1.0) > 0.5:\n",
    "        position = max(position - 1, 0)"
   ]
  },
  {
   "cell_type": "code",
   "execution_count": null,
   "metadata": {
    "collapsed": true,
    "id": "k_3TpHdwNFZs"
   },
   "outputs": [],
   "source": [
    "#Program B1\n",
    "import random\n",
    "N = 20; position = 0\n",
    "for t in range(100000):\n",
    "    dir = random.choice([-1, 1])\n",
    "    position = min(position + dir, N-1)\n",
    "    position = max(position, 0)"
   ]
  },
  {
   "cell_type": "code",
   "execution_count": null,
   "metadata": {
    "collapsed": true,
    "id": "AiIHcfkkNFZs"
   },
   "outputs": [],
   "source": [
    "#Program C1 \n",
    "import random\n",
    "N = 20; position = 0\n",
    "for t in range(100000):\n",
    "    if random.uniform(0.0, 1.0) < 0.5:\n",
    "        position = min(position + 1, N-1)\n",
    "    else:\n",
    "        position = max(position - 1, 0)"
   ]
  },
  {
   "cell_type": "markdown",
   "metadata": {
    "id": "IjsNWwsdNFZt"
   },
   "source": [
    "Which of the above Programs (A1, B1, C1) implement the Markov-chain Monte\n",
    "Carlo algorithm such that at long times, the probability to find the particle in one of the $N$ sites is uniform?\n",
    "\n",
    "[a] Only Programs A1 and B1 implement the above Markov-chain algorithm.\n",
    "\n",
    "[b] Only Programs A1 and C1 implement the above Markov-chain algorithm.\n",
    "\n",
    "**[c] Only Programs B1 and C1 implement the above Markov-chain algorithm.**\n",
    "\n",
    "[d] All three Programs implement the above Markov-chain algorithm."
   ]
  },
  {
   "cell_type": "markdown",
   "metadata": {
    "id": "gbcXVtzpNFZt"
   },
   "source": [
    "**Question 2:**\n",
    "\n",
    "Which of the properties below are satisfied by the above Markov Chain in Question 1?"
   ]
  },
  {
   "cell_type": "markdown",
   "metadata": {
    "id": "-Ere-aLaNFZt"
   },
   "source": [
    "**[a] It satisfies detailed balance with a constant probability\n",
    "    on all sites.**\n",
    "    \n",
    "[b] It is periodic both for $N$ even and $N$ odd.\n",
    "    \n",
    "[c] It is reducible.\n",
    "    \n",
    "[d] It satisfies the global balance, but not the detailed balance.\n"
   ]
  },
  {
   "cell_type": "markdown",
   "metadata": {
    "id": "CQnJWcw9NFZu"
   },
   "source": [
    "**Question 3:**\n",
    "\n",
    "We remove now the hard walls and introduce periodic boundary conditions. Consider the following modified programs:"
   ]
  },
  {
   "cell_type": "code",
   "execution_count": null,
   "metadata": {
    "collapsed": true,
    "id": "1ZrDVxpUNFZu"
   },
   "outputs": [],
   "source": [
    "#Program A2\n",
    "\n",
    "import random\n",
    "N = 20; position = 0\n",
    "for iter in range(1000000):\n",
    "    if random.uniform(0.0, 1.0)  < 0.5: \n",
    "        position = (position - 1) % N\n",
    "    elif random.uniform(0.0, 1.0)  > 0.5:\n",
    "        position = (position + 1) % N"
   ]
  },
  {
   "cell_type": "code",
   "execution_count": null,
   "metadata": {
    "collapsed": true,
    "id": "ZNCofai5NFZu"
   },
   "outputs": [],
   "source": [
    "#Program B2\n",
    "\n",
    "import random\n",
    "N = 20; position = 0\n",
    "for iter in range(1000000):\n",
    "    Upsilon = random.uniform(0.0, 1.0)\n",
    "    if Upsilon < 0.4: \n",
    "        position = (position - 1) % N\n",
    "    elif Upsilon  > 0.6:\n",
    "        position = (position + 1) % N"
   ]
  },
  {
   "cell_type": "code",
   "execution_count": null,
   "metadata": {
    "collapsed": true,
    "id": "7Oq2aCcoNFZu"
   },
   "outputs": [],
   "source": [
    "#Program C2\n",
    "\n",
    "import random\n",
    "N = 20; position = 0\n",
    "for iter in range(1000000):\n",
    "    if random.uniform(0.0, 1.0) < 0.5:\n",
    "        position = (position + 1) %N\n",
    "    else:\n",
    "        position = (position - 1) %N"
   ]
  },
  {
   "cell_type": "markdown",
   "metadata": {
    "id": "cnkbWnHxNFZv"
   },
   "source": [
    "[a] Program A2 satisfies detailed balance and is aperiodic\n",
    "\n",
    "**[b] Program B2 satisfies detailed balance and is aperiodic**\n",
    "\n",
    "[c] Program C2 satisfies detailed balance and is aperiodic\n",
    "\n",
    "[d] All programs satisfy detailed balance condition but they are not all aperiodic"
   ]
  },
  {
   "cell_type": "markdown",
   "metadata": {
    "id": "2Yry6WHONFZv"
   },
   "source": [
    "**Question 4:**\n",
    "\n",
    "We consider modified versions of the above programs, still on the ring with N sites."
   ]
  },
  {
   "cell_type": "code",
   "execution_count": null,
   "metadata": {
    "collapsed": true,
    "id": "OKEa8CC8NFZv"
   },
   "outputs": [],
   "source": [
    "#Program A3\n",
    "\n",
    "import random\n",
    "for iter in range(1000000):\n",
    "    position = (position + 1) % N"
   ]
  },
  {
   "cell_type": "code",
   "execution_count": null,
   "metadata": {
    "collapsed": true,
    "id": "6B6u2i6jNFZv"
   },
   "outputs": [],
   "source": [
    "#Program B3\n",
    "\n",
    "import random\n",
    "p = 0.98\n",
    "for iter in range(1000000):\n",
    "    if random.uniform < p: \n",
    "        position = (position + 1) % N"
   ]
  },
  {
   "cell_type": "markdown",
   "metadata": {
    "id": "JnETMTfqNFZw"
   },
   "source": [
    "[a] Both Program A3 and Program B3 satisfy the detailed balance condition\n",
    "    \n",
    "\n",
    "[b] Only Program A3 satisfies a more general condition, called 'global balance' and it is aperiodic. \n",
    "\n",
    "**[c] Only Program B3  satisfies a more general condition,called 'global balance' and it is aperiodic.**\n",
    "\n",
    "[d] Both Program A3 and Program B3 satisfy  'global balance' and are aperiodic."
   ]
  },
  {
   "cell_type": "markdown",
   "metadata": {
    "id": "GbQNbmVCNFZw"
   },
   "source": [
    "**Question 5:**\n",
    "\n",
    "We now consider an infinite one dimensional system in the presence of confining potential $V(k)=k^4$.\n"
   ]
  },
  {
   "cell_type": "code",
   "execution_count": null,
   "metadata": {
    "collapsed": true,
    "id": "GCSaKlPhNFZw"
   },
   "outputs": [],
   "source": [
    "#Program A4\n",
    "import random, math\n",
    "def weight(k):\n",
    "        return math.exp(-(k/4.)**4)\n",
    "position = 0\n",
    "pos_list = [] \n",
    "for iter in range(1000000):\n",
    "    dir = random.choice([-1, 1])\n",
    "    new_position = position + dir\n",
    "    if random.uniform(0.0, 1.0) < weight(new_position) / weight(position): \n",
    "        position = new_position\n",
    "        pos_list.append(position)"
   ]
  },
  {
   "cell_type": "code",
   "execution_count": null,
   "metadata": {
    "collapsed": true,
    "id": "9U_ugXlPNFZw"
   },
   "outputs": [],
   "source": [
    "#Program B4\n",
    "import random, math\n",
    "def weight(k):\n",
    "        return math.exp(-(k/4.)**4)\n",
    "position = 0\n",
    "pos_list = [] \n",
    "for iter in range(1000000):\n",
    "    dir = random.choice([-1, 1])\n",
    "    new_position = position + dir\n",
    "    if random.uniform(0.0, 1.0) < weight(position) / weight(new_position): \n",
    "        position = new_position\n",
    "    pos_list.append(position)"
   ]
  },
  {
   "cell_type": "code",
   "execution_count": 42,
   "metadata": {
    "id": "W523TTq4NFZw"
   },
   "outputs": [
    {
     "data": {
      "text/plain": [
       "[<matplotlib.lines.Line2D at 0x17dd9fc6610>]"
      ]
     },
     "execution_count": 42,
     "metadata": {},
     "output_type": "execute_result"
    },
    {
     "data": {
      "image/png": "[encoded data removed]",
      "text/plain": [
       "<Figure size 432x288 with 1 Axes>"
      ]
     },
     "metadata": {
      "needs_background": "light"
     },
     "output_type": "display_data"
    }
   ],
   "source": [
    "#Program C4\n",
    "import random, math\n",
    "def weight(k):\n",
    "        return math.exp(-(k/4.)**4)\n",
    "position = 0\n",
    "pos_list = []\n",
    "for iter in range(1000000):\n",
    "    dir = random.choice([-1, 1])\n",
    "    new_position = position + dir\n",
    "    if random.uniform(0.0, 1.0) < weight(new_position) / weight(position): \n",
    "        position = new_position\n",
    "    pos_list.append(position)\n",
    "\n",
    "plt.hist(pos_list, bins=40, range=(-20, 20), density=True)\n",
    "\n",
    "x = np.linspace(-20, 20, 10000)\n",
    "y = np.exp(-(x/4)**4) / 7\n",
    "plt.plot(x, y)"
   ]
  },
  {
   "cell_type": "markdown",
   "metadata": {
    "id": "v__byJhwNFZx"
   },
   "source": [
    "Which of the above programs (A5, B5, C5) implements the Metropolis\n",
    "algorithm and leads (in the limit iter $\\to \\infty$) to a histogram of\n",
    "the positions 'pos_list' proportional to the statistical weights 'weight'?\n",
    "\n",
    "[a] Program A4 implements the Metropolis algorithm and leads to such a histogram.\n",
    "\n",
    "[b] Program B4 implements the Metropolis algorithm and leads to such a histogram.\n",
    "\n",
    "**[c] Program C4 implements the Metropolis algorithm and leads to such a histogram.**\n",
    "\n",
    "[d] Programs A4 and C4 implement the Metropolis algorithm and lead to\n",
    "    such a histogram."
   ]
  },
  {
   "cell_type": "markdown",
   "metadata": {
    "id": "G_FffgZENFZx"
   },
   "source": [
    "**Question 6**\n",
    "\n",
    "The famous 1/2 thumb rule:\n",
    "\n",
    "[a] It is an important rule for the convergence of direct sampling algorithms.\n",
    "\n",
    "[b] It is the consequence of the detailed balance condition, but it is not necessary if global balance is satisfied.\n",
    "\n",
    "**[c] It fixes the adjustable parameter of a Metropolis in order to minimize the statistical error.**\n",
    "\n",
    "[d] It optimizes the adjustable parameter of a Metropolis when the detailed balance is weakly violated (but not in the Metropolis-Hastings case).\n",
    "\n"
   ]
  },
  {
   "cell_type": "markdown",
   "metadata": {
    "id": "j9Zjn9DGNFZx"
   },
   "source": [
    "**Question 7**\n",
    "Consider the following Markov matrices. Which one is periodic? \n",
    "\n",
    "$$\n",
    "T_1=\n",
    "\\begin{pmatrix}\n",
    "0 & 1/2&  0 \\\\\n",
    "1 & 0& 1  \\\\\n",
    "0 & 1/2 & 0 \n",
    "\\end{pmatrix} \\quad \n",
    "T_2=\n",
    "\\begin{pmatrix}\n",
    "0 & 0&  1/3 \\\\\n",
    "1 & 0& 1/3  \\\\\n",
    "0 & 1 & 1/3 \n",
    "\\end{pmatrix}\n",
    " \\quad \n",
    "T_3=\n",
    "\\begin{pmatrix}\n",
    "0 & 1/2&  1 \\\\\n",
    "1 & 0& 0 \\\\\n",
    "0 & 1/2 & 0 \n",
    "\\end{pmatrix}\n",
    "$$\n",
    "\n",
    "**[a] $T_1$**\n",
    "\n",
    "[b] $T_2$\n",
    "\n",
    "[c] $T_3$\n",
    "\n",
    "[d] All of them\n",
    "\n",
    "\n"
   ]
  },
  {
   "cell_type": "markdown",
   "metadata": {
    "id": "U2mhYeOMNFZx"
   },
   "source": [
    "**Question 8**\n",
    "Consider the following Markov matrices. Which one is reducible? \n",
    "\n",
    "$$\n",
    "T_1=\n",
    "\\begin{pmatrix}\n",
    "0 & 1/2&  0 \\\\\n",
    "1 & 1/2& 0  \\\\\n",
    "0 & 0 & 1 \n",
    "\\end{pmatrix} \\quad \n",
    "T_2=\n",
    "\\begin{pmatrix}\n",
    "0 & 1/2&  1 \\\\\n",
    "1 & 1/2& 0  \\\\\n",
    "0 & 0 & 0\n",
    "\\end{pmatrix}\n",
    " \\quad \n",
    "T_3=\n",
    "\\begin{pmatrix}\n",
    "0 & 1/2&  1 \\\\\n",
    "1 & 0& 0 \\\\\n",
    "0 & 1/2 & 0 \n",
    "\\end{pmatrix}\n",
    "$$\n",
    "\n",
    "[a] $T_1$  and $T_2$\n",
    "\n",
    "**[b] Only $T_1$**\n",
    "\n",
    "[c] Only $T_2$\n",
    "\n",
    "[d] None of them\n"
   ]
  },
  {
   "cell_type": "code",
   "execution_count": 14,
   "metadata": {},
   "outputs": [
    {
     "name": "stdout",
     "output_type": "stream",
     "text": [
      "[[0.  0.5 1. ]\n",
      " [1.  0.  0. ]\n",
      " [0.  0.5 0. ]]\n",
      "\n",
      "[ 1. +0.j  -0.5+0.5j -0.5-0.5j]\n"
     ]
    }
   ],
   "source": [
    "m = np.array([[0, 0.5, 1], [1, 0, 0], [0, 1/2, 0]])\n",
    "print(m)\n",
    "print()\n",
    "print(np.linalg.eig(m)[0])"
   ]
  },
  {
   "cell_type": "markdown",
   "metadata": {
    "id": "eGt6meHKNFZx"
   },
   "source": [
    "## Importance sampling and sampling a function\n",
    "**Question 9:**\n",
    "Consider the following two programs\n"
   ]
  },
  {
   "cell_type": "code",
   "execution_count": 21,
   "metadata": {
    "id": "zIMOnI97NFZx"
   },
   "outputs": [
    {
     "data": {
      "text/plain": [
       "(-1.0, 10.0)"
      ]
     },
     "execution_count": 21,
     "metadata": {},
     "output_type": "execute_result"
    },
    {
     "data": {
      "image/png": "[encoded data removed]",
      "text/plain": [
       "<Figure size 432x288 with 1 Axes>"
      ]
     },
     "metadata": {
      "needs_background": "light"
     },
     "output_type": "display_data"
    }
   ],
   "source": [
    "#Program A5\n",
    "import random\n",
    "l = []\n",
    "for k in range(100000):\n",
    "    l.append((random.random())**(-1./2.))\n",
    "plt.hist(l, density=True, bins=50, range=(0,10))\n",
    "x = np.linspace(1, 10, 1000)\n",
    "y = 2 / x**3\n",
    "plt.plot(x, y)\n",
    "plt.xlim(-1, 10)"
   ]
  },
  {
   "cell_type": "code",
   "execution_count": null,
   "metadata": {
    "collapsed": true,
    "id": "DKfnn7P7NFZx"
   },
   "outputs": [],
   "source": [
    "#Program B5\n",
    "import random\n",
    "print ((random.random())**(-1./3.))"
   ]
  },
  {
   "cell_type": "markdown",
   "metadata": {
    "id": "7_hwSQz8NFZy"
   },
   "source": [
    "**[a] A5 samples the pdf $\\pi(x) = \\frac{2}{x^3}$ with $x>1$**\n",
    "\n",
    "[b] B5 samples the pdf $\\pi(x) = \\frac{2}{x^3}$ with $x>1$\n",
    "\n",
    "[c] A5 samples the pdf $\\pi(x) = \\frac{3}{2}\\sqrt{x}$ with $x <1$ \n",
    "\n",
    "[d] B5 samples the pdf $\\pi(x) = \\frac{4}{3 x^{1/3}}$ with $x < 1$\n"
   ]
  },
  {
   "cell_type": "markdown",
   "metadata": {
    "id": "3LVU1vyiNFZy"
   },
   "source": [
    "**Question 10:**\n",
    "Consider the following programs"
   ]
  },
  {
   "cell_type": "code",
   "execution_count": null,
   "metadata": {
    "collapsed": true,
    "id": "gRfEZ31PNFZy"
   },
   "outputs": [],
   "source": [
    "# Program A6\n",
    "import random\n",
    "Ntrials=20\n",
    "O_list=[]\n",
    "for iter in range(Ntrials):\n",
    "    x=(random.random())**(-1./2.)\n",
    "    O_list.append(x)"
   ]
  },
  {
   "cell_type": "code",
   "execution_count": null,
   "metadata": {
    "collapsed": true,
    "id": "HE8RD52oNFZy"
   },
   "outputs": [],
   "source": [
    "# Program B6\n",
    "import random\n",
    "Ntrials=20\n",
    "Ow_list=[]\n",
    "for iter in range(Ntrials):\n",
    "    x=(random.random())**(-1./3.)\n",
    "    Ow_list.append(2./3.*x**2)"
   ]
  },
  {
   "cell_type": "code",
   "execution_count": null,
   "metadata": {
    "collapsed": true,
    "id": "MjQ3D0VpNFZy"
   },
   "outputs": [],
   "source": [
    "# Program C6\n",
    "import random\n",
    "Ntrials=20\n",
    "Ow_list=[]\n",
    "for iter in range(Ntrials):\n",
    "    x=(random.random())**(-2./3.)\n",
    "    Ow_list.append(4./3.*x**(1./2.))"
   ]
  },
  {
   "cell_type": "markdown",
   "metadata": {
    "id": "RRx6aJ41NFZy"
   },
   "source": [
    "[a] They have the same mean, but the statistical error of A6 is given by $\\text{std}(\\text{O_list})/\\sqrt{\\text{Ntrials}}$ while B6 and C6 are numerically unstable.\n",
    "\n",
    "[b] They have the same mean, but the statistical error of B6 is given by $\\text{std}(\\text{Ow_list})/\\sqrt{\\text{Ntrials}}$ while A6 and C6 are numerically unstable.\n",
    "\n",
    "**[c] They have the same mean, but the statistical error of C6 is given by $\\text{std}(\\text{Ow_list})/\\sqrt{\\text{Ntrials}}$ while B6 and A6 are numerically unstable.**\n",
    "\n",
    "[d] They have the same mean, but the correct error should be evaluated with the bunching algorithm."
   ]
  },
  {
   "cell_type": "markdown",
   "metadata": {
    "id": "i2oDEObwNFZz"
   },
   "source": [
    "**Question 11**:\n",
    "Consider the following programs"
   ]
  },
  {
   "cell_type": "code",
   "execution_count": null,
   "metadata": {
    "collapsed": true,
    "id": "wFC2XZK3NFZz"
   },
   "outputs": [],
   "source": [
    "#Program A7:\n",
    "import random, math\n",
    "for t in range(1):\n",
    "    r = [random.gauss(0.,1.), random.gauss(0.,1.)]\n",
    "    norm=math.sqrt(r[0]**2+r[1]**2)\n",
    "    r=[a/norm for a in r]\n",
    "    print (r)"
   ]
  },
  {
   "cell_type": "code",
   "execution_count": null,
   "metadata": {
    "collapsed": true,
    "id": "pNYlav_8NFZz"
   },
   "outputs": [],
   "source": [
    "#Program B7:\n",
    "import random, math\n",
    "for t in range(1):\n",
    "    r = [random.random(), random.random()]\n",
    "    norm=math.sqrt(r[0]**2+r[1]**2)\n",
    "    r=[a/norm for a in r]\n",
    "    print (r)"
   ]
  },
  {
   "cell_type": "code",
   "execution_count": null,
   "metadata": {
    "collapsed": true,
    "id": "Jn3AFpakNFZz"
   },
   "outputs": [],
   "source": [
    "#Program C7:\n",
    "import random, math\n",
    "for t in range(1):\n",
    "    theta= random.uniform(0,2*math.pi)\n",
    "    r=[math.cos(theta),math.sin(theta)]\n",
    "    print (r)"
   ]
  },
  {
   "cell_type": "markdown",
   "metadata": {
    "id": "n43XXEiYNFZz"
   },
   "source": [
    "[a] A7 and B7 are sampling points uniformly distributed on the perimeter of the unitary circle.\n",
    "\n",
    "**[b] A7 and C7 are sampling points uniformly distributed on the perimeter of the unitary circle.**\n",
    "\n",
    "[c] B7 and C7 are sampling points uniformly distributed on the perimeter of the unitary circle.\n",
    "\n",
    "[d] Only A7 is sampling points uniformly distributed on the perimeter of the unitary circle, while B7 and C7 are asymmetric\n"
   ]
  },
  {
   "cell_type": "markdown",
   "metadata": {
    "id": "9R1NaOjHNFZz"
   },
   "source": [
    "**Question 12**\n",
    "\n",
    "Check the program below and find $\\pi(x)$ "
   ]
  },
  {
   "cell_type": "code",
   "execution_count": 5,
   "metadata": {
    "id": "4VcnW8MwcRMM"
   },
   "outputs": [
    {
     "data": {
      "text/plain": [
       "[<matplotlib.lines.Line2D at 0x17dd86824c0>]"
      ]
     },
     "execution_count": 5,
     "metadata": {},
     "output_type": "execute_result"
    },
    {
     "data": {
      "image/png": "[encoded data removed]",
      "text/plain": [
       "<Figure size 432x288 with 1 Axes>"
      ]
     },
     "metadata": {
      "needs_background": "light"
     },
     "output_type": "display_data"
    }
   ],
   "source": [
    "#Program 2\n",
    "import math\n",
    "import matplotlib.pyplot as plt\n",
    "import numpy as np\n",
    "from numpy import random\n",
    "N_trials = 10000\n",
    "all_pos = []\n",
    "for sample in range(N_trials):\n",
    "    x, y = random.uniform(-1.0, 1.0), random.uniform(-1.0, 1.0)\n",
    "    sum = math.sqrt(x ** 2 + y ** 2)\n",
    "    if sum < 1.0:\n",
    "       all_pos.append(y / sum)\n",
    "n, bins, patches = plt.hist(all_pos, 200, density=True, facecolor='g', alpha=0.75)    \n",
    "plt.xticks(fontsize=12)\n",
    "plt.yticks(fontsize=12)\n",
    "plt.title('Tower Sampling, Ntrials=  '+str(N_trials)+'', fontsize=15)\n",
    "plt.ylabel('Histogram', fontsize=15)\n",
    "plt.xlabel('x', fontsize=15)\n",
    "x = np.linspace(-0.99, 0.99, 1000)\n",
    "y = (1/np.pi) / (1 - x**2)**0.5\n",
    "plt.plot(x, y)"
   ]
  },
  {
   "cell_type": "markdown",
   "metadata": {
    "id": "RFcWo7YeNFZz"
   },
   "source": [
    "**[a] $\\pi(x) = \\frac{1}{\\pi} \\frac{1}{\\sqrt{1-x^2}}$ with $-1<x<1$**\n",
    "\n",
    "[b] $\\pi(x) = \\frac{3}{4} (1-x^2)$ with $-1<x<1$\n",
    "\n",
    "[c] $\\pi(x) = \\frac{1}{x^2}$ with $x>1$ \n",
    "\n",
    "[d] $\\pi(x) =  e^{-x^2/2}/\\sqrt{2 \\pi}$"
   ]
  },
  {
   "cell_type": "markdown",
   "metadata": {
    "id": "Pfzy41QRNFZz"
   },
   "source": [
    "**Question 13**\n",
    "\n",
    "Week end is coming and you are tempted by hanging out with friends but you know that  you have to work on  your competitive master program.\n",
    "You took the resolution  that, on average, you can spend one hour with your friends every four hours of study. The following program gives you the time schedule of the next ten hours. Which program is reliable?"
   ]
  },
  {
   "cell_type": "code",
   "execution_count": null,
   "metadata": {
    "collapsed": true,
    "id": "EkKbV6iyNFZ0"
   },
   "outputs": [],
   "source": [
    "# program A8\n",
    "import random\n",
    "for t in range(10):\n",
    "    if random.uniform(0.0, 1.0) < 0.8: \n",
    "       choice='M2'\n",
    "    else: \n",
    "       choice='Social Media'\n",
    "    print(choice)"
   ]
  },
  {
   "cell_type": "code",
   "execution_count": null,
   "metadata": {
    "collapsed": true,
    "id": "_mqxmyfbNFZ0"
   },
   "outputs": [],
   "source": [
    "# program B8\n",
    "import random\n",
    "for t in range(10):\n",
    "    choice='M2'\n",
    "    if random.uniform(0.0, 1.0) < 0.6: \n",
    "       choice='M2'\n",
    "    elif random.uniform(0.0, 1.0) < 0.5: \n",
    "       choice='Social Media'\n",
    "    print(choice)"
   ]
  },
  {
   "cell_type": "markdown",
   "metadata": {
    "id": "Ku4cpi3RNFZ0"
   },
   "source": [
    "**[a] Both programs are correct.**\n",
    "\n",
    "[b] Only program A8 is correct.\n",
    "\n",
    "[c] Only program B8 is correct\n",
    "\n",
    "[d] They are all wrong.\n"
   ]
  },
  {
   "cell_type": "markdown",
   "metadata": {
    "id": "VgdknVcHNFZ0"
   },
   "source": [
    "**Question 14**\n",
    "\n",
    "Select the correct sentence:\n",
    "\n",
    "[a]  Importance sampling is a Monte Carlo technique that bias the distribution of the examples keeping fixed the average and the variance of the observable.\n",
    "\n",
    "[b]  Importance sampling is a Monte Carlo technique that can be used only with direct sampling. \n",
    "\n",
    "[c] Importance sampling is a Monte Carlo technique in which only important examples are selected while the others are discarded.\n",
    "\n",
    "**[d] Importance sampling is a Monte Carlo technique used to reduce the variance of the observable.**"
   ]
  },
  {
   "cell_type": "markdown",
   "metadata": {
    "id": "vfxdCZPfNFZ0"
   },
   "source": [
    "## Ising Model\n",
    "**Question 15:**\n",
    "\n",
    "Consider the 2D Ising model and the sampling obtained via the following algorithms:"
   ]
  },
  {
   "cell_type": "code",
   "execution_count": null,
   "metadata": {
    "id": "Fnon32lWdvFR"
   },
   "outputs": [],
   "source": [
    "#Program A15\n",
    "import numpy as np\n",
    "beta = 0.42\n",
    "L = 8\n",
    "config = np.random.choice([-1,1], size=(L,L))\n",
    "for i_sweep in range(1000) :\n",
    "    for iter in range(L*L):\n",
    "        i, j = np.random.randint(L, size=2)\n",
    "\n",
    "        h = config[(i+1)%L, j] + config[(i-1)%L, j] + config[i, (j+1)%L] + config[i, (j-1)%L]\n",
    "\n",
    "        pi_minus = 1 / (np.exp(2 * beta * h) + 1)\n",
    "\n",
    "        config[i,j] = 1\n",
    "        if np.random.rand() < pi_minus:\n",
    "          config[i,j] = -1"
   ]
  },
  {
   "cell_type": "markdown",
   "metadata": {
    "id": "0-UJn576NFZ1"
   },
   "source": [
    "[a] This is the famous Metropolis algorithm for the Ising model. \n",
    "\n",
    "**[b] This is not a Metropolis, but is a Markov Chain Monte Carlo that satisfies the detailed balance.**\n",
    "\n",
    "[c] This is not a Metropolis, but it is the famous Wolff algorithm\n",
    "\n",
    "[d] This algorithm does not satisfies the detailed balance but the global balance only.\n",
    "\n"
   ]
  },
  {
   "cell_type": "markdown",
   "metadata": {
    "id": "R1Cz0iDhNFZ1"
   },
   "source": [
    "**Question 16:**\n",
    "\n",
    "Consider the 2D Ising model and the sampling obtained via the following algorithms:"
   ]
  },
  {
   "cell_type": "code",
   "execution_count": null,
   "metadata": {
    "collapsed": true,
    "id": "8U44Zti7NFZ1"
   },
   "outputs": [],
   "source": [
    "# Program A16\n",
    "for i_sweep in range(1000) :\n",
    "    for iter in range(L*L) :\n",
    "        i, j = np.random.randint(L, size=2)\n",
    "        h = config[(i+1)%L, j] + config[(i-1)%L, j] + config[i, (j+1)%L] + config[i, (j-1)%L]\n",
    "        pi_minus = 1 / (np.random.exp( 2 * beta * h) + 1)\n",
    "        pi_plus= 1 / (np.random.exp( -2 * beta * h) + 1) \n",
    "        dummy= np.random.rand()\n",
    "        if  dummy < pi_minus: config[i,j] = -1\n",
    "        if  dummy < pi_plus: config[i,j]= 1"
   ]
  },
  {
   "cell_type": "code",
   "execution_count": null,
   "metadata": {
    "id": "NYqBaQAahpCB"
   },
   "outputs": [],
   "source": [
    "# Program B16\n",
    "for i_sweep in range(1000) :\n",
    "    for iter in range(L*L) :\n",
    "        i, j = np.random.randint(L, size=2)\n",
    "        h = config[(i+1)%L, j] + config[(i-1)%L, j] + config[i, (j+1)%L] + config[i, (j-1)%L]\n",
    "        pi_minus = 1 / (np.random.exp( 2 * beta * h) + 1)\n",
    "        pi_plus= 1 / (np.random.exp( -2 * beta * h) + 1) \n",
    "        dummy= np.random.rand()\n",
    "        if  dummy < pi_minus: config[i,j] = -1\n",
    "        if  dummy >= pi_minus: config[i,j] = 1"
   ]
  },
  {
   "cell_type": "code",
   "execution_count": null,
   "metadata": {
    "id": "7e72eJx8hyDD"
   },
   "outputs": [],
   "source": [
    "# Program C16\n",
    "for i_sweep in range(1000) :\n",
    "    for iter in range(L*L) :\n",
    "        i, j = np.random.randint(L, size=2)\n",
    "        h = config[(i+1)%L, j] + config[(i-1)%L, j] + config[i, (j+1)%L] + config[i, (j-1)%L]\n",
    "        pi_minus = 1 / (np.random.exp( 2 * beta * h) + 1)\n",
    "        pi_plus= 1 / (np.random.exp( -2 * beta * h) + 1) \n",
    "        dummy= np.random.rand()\n",
    "        if  dummy < np.random.exp(-2*beta*h*config[i,j]): \n",
    "          config[i,j] = - config[i,j]"
   ]
  },
  {
   "cell_type": "markdown",
   "metadata": {
    "id": "m-ZBauFBNFZ1"
   },
   "source": [
    "[a] Program A16 and Program  B16 correctly samples Ising Gibbs measure. \n",
    "\n",
    "**[b] Program B16 and  Program C16 correctly samples Ising Gibbs measure.**\n",
    "\n",
    "[c] Program C16 and Program A16 correctly samples Ising Gibbs measure. \n",
    "\n",
    "[d] All Programs are correct\n",
    "\n",
    "\n"
   ]
  },
  {
   "cell_type": "markdown",
   "metadata": {
    "id": "L8VGUASlNFZ1"
   },
   "source": [
    "**Question 17:**\n",
    "\n",
    "Consider the 2D antiferromagnetic Ising model on the same square lattice: \n",
    "$$ E= \\sum_{\\langle i j \\rangle} \\sigma_i \\sigma_j$$\n",
    " and the sampling obtained via the following algorithms:"
   ]
  },
  {
   "cell_type": "code",
   "execution_count": null,
   "metadata": {
    "collapsed": true,
    "id": "VFgdG002NFZ2"
   },
   "outputs": [],
   "source": [
    "# Program A17\n",
    "for i_sweep in range(1000) :\n",
    "    for iter in range(L*L) :\n",
    "        i, j = np.random.randint(L, size=2)\n",
    "        h = config[(i+1)%L, j] + config[(i-1)%L, j] + config[i, (j+1)%L] + config[i, (j-1)%L]\n",
    "        if  np.random.rand() < math.exp(-2*beta*h*config[i,j]): config[i,j] = -config[i,j]"
   ]
  },
  {
   "cell_type": "code",
   "execution_count": null,
   "metadata": {
    "collapsed": true,
    "id": "8sidTcyzNFZ2"
   },
   "outputs": [],
   "source": [
    "# Program B17\n",
    "for i_sweep in range(1000) :\n",
    "    for iter in range(L*L):\n",
    "        i, j = np.random.randint(L, size=2)\n",
    "        h = config[(i+1)%L, j] + config[(i-1)%L, j] + config[i, (j+1)%L] + config[i, (j-1)%L]\n",
    "        if  np.random.rand() < math.exp(2*beta*h*config[i,j]): config[i,j] = -config[i,j]"
   ]
  },
  {
   "cell_type": "code",
   "execution_count": null,
   "metadata": {
    "collapsed": true,
    "id": "Fltaj6ypNFZ2"
   },
   "outputs": [],
   "source": [
    "# Program C17\n",
    "for i_sweep in range(1000) :\n",
    "    for iter in range(L*L):\n",
    "        i, j = np.random.randint(L, size=2)\n",
    "        h = config[(i+1)%L, j] + config[(i-1)%L, j] + config[i, (j+1)%L] + config[i, (j-1)%L]\n",
    "        pi_minus = 1 / (math.exp( - 2 * beta * h) + 1)\n",
    "        config[i,j]=1\n",
    "        if  np.random.rand() < pi_minus: config[i,j] = -1"
   ]
  },
  {
   "cell_type": "markdown",
   "metadata": {
    "id": "hHmvhPw2NFZ2"
   },
   "source": [
    "[a] Program A17 and Program  B17 correctly samples Ising Gibbs measure. \n",
    "\n",
    "**[b] Program B17 and  Program C17 correctly samples Ising Gibbs measure.**\n",
    "\n",
    "[c] Program C17 and Program A17 correctly samples Ising Gibbs measure. \n",
    "\n",
    "[d] All Programs are correct\n"
   ]
  },
  {
   "cell_type": "markdown",
   "metadata": {
    "id": "E8D6PpeRNFZ2"
   },
   "source": [
    "## Dijkstra algorithm\n",
    "\n",
    "**Question 18**\n",
    "\n",
    "Read the following programs"
   ]
  },
  {
   "cell_type": "code",
   "execution_count": null,
   "metadata": {
    "collapsed": true,
    "id": "Kg4KD4LbNFZ2"
   },
   "outputs": [],
   "source": [
    "# Program A18\n",
    "import numpy as np\n",
    "import matplotlib.pyplot as plt\n",
    "np.random.seed(1234)\n",
    "T  =  1200\n",
    "E = [np.infty for n in range(-T,T-1)]\n",
    "E[0] = 0\n",
    "for time in range(1,T) :\n",
    "    for n in range(time+1) :\n",
    "        x = time - 2*n\n",
    "        V_dis= np.random.randn()\n",
    "        E[x] = min(E[x-1],E[x+1]) + V_dis"
   ]
  },
  {
   "cell_type": "code",
   "execution_count": null,
   "metadata": {
    "collapsed": true,
    "id": "HanbENedNFZ2"
   },
   "outputs": [],
   "source": [
    "# Program B18\n",
    "import numpy as np\n",
    "import matplotlib.pyplot as plt\n",
    "np.random.seed(1234)\n",
    "T  =  1200\n",
    "E = [np.infty for n in range(-T,T-1)]\n",
    "E[0] = 0\n",
    "for time in range(1,T) :\n",
    "    for n in range(time+1) :\n",
    "        x = time - 2*n\n",
    "        V_dis= np.random.randn()\n",
    "        E[x] = min(E[x-1] + V_dis , E[x+1] + V_dis)"
   ]
  },
  {
   "cell_type": "code",
   "execution_count": null,
   "metadata": {
    "collapsed": true,
    "id": "YmqIXt29NFZ2"
   },
   "outputs": [],
   "source": [
    "# Program C18\n",
    "import numpy as np\n",
    "import matplotlib.pyplot as plt\n",
    "np.random.seed(1234)\n",
    "T  =  1200\n",
    "E = [np.infty for n in range(-T,T-1)]\n",
    "E[0] = 0\n",
    "for time in range(1,T) :\n",
    "    for n in range(time+1) :\n",
    "        x = time - 2*n\n",
    "        E[x] = min(E[x-1] + np.random.randn(), E[x+1] + np.random.randn())"
   ]
  },
  {
   "cell_type": "markdown",
   "metadata": {
    "id": "SO03tCC8NFZ3"
   },
   "source": [
    "**[a] Program A18 and Program  B18 implement the Dijkstra algorithm on the same lattice**\n",
    "\n",
    "[b] Program B18 and  Program C18 implement the Dijkstra algorithm on the same lattice \n",
    "\n",
    "[c] Program C18 and Program A18 implement the Dijkstra algorithm on the same lattice \n",
    "\n",
    "[d] All Programs implement the Dijkstra algorithm on the same lattice "
   ]
  },
  {
   "cell_type": "markdown",
   "metadata": {
    "id": "0sAKSnx2NFZ3"
   },
   "source": [
    "**Question 19**\n",
    "\n",
    "Select the correct statement.  "
   ]
  },
  {
   "cell_type": "code",
   "execution_count": null,
   "metadata": {
    "collapsed": true,
    "id": "SamCMKfZNFZ3"
   },
   "outputs": [],
   "source": [
    "# Program A19\n",
    "import numpy as np\n",
    "import matplotlib.pyplot as plt\n",
    "np.random.seed(1234)\n",
    "T  =  1200\n",
    "E = [np.infty for n in range(-T,T-1)]\n",
    "E[0] = 0\n",
    "for time in range(1,T) :\n",
    "    for n in range(time+1) :\n",
    "        x = time - 2*n\n",
    "        E[x] = E[x-1]  +np.random.randn()"
   ]
  },
  {
   "cell_type": "code",
   "execution_count": null,
   "metadata": {
    "collapsed": true,
    "id": "EZNaxG80NFZ3"
   },
   "outputs": [],
   "source": [
    "# Program B19\n",
    "import numpy as np\n",
    "import matplotlib.pyplot as plt\n",
    "np.random.seed(1234)\n",
    "T  =  1200\n",
    "E = [np.infty for n in range(-T,T-1)]\n",
    "E[0] = 0\n",
    "for time in range(1,T) :\n",
    "    for n in range(time+1) :\n",
    "        x = time - 2*n\n",
    "        E[x] = max(E[x-1] , E[x+1] ) + np.random.randn()"
   ]
  },
  {
   "cell_type": "code",
   "execution_count": null,
   "metadata": {
    "collapsed": true,
    "id": "aGE5dpO6NFZ3"
   },
   "outputs": [],
   "source": [
    "# Program C19\n",
    "import numpy as np\n",
    "import matplotlib.pyplot as plt\n",
    "np.random.seed(1234)\n",
    "T  =  1200\n",
    "E = [np.infty for n in range(-T,T-1)]\n",
    "E[0] = 0\n",
    "for time in range(1,T) :\n",
    "    for n in range(time+1) :\n",
    "        x = time - 2*n\n",
    "        E[x] = E[x-random.choice([-1, 1])]  + np.random.randn()"
   ]
  },
  {
   "cell_type": "markdown",
   "metadata": {
    "id": "rqCltvooNFZ3"
   },
   "source": [
    "[a] Program A19 gives a lower bound to the minimal energy E[x]\n",
    "\n",
    "**[b] Program B19 provide the exact maximal energy E[x]**\n",
    "\n",
    "[c] In Program C19 E[0] is a negative energy growing linearly with T  \n",
    "\n",
    "[d] [a], [b], [c] are wrong "
   ]
  },
  {
   "cell_type": "markdown",
   "metadata": {
    "id": "FIOjtVwLNFZ3"
   },
   "source": [
    "**Question 20**\n",
    "\n",
    "You  perform a Monte Carlo simulation and obtain a list of data $[ O_1, O_2,\\ldots, O_{N_{\\text trials}}]$.  \n",
    "\n",
    "[a] For a Markov chain simulation the correct statistical estimate is:\n",
    "$$ \\langle O \\rangle \\approx \\text{mean}(O_i) \\pm \\text{std}(O_i)/\\sqrt{N_{\\text trials}}$$\n",
    "\n",
    "[b] For a Markov chain simulation the correct esitmation of the error can be obtained using the following bunching method. At each iteration the length of the list is divided by 2. The error identifies with the standard deviation of the bunched list after 10 iterations.\n",
    "\n",
    "**[c] For a Markov chain simulation the error $\\text{std}(O_i)/\\sqrt{N_{\\text trials}}$ is too small**\n",
    "\n",
    "[d] For a Markov chain simulation the error $\\text{std}(O_i)/\\sqrt{N_{\\text trials}}$ is too big\n",
    " "
   ]
  }
 ],
 "metadata": {
  "colab": {
   "collapsed_sections": [],
   "provenance": []
  },
  "kernelspec": {
   "display_name": "Python 3 (ipykernel)",
   "language": "python",
   "name": "python3"
  },
  "language_info": {
   "codemirror_mode": {
    "name": "ipython",
    "version": 3
   },
   "file_extension": ".py",
   "mimetype": "text/x-python",
   "name": "python",
   "nbconvert_exporter": "python",
   "pygments_lexer": "ipython3",
   "version": "3.8.3"
  }
 },
 "nbformat": 4,
 "nbformat_minor": 1
}
