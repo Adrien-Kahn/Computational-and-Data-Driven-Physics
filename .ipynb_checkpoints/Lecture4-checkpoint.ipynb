{
 "cells": [
  {
   "cell_type": "markdown",
   "metadata": {
    "id": "xB8g1ykhTCxI"
   },
   "source": [
    "# <center> Ising model: 3 Monte Carlo algorithms</center>\n",
    "\n",
    "\n",
    "<hr>\n",
    "\n",
    "## Introduction\n",
    "\n",
    "In this lecture, we approach the statistical mechanics of the Ising model. This archetypal model undergoes an order-disorder phase transition. Here we discuss three important Monte Carlo algorithms that allows to capture the physics of this spin system far and close to the critical temperature. These algorithms are very general and can be easily extended to other spin systems, such as the XY or the Heisenberg models.\n",
    "\n",
    "\n",
    "\n",
    "Ising spins take two values $\\sigma=\\pm 1$ and live on a lattice of $N$ sites $k=0... N-1$.  In the ferromagnetic case, $J>0$, spins prefer to be aligned with each other, and the energy is written as a sum between nearest neighbours ${\\langle i j \\rangle}$:\n",
    "$$E = - J \\sum_{\\langle i j \\rangle} \\sigma_i \\sigma_j  $$\n",
    "The sum is over all pairs of neighbors. In a sum over pairs of neighbors, we consider each pair only once, that is, we pick either $i$, $j$ or $j, i$. \n",
    "\n",
    "\n",
    "If the system is at equilibrium with a thermal bath at inverse temperature $\\beta$, the partition function of the spins writes\n",
    "$$ Z= \\sum_{\\sigma_1=\\pm 1, \\sigma_2 =\\pm 1,\\ldots, \\sigma_{N-1} =\\pm 1} e^{-\\beta E} = \\sum_{\\sigma} e^{-\\beta E}$$\n",
    "Here $\\sum_{\\sigma}$ indicates the sum over all configurations\n",
    "* How many terms we have in this sum?\n",
    "\n",
    "### Observables\n",
    "\n",
    "If it is possible to take care of this huge sum all observables can be estimated and expressed either as mean values or fluctuations. Let's list some of them:\n",
    "- Internal Energy\n",
    "$$\\langle E \\rangle =\\sum_\\sigma E \\frac{e^{-\\beta E}}{Z}$$\n",
    "- Magnetization\n",
    "$$\\langle M \\rangle =\\sum_\\sigma \\left(\\sum_{i=0}^{N-1} \\sigma_i\\right) \\frac{e^{-\\beta E}}{Z}$$\n",
    "The symmetry $\\sigma\\to -\\sigma$ of the energy imposes $\\langle M \\rangle=0$ at all temperatures. For our porpouses it is more convenient to define\n",
    "$$\\langle |M| \\rangle =\\sum_\\sigma   \\left|\\left(\\sum_{i=0}^{N-1} \\sigma_i\\right) \\right| \\frac{e^{-\\beta E}}{Z}$$\n",
    "- The specific heat\n",
    "$$c_V=\\frac{1}{N} \\frac{\\partial \\langle E\\rangle}{\\partial T} =\\frac{\\beta^2}{N} \\left( \\langle E^2\\rangle -\\langle E \\rangle^2\\right)$$\n",
    "\n",
    "### Numerical strategy 1: Exact Enumeration\n",
    "\n",
    "The first strategy we can use is exact enumeration.\n",
    "\n",
    "* How many possible energy we have in a system of $N$ spins? (in d=2 square lattive with periodic boundary conditions energies goes from $-2 E$ to $2 E$)\n",
    "\n",
    "The complexity of this technique is exponential in the system size. \n",
    "A central quantity to compute is the number of configurations at energy $E$, namely ${\\cal N}(E)$. If ${\\cal N}(E)$ is known, many thermodynamic quantities can be re-organized in a sum of a small number of terms. For example:\n",
    "$$Z= \\sum_E {\\cal N}(E) e^{-\\beta E}$$\n",
    "\n",
    "* How many terms you have in this sum?\n",
    "\n",
    "The best algorithm to enumerate binary variables is the Gray Code. In the Gray code sequence two successive configuations differ in only one bit. \n",
    "A python implementation of the Gray code  <a href=\"http://introcs.cs.princeton.edu/python/23recursion/graycode.py.html\"> graycode.py</a>  can be found below:\n"
   ]
  },
  {
   "cell_type": "code",
   "execution_count": null,
   "metadata": {
    "colab": {
     "base_uri": "https://localhost:8080/",
     "height": 173
    },
    "executionInfo": {
     "elapsed": 1034,
     "status": "ok",
     "timestamp": 1601017816916,
     "user": {
      "displayName": "alberto rosso",
      "photoUrl": "https://lh3.googleusercontent.com/a-/AOh14GgcMnA2KXMuTDAWJDEZSFeKNr5sswpemVX-6bvz=s64",
      "userId": "12597736985953216783"
     },
     "user_tz": -120
    },
    "id": "8kuwxsxyTCxK",
    "outputId": "855ade64-e81c-4436-ceff-2ec86b35e6c5"
   },
   "outputs": [
    {
     "name": "stdout",
     "output_type": "stream",
     "text": [
      "[''] 1\n",
      "[''] 1\n",
      "['0', '1'] 2\n",
      "['1', '0'] 2\n",
      "['00', '10', '11', '01'] 4\n",
      "['01', '11', '10', '00'] 4\n",
      "['000', '100', '110', '010', '011', '111', '101', '001'] 8\n",
      "['001', '101', '111', '011', '010', '110', '100', '000'] 8\n",
      "['0000', '1000', '1100', '0100', '0110', '1110', '1010', '0010', '0011', '1011', '1111', '0111', '0101', '1101', '1001', '0001']\n"
     ]
    }
   ],
   "source": [
    "def genCode(n):\n",
    "    if n == 0:\n",
    "        return ['']\n",
    "    \n",
    "    code1 = genCode(n-1)\n",
    "    print (code1, len(code1))\n",
    "    code2 = []\n",
    "    for codeWord in code1:\n",
    "        code2 = [codeWord] + code2\n",
    "    print (code2,len(code2))    \n",
    "    for i in range(len(code1)):\n",
    "        code1[i] += '0'\n",
    "    for i in range(len(code2)):\n",
    "        code2[i] += '1'\n",
    "    return code1 + code2  \n",
    "\n",
    "n = 4\n",
    "code = genCode(n)\n",
    "print (code)\n",
    "\n"
   ]
  },
  {
   "cell_type": "markdown",
   "metadata": {
    "id": "IRro-qlITCxW"
   },
   "source": [
    "Even with this excellent method, exact enumeration remains a task which grows exponentially with the system size. We are constrained to systems with less then $N=40$ spins."
   ]
  },
  {
   "cell_type": "markdown",
   "metadata": {
    "id": "Mx8feqODTCxb"
   },
   "source": [
    "### Numerical strategy 2:  The Monte Carlo\n",
    "\n",
    "For concretness we set $J=1$ and focus on the  $d=2$ Ising model defined square lattice. From Onsager's exact solution we know that the ferromagnetic transition occurs at\n",
    "$$\\beta_c= \\frac{\\ln(1+\\sqrt{2})}{2}=0.44407\\ldots$$\n",
    "\n",
    "* Step 1: Let us first define the list of neghbours in  the $d=2$ lattice of side $L$. \n",
    "\n",
    "The function neighbors determines which sites of the lattice are the neighbors (right, up, left, down) of the current site."
   ]
  },
  {
   "cell_type": "code",
   "execution_count": null,
   "metadata": {
    "id": "70RUb0MBTCxc"
   },
   "outputs": [],
   "source": [
    "def neighbors(i, j , L):\n",
    "    return [ ((i+1)%L, j), ((i-1)%L, j), (i, (j+1)%L), (i, (j-1)%L) ]"
   ]
  },
  {
   "cell_type": "markdown",
   "metadata": {
    "id": "Of5eTvaETCxj"
   },
   "source": [
    "An idea for plotting configurations. "
   ]
  },
  {
   "cell_type": "code",
   "execution_count": 3,
   "metadata": {
    "colab": {
     "base_uri": "https://localhost:8080/",
     "height": 283
    },
    "executionInfo": {
     "elapsed": 250,
     "status": "ok",
     "timestamp": 1632426545114,
     "user": {
      "displayName": "alberto rosso",
      "photoUrl": "https://lh3.googleusercontent.com/a-/AOh14GgcMnA2KXMuTDAWJDEZSFeKNr5sswpemVX-6bvz=s64",
      "userId": "12597736985953216783"
     },
     "user_tz": -120
    },
    "id": "kii1NA7kTCxl",
    "outputId": "482de271-375b-4be9-ed9f-1b7604e096a3",
    "scrolled": true
   },
   "outputs": [
    {
     "data": {
      "text/plain": [
       "<matplotlib.image.AxesImage at 0x7f14fb36c510>"
      ]
     },
     "execution_count": 3,
     "metadata": {},
     "output_type": "execute_result"
    },
    {
     "data": {
      "image/png": "[encoded data removed]",
      "text/plain": [
       "<Figure size 432x288 with 1 Axes>"
      ]
     },
     "metadata": {
      "needs_background": "light"
     },
     "output_type": "display_data"
    }
   ],
   "source": [
    "import numpy as np\n",
    "import itertools as it\n",
    "import matplotlib.pylab as plt\n",
    "L = 20\n",
    "spin_configuration = np.random.choice([-1,1], size=(L,L))\n",
    "#print(spin_configuration)\n",
    "plt.imshow(spin_configuration)"
   ]
  },
  {
   "cell_type": "markdown",
   "metadata": {
    "id": "-ZpLuiBATCxr"
   },
   "source": [
    "### Algorithm 1: Standard Metropolis\n",
    "\n",
    "* Think how it should be defined and prove that it works\n",
    "\n",
    "* For the implementation, it is convenient to define the molecular field acting on the spin $k$:\n",
    "$$ h= \\sum_j \\sigma_j \\quad \\text{with} \\; j\\; \\text{nearest neighbour of} \\; k  $$\n"
   ]
  },
  {
   "cell_type": "markdown",
   "metadata": {
    "id": "SwZ8rtn_TCxz"
   },
   "source": [
    "### <center> Metroplis - Hastings </center>\n",
    "\n",
    "The detailed balance condition writes\n",
    "$$ \\pi(a) p_{a \\to b} = \\pi(b) p_{b \\to a}$$\n",
    "But we should be carful: the MCMC dynamics is not connecting $a$ with any configuration $b$. ONLY a tiny fraction of configuration $b$ is dynamically connected to $a$. We can define the a priori probability, ${\\cal A}_{a \\to b}$.\n",
    "\n",
    "${\\cal A}_{a \\to b}$ is zero if the configuration $b$ cannot be proposed starting from $a$ and gives the probability to propose the configuration $b$ otherwise. Note that\n",
    "$$p_{b \\to a}= p_{a \\to b}^{\\text{acc.}} {\\cal A}_{a \\to b}$$\n",
    "and the probability of accpeting the move is then given by the Metropolis-Hastings prescription:\n",
    "$$ p_{a \\to b}^{\\text{acc.}}=\\min(1,\\frac{\\pi(b) {\\cal A}_{b \\to a}}{\\pi(a)\\, {\\cal A}_{a \\to b} })$$\n",
    "\n",
    "* In standard Metropolis we take ${\\cal A}_{b \\to a}= {\\cal A}_{a \\to b}$\n",
    "\n",
    "Below we find two algorithms that take different prescriptions: the Heat Bath and the Cluster"
   ]
  },
  {
   "cell_type": "markdown",
   "metadata": {
    "id": "t3EI7tFqTCx0"
   },
   "source": [
    "### Algorithm 2: Heat bath\n",
    "In the heat bath the select spin is thermalized at the temperature $\\beta$ and the molecular field $h$. The important quantity is\n",
    "$$\\pi_+= \\frac{1}{1+e^{- 2\\beta h}} \\quad \\pi_-= \\frac{1}{1+e^{ 2\\beta h}}$$\n",
    "* Note that the algorithm is rejection free\n",
    "* Prove that it works"
   ]
  },
  {
   "cell_type": "markdown",
   "metadata": {
    "id": "uMRF9Q9OTCx7"
   },
   "source": [
    "### Algorithm 3: Cluster Algorithm\n",
    "\n",
    "Single-spin-flip Monte Carlo algorithms are slow close to $T_c$, because the histogram of essential values of the magnetization is wide and the step width of the magnetization is small. To sample faster, we must foster moves which change the magnetization by more than $\\pm 2$. However, using the single-spin-flip algorithm in parallel, on several sites at a time, only hikes up the rejection rate. Neither can we, so to speak, solidly connect all neighboring spins of the same orientation and flip them all at once. Doing so would quickly lead to a perfectly aligned state, from which there would be no escape.\n",
    "Swendsen - Wang and Wolff,\n",
    "have proposed a cluster algorithm, which has been the role models for about a generation of research.\n",
    "\n",
    "Starting from an initial site $k$, one adds neighboring sites with probability p until the construction stops. \n",
    "* Show that for $p=1-e^{-2 \\beta}$ the costruction becomes rejection free. \n",
    "\n",
    "In the Wolff implementation one just flip sthe constructed cluster (see code below). In the Swendsen and Wang version all spins are grouped in clusters so that each spin belong to a given cluster. Then it pick one cluster at random ad flip it. Both version are useful.\n",
    "\n",
    "* Which one has a shorter correlation time?"
   ]
  },
  {
   "cell_type": "code",
   "execution_count": 4,
   "metadata": {
    "executionInfo": {
     "elapsed": 185,
     "status": "ok",
     "timestamp": 1632427001270,
     "user": {
      "displayName": "alberto rosso",
      "photoUrl": "https://lh3.googleusercontent.com/a-/AOh14GgcMnA2KXMuTDAWJDEZSFeKNr5sswpemVX-6bvz=s64",
      "userId": "12597736985953216783"
     },
     "user_tz": -120
    },
    "id": "0WiwS6LOTCx8"
   },
   "outputs": [],
   "source": [
    "def wolff(config, T):\n",
    "    \n",
    "    # pick a site\n",
    "    L = config.shape[0]\n",
    "    i, j = np.random.randint(L, size=2)\n",
    "    border = [(i,j)]\n",
    "    cluster = [(i,j)]\n",
    "    n_cluster = 1\n",
    "    \n",
    "    # inclusion probability\n",
    "    beta = 1 / T\n",
    "    p = 1.0 - np.exp(-2.0 * beta)\n",
    "\n",
    "    # grow the cluster\n",
    "    while border != []:\n",
    "        i, j = border.pop()\n",
    "        for u, v in neighbors(i, j, L):\n",
    "            if config[u,v] == config[i,j] and (u,v) not in cluster and np.random.rand() < p:\n",
    "                border.append((u,v))\n",
    "                cluster.append((u,v))\n",
    "                n_cluster += 1\n",
    "\n",
    "    # flip the spins in the cluster\n",
    "    for i, j in cluster: \n",
    "        config[i,j] *= -1\n"
   ]
  },
  {
   "cell_type": "markdown",
   "metadata": {
    "id": "QnUtVMj1TCyB"
   },
   "source": [
    "References\n",
    "\n",
    "* R. H. Swendsen, J. S. Wang (1987) Nonuniversal critical-dynamics in\n",
    "Monte-Carlo simulations, Physical Review Letters 58, 86–88\n",
    "* U. Wolff (1989) Collective Monte-Carlo updating for spin systems, Physical Review Letters 62, 361–364\n",
    "* SMAC pag. 257"
   ]
  }
 ],
 "metadata": {
  "colab": {
   "name": "Lecture4.ipynb",
   "provenance": []
  },
  "kernelspec": {
   "display_name": "Python 3 (ipykernel)",
   "language": "python",
   "name": "python3"
  },
  "language_info": {
   "codemirror_mode": {
    "name": "ipython",
    "version": 3
   },
   "file_extension": ".py",
   "mimetype": "text/x-python",
   "name": "python",
   "nbconvert_exporter": "python",
   "pygments_lexer": "ipython3",
   "version": "3.9.12"
  }
 },
 "nbformat": 4,
 "nbformat_minor": 1
}
