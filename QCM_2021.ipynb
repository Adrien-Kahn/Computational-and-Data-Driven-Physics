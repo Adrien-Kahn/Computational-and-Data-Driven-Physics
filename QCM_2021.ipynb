{
 "cells": [
  {
   "cell_type": "markdown",
   "metadata": {
    "id": "aoSc2w8WzWgo"
   },
   "source": [
    "# <center> QCM of CoDaDri - Academic Year 2021/2022 - 12th November 2021</center>\n",
    "\n",
    "## Rules of the game\n",
    "\n",
    "Before starting, here it is a short  summary of things that you should know. In the following, there are 19 questions. For each question you have four choices: three are wrong and one is correct. If you check the correct one you get a point, but if you are wrong you lose half a point. No answer zero points. Good Luck!\n"
   ]
  },
  {
   "cell_type": "markdown",
   "metadata": {
    "id": "ZwLHrA4tzWgq"
   },
   "source": [
    "- **Trial Question:**\n",
    "\n",
    "Consider the following programs:\n"
   ]
  },
  {
   "cell_type": "code",
   "execution_count": 1,
   "metadata": {
    "id": "JBBVcGCTzWgr"
   },
   "outputs": [
    {
     "name": "stdout",
     "output_type": "stream",
     "text": [
      "0\n",
      "1\n",
      "2\n",
      "3\n",
      "4\n",
      "5\n",
      "6\n",
      "7\n",
      "8\n",
      "9\n"
     ]
    }
   ],
   "source": [
    "#Program A:\n",
    "\n",
    "for i in range(10):\n",
    "    print (i)"
   ]
  },
  {
   "cell_type": "code",
   "execution_count": 2,
   "metadata": {
    "id": "DrAu9z59zWgs"
   },
   "outputs": [
    {
     "ename": "IndentationError",
     "evalue": "expected an indented block (4179679280.py, line 4)",
     "output_type": "error",
     "traceback": [
      "\u001b[1;36m  Input \u001b[1;32mIn [2]\u001b[1;36m\u001b[0m\n\u001b[1;33m    print (i)\u001b[0m\n\u001b[1;37m    ^\u001b[0m\n\u001b[1;31mIndentationError\u001b[0m\u001b[1;31m:\u001b[0m expected an indented block\n"
     ]
    }
   ],
   "source": [
    "#Program B:\n",
    "\n",
    "for i in range(10):\n",
    "print (i)"
   ]
  },
  {
   "cell_type": "markdown",
   "metadata": {
    "id": "1Zv-y_tbzWgt"
   },
   "source": [
    "Which of the above programs (A, B) prints all integers from \n",
    "0 to 9 (including these numbers)?\n",
    "\n",
    "[a] Program A does the job.\n",
    "\n",
    "[b] Program B does the job.\n",
    "\n",
    "[c] Both Program A and Program B do the job.\n",
    "\n",
    "[d] All programs are  wrong."
   ]
  },
  {
   "cell_type": "markdown",
   "metadata": {
    "id": "iJfmx1_FzWgu"
   },
   "source": [
    "If you check [a] - correct answer. [+ 1 point]\n",
    "If you check [b] - wrong answer (indentation missing). [-0.25 points]\n",
    "If you check [c] - wrong answer. [-0.25 points]\n",
    "if you check [d] - wrong answer. [-0.25 points]\n",
    "\n",
    "---"
   ]
  },
  {
   "cell_type": "markdown",
   "metadata": {
    "id": "3g93q4jfzWgu"
   },
   "source": [
    "**Question 1**\n",
    "\n",
    "Your goal is to sample evenly the population of 9 possible positions. Consider a Markov chain strategy with a Random Surfer moving at each time-step from its position to a new one, uniformly selected from a list of neighbors. Consider the following  neighbor list: "
   ]
  },
  {
   "cell_type": "code",
   "execution_count": 29,
   "metadata": {
    "id": "NU61nuSPzWgv"
   },
   "outputs": [
    {
     "name": "stdout",
     "output_type": "stream",
     "text": [
      "[6, 3, 1, 4, 5, 4, 1, 4, 1, 2]\n"
     ]
    }
   ],
   "source": [
    "import random\n",
    "neighbor = {1 : [2, 4, 2, 4], 2 : [1, 3, 5, 1], 3 : [2, 6, 2, 1],\n",
    "            4 : [5, 1, 5, 1], 5 : [6, 8, 4, 2], 6 : [9, 9, 5, 3],\n",
    "            7 : [8, 4, 9, 4], 8 : [9, 7, 7, 5], 9 : [6, 8, 8, 6]}\n",
    "\n",
    "all_pos = []\n",
    "N_trials = 10\n",
    "pos = 9\n",
    "for iter in range(N_trials):\n",
    "    pos = random.choice(neighbor[pos])\n",
    "    all_pos.append(pos)\n",
    "print(all_pos)   "
   ]
  },
  {
   "cell_type": "markdown",
   "metadata": {
    "collapsed": true,
    "id": "BD9DHZcdzWgw"
   },
   "source": [
    "[a] The Markov Chain reaches the correct stationary state and the detailed balance is satisfied.\n",
    "\n",
    "[b] The Markov Chain reaches the correct stationary state, but only the global balance is satified.\n",
    "\n",
    "[c] The Markov Chain does not satisfy the global balance.\n",
    "\n",
    "[d] The stationary state is correct, but it is not reached because the Markov Chain is periodic."
   ]
  },
  {
   "cell_type": "markdown",
   "metadata": {
    "id": "ymbibi-fzWgw"
   },
   "source": [
    "**Question 2**\n",
    "\n",
    "Your goal is to sample evenly the population of 9 possible positions. Consider a Markov chain strategy with a Random Surfer moving at each time-step from its position to a new one, uniformly selected from a list of neighbors. Consider the two following neighbor lists: "
   ]
  },
  {
   "cell_type": "code",
   "execution_count": 2,
   "metadata": {
    "id": "WYkKWnwYzWgx"
   },
   "outputs": [
    {
     "name": "stdout",
     "output_type": "stream",
     "text": [
      "[1, 2, 3, 4, 5, 6, 7, 8, 9, 1]\n"
     ]
    }
   ],
   "source": [
    "import random\n",
    "neighbor_1 =  {1 : [2], 2 : [3], 3 : [4], 4 : [5], 5 : [6], 6 : [7], 7 : [8], 8 : [9], 9 : [1]}\n",
    "\n",
    "neighbor_2 =  {1 : [2, 2, 1], 2 : [3, 3, 2], 3 : [4, 4, 3], 4 : [5, 5, 4], 5 : [6, 6, 5],\n",
    "               6 : [7, 7, 6], 7 : [8, 8, 7], 8 : [9, 9, 8], 9: [1, 1, 9]}\n",
    "all_pos = []\n",
    "N_trials = 10\n",
    "pos = 9\n",
    "for iter in range(N_trials):\n",
    "    pos = random.choice(neighbor_1[pos])\n",
    "    all_pos.append(pos)\n",
    "print(all_pos)    "
   ]
  },
  {
   "cell_type": "markdown",
   "metadata": {
    "id": "4L9BaOyyzWgy"
   },
   "source": [
    "[a] neighbor_1 and neighbor_2 satisfy the detailed balance condition. \n",
    "\n",
    "[b] neighbor_1 and neighbor_2 satisfy the global balance condition.\n",
    "\n",
    "[c] Using neighbor_2 the stationary state is correct, but it is not reached because the Markov Chain is periodic.\n",
    "\n",
    "[d] Only neighbor_1 is correct as it satisfies the global balance condition and it is aperiodic."
   ]
  },
  {
   "cell_type": "markdown",
   "metadata": {
    "id": "DQwkjvZ-zWgy"
   },
   "source": [
    "**Question 3**\n",
    "\n",
    "Your goal is to sample evenly the population of 9 possible positions. Consider a Markov chain strategy with a Random Surfer moving at each time-step from its position to a new one, uniformely selected from a list of neighbors. Consider the following program:"
   ]
  },
  {
   "cell_type": "code",
   "execution_count": 19,
   "metadata": {
    "id": "ZjzPr72rzWgz"
   },
   "outputs": [],
   "source": [
    "import random\n",
    "neighbor = {1 : [2, 4, 1, 1], 2 : [3, 5, 1, 2], 3 : [3, 6, 2, 3],\n",
    "            4 : [5, 7, 4, 1], 5 : [6, 8, 4, 2], 6 : [6, 9, 5, 3],\n",
    "            7 : [8, 7, 7, 4], 8 : [9, 8, 7, 5], 9 : [9, 9, 8, 6]}\n",
    "all_pos = []\n",
    "N_trials = 10\n",
    "pos = 9\n",
    "for iter in range(N_trials):\n",
    "    Epsilon = random.uniform(0.0, 1.0)\n",
    "    if  Epsilon < 0.25 :\n",
    "        pos = neighbor[pos][0]\n",
    "    elif(Epsilon < 0.5) :\n",
    "        pos = neighbor[pos][1]\n",
    "    elif(Epsilon < 0.75) :\n",
    "        pos = neighbor[pos][2]\n",
    "    else:\n",
    "        pos = neighbor[pos][3]\n",
    "    all_pos.append(pos) "
   ]
  },
  {
   "cell_type": "code",
   "execution_count": 30,
   "metadata": {},
   "outputs": [],
   "source": [
    "import numpy as np\n",
    "m = np.zeros((9,9))\n",
    "for i in neighbor:\n",
    "    for j in neighbor[i]:\n",
    "        m[j-1,i-1] += 1/4"
   ]
  },
  {
   "cell_type": "code",
   "execution_count": 34,
   "metadata": {},
   "outputs": [
    {
     "data": {
      "text/plain": [
       "array([[0.  , 0.5 , 0.25, 0.5 , 0.  , 0.  , 0.  , 0.  , 0.  ],\n",
       "       [0.5 , 0.  , 0.5 , 0.  , 0.25, 0.  , 0.  , 0.  , 0.  ],\n",
       "       [0.  , 0.25, 0.  , 0.  , 0.  , 0.25, 0.  , 0.  , 0.  ],\n",
       "       [0.5 , 0.  , 0.  , 0.  , 0.25, 0.  , 0.5 , 0.  , 0.  ],\n",
       "       [0.  , 0.25, 0.  , 0.5 , 0.  , 0.25, 0.  , 0.25, 0.  ],\n",
       "       [0.  , 0.  , 0.25, 0.  , 0.25, 0.  , 0.  , 0.  , 0.5 ],\n",
       "       [0.  , 0.  , 0.  , 0.  , 0.  , 0.  , 0.  , 0.5 , 0.  ],\n",
       "       [0.  , 0.  , 0.  , 0.  , 0.25, 0.  , 0.25, 0.  , 0.5 ],\n",
       "       [0.  , 0.  , 0.  , 0.  , 0.  , 0.5 , 0.25, 0.25, 0.  ]])"
      ]
     },
     "execution_count": 34,
     "metadata": {},
     "output_type": "execute_result"
    }
   ],
   "source": [
    "m"
   ]
  },
  {
   "cell_type": "code",
   "execution_count": 33,
   "metadata": {},
   "outputs": [
    {
     "data": {
      "text/plain": [
       "False"
      ]
     },
     "execution_count": 33,
     "metadata": {},
     "output_type": "execute_result"
    }
   ],
   "source": [
    "(m == m.T).all()"
   ]
  },
  {
   "cell_type": "code",
   "execution_count": 24,
   "metadata": {},
   "outputs": [
    {
     "data": {
      "text/plain": [
       "array([-0.33333333, -0.33333333, -0.33333333, -0.33333333, -0.33333333,\n",
       "       -0.33333333, -0.33333333, -0.33333333, -0.33333333])"
      ]
     },
     "execution_count": 24,
     "metadata": {},
     "output_type": "execute_result"
    }
   ],
   "source": [
    "eigvals, eigvecs = np.linalg.eig(m)\n",
    "eigvecs[:,1]"
   ]
  },
  {
   "cell_type": "code",
   "execution_count": 23,
   "metadata": {},
   "outputs": [
    {
     "data": {
      "text/plain": [
       "array([-5.00000000e-01,  1.00000000e+00,  7.50000000e-01, -6.48486233e-17,\n",
       "        5.00000000e-01,  2.50000000e-01,  7.50000000e-01, -5.30310388e-17,\n",
       "        2.50000000e-01])"
      ]
     },
     "execution_count": 23,
     "metadata": {},
     "output_type": "execute_result"
    }
   ],
   "source": [
    "eigvals"
   ]
  },
  {
   "cell_type": "markdown",
   "metadata": {
    "id": "cbVgFL6-zWg0"
   },
   "source": [
    "**[a] The Markov Chain reaches the correct stationary state and the detailed balance is satisfied.**\n",
    "\n",
    "[b] The Markov Chain reaches the correct stationary state, but only the global balance is satified.\n",
    "\n",
    "[c] The Markov Chain does not satisfy the global balance.\n",
    "\n",
    "[d] The stationary state is correct, but it is not reached because the Markov Chain is periodic."
   ]
  },
  {
   "cell_type": "markdown",
   "metadata": {
    "id": "b716xqtmzWg1"
   },
   "source": [
    "**Question 4**\n",
    "\n",
    "Your goal is to sample a **weighted** population of 9 possible positions. Let's test your understanding of Metropolis! Consider the following programs "
   ]
  },
  {
   "cell_type": "code",
   "execution_count": null,
   "metadata": {
    "collapsed": true,
    "id": "yJyYNVeGzWg2"
   },
   "outputs": [],
   "source": [
    "import random, math\n",
    "neighbor = {1 : [2, 4, 1, 1], 2 : [3, 5, 1, 2], 3 : [3, 6, 2, 3],\n",
    "            4 : [5, 7, 4, 1], 5 : [6, 8, 4, 2], 6 : [6, 9, 5, 3],\n",
    "            7 : [8, 7, 7, 4], 8 : [9, 8, 7, 5], 9 : [9, 9, 8, 6]}\n",
    "weight=[1, 3, 2, 1, 2, 2, 3, 1, 1]\n",
    "all_pos = []\n",
    "N_trials = 10\n",
    "pos = 9\n",
    "#Program 1\n",
    "for iter in range(N_trials):\n",
    "    newpos = random.choice(neighbor[pos])\n",
    "    if random.uniform(0.0, 1.0) < weight(newpos) / weight(pos): \n",
    "        pos = new_pos\n",
    "        all_pos.append(pos)\n",
    "        \n",
    "#Program 2\n",
    "for iter in range(N_trials):\n",
    "    newpos = random.choice(neighbor[pos])\n",
    "    if random.uniform(0.0, 1.0) < weight(newpos) / weight(pos): \n",
    "        pos = new_pos\n",
    "    all_pos.append(pos)\n",
    "    a\n",
    "#Program 3\n",
    "for iter in range(N_trials):\n",
    "    newpos = random.choice(neighbor[pos])\n",
    "    if random.uniform(0.0, 1.0) < weight(pos) / weight(newpos): \n",
    "        pos = new_pos\n",
    "        all_pos.append(pos) "
   ]
  },
  {
   "cell_type": "markdown",
   "metadata": {
    "id": "PHxrc7gMzWg2"
   },
   "source": [
    "[a] Program 1 is a correct implementation of Metropolis\n",
    "\n",
    "**[b] Program 2 is a correct implementation of Metropolis**\n",
    "\n",
    "[c] Program 3 is a correct implementation of Metropolis\n",
    "\n",
    "[d] The 3 programs are not a correct \n"
   ]
  },
  {
   "cell_type": "markdown",
   "metadata": {
    "id": "raPh3PsbzWg3"
   },
   "source": [
    "**Question 5**\n",
    "\n",
    "Your goal is to decide what to do tonight: go to the party at 358 rue the Pyrenees or study for the master? A judicious resolution is to select the second option three times more often than the first one."
   ]
  },
  {
   "cell_type": "code",
   "execution_count": null,
   "metadata": {
    "id": "UDoM_0YOzWg4"
   },
   "outputs": [],
   "source": [
    "import random\n",
    "# Program 1\n",
    "neighbor=['party', 'M2', 'M2', 'M2']\n",
    "for t in range(20):\n",
    "    print(random.choice(neighbor))\n",
    "    \n",
    "# Program 2\n",
    "for t in range(20):\n",
    "    choice='M2'\n",
    "    if random.uniform(0.0, 1.0) < 0.25: \n",
    "       choice='party'\n",
    "    print(choice)\n",
    "\n",
    "#Program 3\n",
    "for t in range(20):\n",
    "    choice='M2'\n",
    "    if random.uniform(0.0, 1.0) < 0.5: \n",
    "       choice='M2'\n",
    "    elif random.uniform(0.0, 1.0) < 0.5: \n",
    "       choice='party'\n",
    "    print(choice)"
   ]
  },
  {
   "cell_type": "markdown",
   "metadata": {
    "id": "qQn_k5p2zWg5"
   },
   "source": [
    "[a] Only program 1 is correct.\n",
    "\n",
    "[b] Both program 1 and 2 are correct, but 3 is wrong.\n",
    "\n",
    "[c] They are all wrong.\n",
    "\n",
    "**[d] They are all correct.**"
   ]
  },
  {
   "cell_type": "markdown",
   "metadata": {
    "id": "kprWW4CwzWg6"
   },
   "source": [
    "**Question 6**\n",
    "\n",
    "Your goal is to identify the probability density function (pdf) sampled by the code below."
   ]
  },
  {
   "cell_type": "code",
   "execution_count": 39,
   "metadata": {
    "id": "BBu_-joczWg6"
   },
   "outputs": [
    {
     "name": "stdout",
     "output_type": "stream",
     "text": [
      "\n"
     ]
    },
    {
     "data": {
      "image/png": "[encoded data removed]",
      "text/plain": [
       "<Figure size 432x288 with 1 Axes>"
      ]
     },
     "metadata": {
      "needs_background": "light"
     },
     "output_type": "display_data"
    }
   ],
   "source": [
    "import random\n",
    "import matplotlib.pyplot as plt\n",
    "l = [((random.random())**(1./2.)) for _ in range(1000000)]\n",
    "plt.hist(l, bins = 100, density=True)\n",
    "print()"
   ]
  },
  {
   "cell_type": "markdown",
   "metadata": {
    "id": "GNUbCb3azWg7"
   },
   "source": [
    "[a] $\\pi(x) = \\frac{3}{2} \\sqrt{x}$ with $0<x<1$ \n",
    "\n",
    "**[b] $\\pi(x) = 2 x$ with $0<x<1$**\n",
    "\n",
    "[c] $\\pi(x) = \\frac{2}{x^2}$ with $0<x<1$\n",
    "\n",
    "[d] $\\pi(x) = \\frac{1}{2 \\sqrt{x}}$ with $0<x<1$"
   ]
  },
  {
   "cell_type": "markdown",
   "metadata": {
    "id": "Ps_izVCCzWg7"
   },
   "source": [
    "**Question 7**\n",
    "\n",
    "Your goal is to sample points uniformly distributed on a unit sphere. "
   ]
  },
  {
   "cell_type": "code",
   "execution_count": null,
   "metadata": {
    "id": "tUoMtwgxzWg8"
   },
   "outputs": [],
   "source": [
    "import random, math\n",
    "#Program 1:\n",
    "for t in range(1):\n",
    "    r = [random.gauss(-1.,1.), random.gauss(-1.,1.), random.gauss(-1.,1.)]\n",
    "    norm=math.sqrt(r[0]**2+r[1]**2+r[2]**2)\n",
    "    r=[a/norm for a in r]\n",
    "    print (r)\n",
    "    \n",
    "# Program 2:\n",
    "for t in range(1):\n",
    "    r = [random.uniform(-1, 1), random.uniform(-1, 1),random.uniform(-1, 1)]\n",
    "    norm=math.sqrt(r[0]**2 + r[1]**2 + r[2]**2)\n",
    "    r=[a/norm for a in r]\n",
    "    print (r)\n",
    "\n",
    "# Program 3    \n",
    "for t in range(1): \n",
    "    r = [random.uniform(-1, 1), random.uniform(-1, 1),random.uniform(-1, 1)]\n",
    "    norm=math.sqrt(r[0]**2 + r[1]**2 + r[2]**2)\n",
    "    if  norm  < 1: \n",
    "        r=[a/norm for a in r]\n",
    "        print (r)"
   ]
  },
  {
   "cell_type": "markdown",
   "metadata": {
    "id": "qtU8VRrwzWg9"
   },
   "source": [
    "[a] Both program 1 and 3 are wrong, but 2 is correct.\n",
    "\n",
    "**[b] Both program 1 and 2 are wrong, but 3 is correct.**\n",
    "\n",
    "[c] Both program 2 and 3 are wrong, but 1 is correct.\n",
    "\n",
    "[d] They are all wrong."
   ]
  },
  {
   "cell_type": "markdown",
   "metadata": {
    "id": "v9nSXrxIzWg9"
   },
   "source": [
    "**Question 8**\n",
    "\n",
    "Your goal is to find the maximal energy for a polymer connecting the position $(0,0)$ to the position $(T,0)$. We consider the model of directed polymer in random media defined in Lecture 5 and write the program you find below."
   ]
  },
  {
   "cell_type": "code",
   "execution_count": 40,
   "metadata": {
    "id": "JUDBl5RRzWg-"
   },
   "outputs": [
    {
     "name": "stdout",
     "output_type": "stream",
     "text": [
      "118\n"
     ]
    }
   ],
   "source": [
    "import numpy as np\n",
    "T  =  120\n",
    "E = [-np.infty for n in range(-T,T-1)]\n",
    "E[0] = 0\n",
    "for time in range(1,T) :\n",
    "    for n in range(time+1) :\n",
    "        x = time - 2*n\n",
    "        E[x] = max(E[x-1],E[x+1]) + 1\n",
    "print(E[0])        "
   ]
  },
  {
   "cell_type": "markdown",
   "metadata": {
    "id": "fFd7eV31zWg-"
   },
   "source": [
    "**[a] The program finds the exact value we are looking for.**\n",
    "\n",
    "[b] The program finds an upper bound of the value we are looking for.\n",
    "\n",
    "[c] The program finds a lower bound of the value we are looking for.\n",
    "\n",
    "[d] The program finds a good approximation (but not a bound) of the value we are looking for."
   ]
  },
  {
   "cell_type": "markdown",
   "metadata": {
    "id": "BS4L_ZgvzWg-"
   },
   "source": [
    "**Question 9**\n",
    "\n",
    "Your goal is to find the energy with minimal absolute value of the energy for a polymer connecting the position $(0,0)$ to the position $(T,0)$. We consider the model of directed polymer in random media defined in Lecture 5 and write the program you find below."
   ]
  },
  {
   "cell_type": "code",
   "execution_count": null,
   "metadata": {
    "id": "cWrzSOSPzWg_"
   },
   "outputs": [],
   "source": [
    "import numpy as np\n",
    "T  =  120\n",
    "E = [-np.infty for n in range(-T,T-1)]\n",
    "E[0] = 0\n",
    "for time in range(1,T) :\n",
    "    for n in range(time+1) :\n",
    "        x = time - 2*n\n",
    "        Eold=E[x-1]\n",
    "        if  abs(E[x-1])>abs(E[x+1]):\n",
    "            Eold=E[x+1]\n",
    "        E[x] = Eold + np.random.randn()\n",
    "print(abs(E[0]))        "
   ]
  },
  {
   "cell_type": "markdown",
   "metadata": {
    "id": "dpS-LQlXzWhA"
   },
   "source": [
    "[a] The program finds the exact value we are looking for.\n",
    "\n",
    "**[b] The program finds an upper bound of the value we are looking for.**\n",
    "\n",
    "[c] The program finds a lower bound of the value we are looking for.\n",
    "\n",
    "[d] The program finds a good approximation (but not a bound) of the value we are looking for."
   ]
  },
  {
   "cell_type": "markdown",
   "metadata": {
    "collapsed": true,
    "id": "4kW3OFApzWhB"
   },
   "source": [
    "**Question 10**\n",
    "\n",
    "Your goal is to sample points uniformly distributed on a unit circle. "
   ]
  },
  {
   "cell_type": "code",
   "execution_count": null,
   "metadata": {
    "id": "n1GkBfHSzWhC"
   },
   "outputs": [],
   "source": [
    "import random, math\n",
    "#Program 1:\n",
    "for t in range(1):\n",
    "    r = [random.gauss(0.,1.), random.gauss(0.,1.)]\n",
    "    norm=math.sqrt(r[0]**2+r[1]**2)\n",
    "    r=[a/norm for a in r]\n",
    "    print (r)\n",
    "    \n",
    "# Program 2:\n",
    "for t in range(1):\n",
    "    phi=random.uniform(0, 2*math.pi)\n",
    "    r = [math.cos(phi), math.sin(phi)]\n",
    "    print (r)\n",
    "\n",
    "# Program 3     \n",
    "for t in range(1):\n",
    "    phi=random.uniform(0, 2*math.pi)\n",
    "    r = [math.sin(phi), math.cos(phi)]\n",
    "    print (r)"
   ]
  },
  {
   "cell_type": "markdown",
   "metadata": {
    "id": "ez1kflvSzWhD"
   },
   "source": [
    "[a] Only program 1 is correct.\n",
    "\n",
    "[b] Both program 2 and 3 are correct, but 1 is wrong.\n",
    "\n",
    "**[c] They are all correct.**\n",
    "\n",
    "[d] They are all wrong"
   ]
  },
  {
   "cell_type": "code",
   "execution_count": 58,
   "metadata": {},
   "outputs": [],
   "source": [
    "l = []\n",
    "for _ in range(1000000):\n",
    "    r = [random.gauss(0.,1.), random.gauss(0.,1.)]\n",
    "    norm=np.linalg.norm(r)\n",
    "    r=[a/norm for a in r]\n",
    "    l.append(r)\n",
    "l_theta = [np.arccos(x[0]) for x in l]"
   ]
  },
  {
   "cell_type": "code",
   "execution_count": 59,
   "metadata": {},
   "outputs": [
    {
     "data": {
      "text/plain": [
       "(array([0.31891539, 0.31894723, 0.31613018, 0.31804004, 0.31652807,\n",
       "        0.32047512, 0.3171806 , 0.31746708, 0.31684638, 0.31686229,\n",
       "        0.31775356, 0.31963159, 0.3165599 , 0.31743525, 0.3188199 ,\n",
       "        0.31422031, 0.31579595, 0.3230216 , 0.31971117, 0.31619384,\n",
       "        0.31229453, 0.32090484, 0.3165599 , 0.31950427, 0.31959976,\n",
       "        0.31987033, 0.31796046, 0.31706919, 0.31714877, 0.31971117,\n",
       "        0.32139822, 0.32031596, 0.31904272, 0.3211754 , 0.31608243,\n",
       "        0.32150963, 0.31721243, 0.31724426, 0.3178968 , 0.31948835,\n",
       "        0.31839018, 0.31641666, 0.31972709, 0.31663947, 0.31775356,\n",
       "        0.31834244, 0.31749891, 0.31926554, 0.32055469, 0.32241681]),\n",
       " array([4.63179292e-06, 6.28363431e-02, 1.25668054e-01, 1.88499766e-01,\n",
       "        2.51331477e-01, 3.14163188e-01, 3.76994899e-01, 4.39826611e-01,\n",
       "        5.02658322e-01, 5.65490033e-01, 6.28321745e-01, 6.91153456e-01,\n",
       "        7.53985167e-01, 8.16816878e-01, 8.79648590e-01, 9.42480301e-01,\n",
       "        1.00531201e+00, 1.06814372e+00, 1.13097543e+00, 1.19380715e+00,\n",
       "        1.25663886e+00, 1.31947057e+00, 1.38230228e+00, 1.44513399e+00,\n",
       "        1.50796570e+00, 1.57079741e+00, 1.63362912e+00, 1.69646084e+00,\n",
       "        1.75929255e+00, 1.82212426e+00, 1.88495597e+00, 1.94778768e+00,\n",
       "        2.01061939e+00, 2.07345110e+00, 2.13628282e+00, 2.19911453e+00,\n",
       "        2.26194624e+00, 2.32477795e+00, 2.38760966e+00, 2.45044137e+00,\n",
       "        2.51327308e+00, 2.57610479e+00, 2.63893651e+00, 2.70176822e+00,\n",
       "        2.76459993e+00, 2.82743164e+00, 2.89026335e+00, 2.95309506e+00,\n",
       "        3.01592677e+00, 3.07875848e+00, 3.14159020e+00]),\n",
       " <BarContainer object of 50 artists>)"
      ]
     },
     "execution_count": 59,
     "metadata": {},
     "output_type": "execute_result"
    },
    {
     "data": {
      "image/png": "[encoded data removed]",
      "text/plain": [
       "<Figure size 432x288 with 1 Axes>"
      ]
     },
     "metadata": {
      "needs_background": "light"
     },
     "output_type": "display_data"
    }
   ],
   "source": [
    "plt.hist(l_theta, bins=50, density=True)"
   ]
  },
  {
   "cell_type": "markdown",
   "metadata": {
    "id": "L3P-LSKSzWhE"
   },
   "source": [
    "**Question 11**\n",
    "\n",
    "Your goal is to evaluate the following integral:\n",
    "$$ I(\\alpha)=\\int_0^1 dx\\, \\frac{\\exp(x)}{x^{\\alpha}} \\quad \\text{with} \\; 0<\\alpha<1$$\n",
    "Consider the program below"
   ]
  },
  {
   "cell_type": "code",
   "execution_count": 78,
   "metadata": {
    "id": "TpWiD4f4zWhF"
   },
   "outputs": [
    {
     "name": "stdout",
     "output_type": "stream",
     "text": [
      "alpha= 0.8 <I>= 5.8527005403208765 ,error = 0.03850485328433675\n"
     ]
    }
   ],
   "source": [
    "import random, math\n",
    "import numpy as np\n",
    "def O(x):\n",
    "    return math.exp(x)/x**alpha\n",
    "alpha = 0.8\n",
    "Ntrials=10000000\n",
    "L = []\n",
    "for t in range(Ntrials):\n",
    "    x=random.random()\n",
    "    L.append(O(x))\n",
    "print(\"alpha=\",alpha,\"<I>=\", np.mean(L), \",error =\", np.std(L)/math.sqrt(Ntrials))"
   ]
  },
  {
   "cell_type": "markdown",
   "metadata": {
    "id": "mqmI4F7pzWhG"
   },
   "source": [
    "\n",
    "[a] This is a naive strategy and the calculation never converges.\n",
    "\n",
    "**[b] It converges only for $\\alpha<1/2$, for $\\alpha>1/2$ the variance is divergent.**\n",
    "\n",
    "[c] It converges only for $\\alpha>1/2$, for $\\alpha<1/2$ the variance is divergent. \n",
    "\n",
    "[d] It converges with a finite variance for all $\\alpha \\in (0,1)$.\n"
   ]
  },
  {
   "cell_type": "markdown",
   "metadata": {
    "id": "VhUr6Z1nzWhG"
   },
   "source": [
    "**Question 12 (2 points)** \n",
    "\n",
    "Your goal is to evaluate the following integral:\n",
    "$$ I(\\alpha)=\\int_0^1 dx\\, \\frac{\\exp(x)}{x^{\\alpha}} \\quad \\text{with} \\; 0<\\alpha<1$$\n",
    "Use importance sampling with a bias $q(x)=\\frac{1-\\alpha}{x^\\alpha}$. Complete the program below and compute the integral for $\\alpha=0.8$ and $\\alpha=0.3$ with Ntrials=10000."
   ]
  },
  {
   "cell_type": "code",
   "execution_count": null,
   "metadata": {
    "collapsed": true,
    "id": "_ekoZyUozWhH"
   },
   "outputs": [],
   "source": [
    "import random, math\n",
    "import numpy as np\n",
    "alpha = 0.3\n",
    "Ntrials=10000\n",
    "L = []\n",
    "def O(x):\n",
    "    return #fill here\n",
    "for t in range(Ntrials):\n",
    "    x= #fill here\n",
    "    L.append(O(x))\n",
    "print(\"alpha=\",alpha,\"<I>=\", np.mean(L), \",error I=\", np.std(L)/math.sqrt(Ntrials))"
   ]
  },
  {
   "cell_type": "markdown",
   "metadata": {
    "id": "WPomdgbdzWhI"
   },
   "source": [
    "[a] $I(0.8) =6.1 \\pm 0.2$,  $I(0.3) =2.26 \\pm 0.01$\n",
    "\n",
    "[b] $I(0.8) =6.13 \\pm 0.02$,  $I(0.3) =2.2 \\pm 0.1$\n",
    "\n",
    "[c] $I(0.8) =6.12 \\pm 0.02$,  $I(0.3) =2.26 \\pm 0.01$\n",
    "\n",
    "[d] $I(0.8) =6.1 \\pm 0.2$,  $I(0.3) =2.2 \\pm 0.1$"
   ]
  },
  {
   "cell_type": "markdown",
   "metadata": {
    "id": "99pfLLl3zWhJ"
   },
   "source": [
    "**Question 13**\n",
    "\n",
    "Your goal is to evaluate the following integral:\n",
    "$$ I=\\int_{-\\infty}^{-10}     \\frac{dx}{\\sqrt{2 \\pi}}  \\, \\exp(-x^2/2) $$\n",
    "Use an exponential tilt to evaluate the integral. Modify the program below and compute the integral with Ntrials=100000."
   ]
  },
  {
   "cell_type": "code",
   "execution_count": null,
   "metadata": {
    "id": "9GIekesozWhK"
   },
   "outputs": [],
   "source": [
    "import random,math,numpy\n",
    "c = 20\n",
    "t = -20\n",
    "Ntrials=100000\n",
    "xsum=[]\n",
    "for i in range(Ntrials):\n",
    "    dx = random.gauss(c+t,1.)\n",
    "    if dx < 0:\n",
    "        num  = (c-dx)*t + t**2/2\n",
    "        x= math.exp(num)\n",
    "    else:\n",
    "        x=0\n",
    "    xsum.append(x)\n",
    "xerror = numpy.std(numpy.array(xsum))\n",
    "xm = numpy.mean(numpy.array(xsum))\n",
    "print ('simulation', xm,'+/-', xerror/float(Ntrials)**0.5)"
   ]
  },
  {
   "cell_type": "markdown",
   "metadata": {
    "id": "jb6b9lqmzWhL"
   },
   "source": [
    "[a] $I =7.6  10^{-24 }\\pm  10^{-25}$\n",
    "\n",
    "[b] $I =7.5  10^{-24 }\\pm   5 \\times 10^{-25}$\n",
    "\n",
    "[c] $I =7.62  10^{-24 }\\pm  10^{-26}$\n",
    "\n",
    "[d] $I \\approx 0.0  \\pm  0.0$"
   ]
  },
  {
   "cell_type": "markdown",
   "metadata": {
    "id": "Y4xBxO3bzWhM"
   },
   "source": [
    "**Question 14**\n",
    "\n",
    "Imagine we found a way to implement a *faster than the clock* algorithm for the Ising model. As a result, we generate a Markov chain with $M$ spin configurations\n",
    "\n",
    "$$\\mathcal{C}_1 \\rightarrow \\mathcal{C}_2 \\rightarrow\n",
    "\\mathcal{C}_3 \\rightarrow \\ldots\n",
    "\\rightarrow \\mathcal{C}_M$$\n",
    "\n",
    "where $\\mathcal{C}_t = \\{ \\sigma_1, \\ldots, \\sigma_N \\}$ describes a given\n",
    "configuration of $N$ spins. Consider these two statements:"
   ]
  },
  {
   "cell_type": "markdown",
   "metadata": {
    "id": "SkYaCbzMzWhM"
   },
   "source": [
    "1. Two successive configurations are always different $\\mathcal{C}_t \\ne \\mathcal{C}_{t+1}$\n",
    "\n",
    "2. If $E_t$ is the energy of the spin configuration $\\mathcal{C}_t$, then an estimate of the average energy is obtained with $\\langle E \\rangle \\simeq \\frac{1}{M} \\sum_{t=1}^M E_t$."
   ]
  },
  {
   "cell_type": "markdown",
   "metadata": {
    "id": "lgH9GLAXzWhM"
   },
   "source": [
    "[a] Both statements are correct.\n",
    "\n",
    "[b] Statement (1) is correct and (2) is wrong\n",
    "\n",
    "[c] Statement (1) is wrong and (2) is correct\n",
    "\n",
    "[d] Both statements are wrong."
   ]
  },
  {
   "cell_type": "markdown",
   "metadata": {
    "id": "x2lYtGMozWhN"
   },
   "source": [
    "**Question 15** \n",
    "\n",
    "Consider the Ising model and in particular the Monte Carlo algorithm based on Wolff cluster moves. "
   ]
  },
  {
   "cell_type": "markdown",
   "metadata": {
    "id": "VO7g5CM2zWhN"
   },
   "source": [
    "Which of the following statements is correct?"
   ]
  },
  {
   "cell_type": "markdown",
   "metadata": {
    "id": "LXX7JicNzWhN"
   },
   "source": [
    "[a] The Wolff cluster moves do not satisfy the detailed balance, but they do satisfy the more general balance condition.\n",
    "\n",
    "[b] A configuration will always be changed after a proposed Wolff cluster move.\n",
    "\n",
    "[c] With Wolff cluster moves, the average cluster size is maximum close to the critical temperature 𝑇𝑐.\n",
    "\n",
    "[d] During the construction of a cluster, the larger the temperature, the more likely it is that spins are included in the cluster."
   ]
  },
  {
   "cell_type": "markdown",
   "metadata": {
    "id": "kemDaSZnzWhO"
   },
   "source": [
    "**Question 16**\n",
    "\n",
    "We consider the periodic two-dimensional square lattice Ising model.  The energy for\n",
    "a given configuration $\\{ \\sigma \\}$ of spins is\n",
    "\n",
    "$$\n",
    "E(\\{\\sigma\\}) = -J\\sum_{\\langle ij \\rangle} \\sigma_i \\sigma_j\n",
    "$$\n",
    "where $\\langle i j \\rangle$ indicates that $i$ and $j$ are\n",
    "neighbors on the lattice. We use $J=1$ as our unit of energy.\n",
    "Look at the following programs that intend to compute the total energy and total magnetization of the spin configuration given by `config`:"
   ]
  },
  {
   "cell_type": "code",
   "execution_count": null,
   "metadata": {
    "collapsed": true,
    "id": "tPbdzGohzWhO"
   },
   "outputs": [],
   "source": [
    "import numpy as np\n",
    "L = 16\n",
    "config = np.random.choice([-1,1], size=(L,L))\n",
    "def neighbors(i, j , L):\n",
    "    return [ ((i+1)%L, j), ((i-1)%L, j), (i, (j+1)%L), (i, (j-1)%L) ]\n",
    "# Program A\n",
    "energy = 0.0\n",
    "for i in range(L):\n",
    "  for j in range(L):\n",
    "    for u, v in neighbors(i, j, L):\n",
    "      energy -= config[i,j] * config[u,v]\n",
    "magnetization = np.sum(config)\n",
    "# Program B\n",
    "energy = 0.0\n",
    "magnetization = 0.0\n",
    "for i in range(L):\n",
    " for j in range(L):\n",
    "    for u, v in neighbors(i, j, L):\n",
    "      energy -= config[i,j] * config[u,v]\n",
    "      magnetization += config[i,j]\n",
    "energy /= 2\n",
    "# Program C\n",
    "energy = 0.0\n",
    "magnetization = 0.0\n",
    "for i in range(L):\n",
    "  for j in range(L):\n",
    "    stot = 0.0\n",
    "    for u, v in neighbors(i, j, L): stot += config[u,v]\n",
    "    energy -= config[i,j] * stot / 2.0\n",
    "    magnetization += config[i,j]\n",
    "# Program D\n",
    "energy = 0.0\n",
    "for i in range(L):\n",
    "  for j in range(L):\n",
    "    for u, v in neighbors(i, j, L):\n",
    "      energy = config[i,j] * config[u,v]\n",
    "energy /= 2\n",
    "magnetization = np.sum(config)"
   ]
  },
  {
   "cell_type": "markdown",
   "metadata": {
    "id": "FsfkhKuOzWhP"
   },
   "source": [
    "[a] Program A is correct\n",
    "\n",
    "[b] Program B is correct\n",
    "\n",
    "[c] Program C is correct\n",
    "\n",
    "[d] Program D is correct"
   ]
  },
  {
   "cell_type": "markdown",
   "metadata": {
    "id": "ghHy0dZqzWhQ"
   },
   "source": [
    "**Question  17**\n",
    "\n",
    "Yous goal is to determine the maximal (average) position reached by random walker that start  at the origin and makes 1000 jumps. At each time step the walker jumps of $+1$ with probability $1/2$ and of $-1$  with probability $1/2$. Look at the program below"
   ]
  },
  {
   "cell_type": "code",
   "execution_count": null,
   "metadata": {
    "id": "6P8zkKwhzWhQ"
   },
   "outputs": [],
   "source": [
    "import numpy as np\n",
    "import math\n",
    "Ntrials = 10000\n",
    "length =1000\n",
    "all_max = []\n",
    "jumps = np.random.choice((1,-1), length )\n",
    "for sample in range(Ntrials):\n",
    "    irandom = np.random.randint(length)\n",
    "    ijump = np.random.choice((1,-1))\n",
    "    jumps[irandom] = ijump\n",
    "    walk=np.cumsum(jumps)\n",
    "    mnew = max(walk)\n",
    "    if mnew == -1:\n",
    "       mnew=0\n",
    "    all_max.append(mnew) \n",
    "print(\"mean maximum=\", np.mean(all_max), \",error=\", np.std(all_max)/math.sqrt(Ntrials))"
   ]
  },
  {
   "cell_type": "markdown",
   "metadata": {
    "id": "CtS7nhAAzWhR"
   },
   "source": [
    "[a] The mean value and the error are correctly estimated.\n",
    "\n",
    "[b] The mean value is correctly estimated, but the error is underestimated\n",
    "\n",
    "[c] The mean value is correctly estimated, but the error is overestimated\n",
    "\n",
    "[d] The program is not correct as the detailed balance is violated"
   ]
  },
  {
   "cell_type": "markdown",
   "metadata": {
    "id": "V0mEnbwDz5cq"
   },
   "source": [
    "**Question 18**\n",
    "\n",
    "Which of the following statements about the *$1/2$ thumb rule* is correct?"
   ]
  },
  {
   "cell_type": "markdown",
   "metadata": {
    "id": "7Z3_8IoI0DXM"
   },
   "source": [
    "[a] It allows to correct the adjustable parameters of a Metropolis algorithm where the detailed balance is weakly violated.\n",
    "\n",
    "[b] It optimizes the adjustable parameters of a Metropolis algorithm in order to maximize the acceptance rate.\n",
    "\n",
    "[c] It optimizes the adjustable parameters of a Metropolis algorithm in order to minimize the statistical error.\n",
    "\n",
    "[d] It is an important rule that ensures the convergence of direct sampling algorithms."
   ]
  },
  {
   "cell_type": "markdown",
   "metadata": {
    "id": "6LhxdgkSz5Ut"
   },
   "source": [
    "**Question 19**\n",
    "\n",
    "Consider the simulated annealing algorithm for the Newton spheres problem. During the simulation, the radius of the spheres is gradually increased by some fraction of the maximum allowed radius, namely $R \\to R + \\gamma (R_\\mathrm{max}-R)$. How does the choice for $\\gamma$ influence the simulation?"
   ]
  },
  {
   "cell_type": "markdown",
   "metadata": {
    "id": "qSJ21uGU0O1m"
   },
   "source": [
    "[a] A value of $\\gamma$ close to $1$ allows to find a very good optimal packing.\n",
    "\n",
    "[b] The value of $\\gamma$ controls the acceptance rate of proposed moves during the algorithm.\n",
    "\n",
    "**[c] A moderate value for $\\gamma$ allows to find a very good optimal packing.**\n",
    "\n",
    "[d] The thumb rule cannot be satisfied if $\\gamma$ is taken close to 1."
   ]
  }
 ],
 "metadata": {
  "colab": {
   "collapsed_sections": [],
   "provenance": []
  },
  "interpreter": {
   "hash": "6ccf289258a418e2f1b69e5ed31fa2d91bf3d9ba9a29753c14a19478de210b10"
  },
  "kernelspec": {
   "display_name": "Python 3 (ipykernel)",
   "language": "python",
   "name": "python3"
  },
  "language_info": {
   "codemirror_mode": {
    "name": "ipython",
    "version": 3
   },
   "file_extension": ".py",
   "mimetype": "text/x-python",
   "name": "python",
   "nbconvert_exporter": "python",
   "pygments_lexer": "ipython3",
   "version": "3.9.12"
  }
 },
 "nbformat": 4,
 "nbformat_minor": 1
}
