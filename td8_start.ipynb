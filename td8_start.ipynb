{
 "cells": [
  {
   "cell_type": "code",
   "execution_count": 1,
   "metadata": {},
   "outputs": [],
   "source": [
    "import numpy as np\n",
    "import math\n",
    "import matplotlib.pyplot as plt\n",
    "from scipy.sparse import coo_matrix\n",
    "import numpy.matlib\n",
    "import csv\n",
    "import pandas as pd"
   ]
  },
  {
   "cell_type": "markdown",
   "metadata": {},
   "source": [
    "The files contain atomic detections in $s=1$ (ground state) `stateG.dat` or $s=0$ `stateE.dat`\n",
    "\n",
    "The data are $M \\times T$ matrices with $M=2000$ the number of independent experiments each of such trajectory (rows of the matrix) having  $T=10000$ detections $d$, having $d=0$ if no atom have been detected or $d=1,2,3$ indicating the number of atoms detected in the corresponding state."
   ]
  },
  {
   "cell_type": "code",
   "execution_count": 12,
   "metadata": {},
   "outputs": [],
   "source": [
    "T = 10000\n",
    "M = 2000\n",
    "\n",
    "# Open and read the files\n",
    "\n",
    "file_1 = open(\"Data_8/stateG.dat\")\n",
    "data_1 = np.zeros((M,T), dtype=int)\n",
    "for i, row in enumerate(csv.reader(file_1)):\n",
    "    data_1[i,:] = row\n",
    "\n",
    "    \n",
    "file_0 = open(\"Data_8/stateE.dat\")\n",
    "data_0 = np.zeros((M,T), dtype=int)\n",
    "for i, row in enumerate(csv.reader(file_0)):\n",
    "    data_0[i,:] = row"
   ]
  },
  {
   "cell_type": "code",
   "execution_count": 27,
   "metadata": {
    "scrolled": true
   },
   "outputs": [
    {
     "data": {
      "text/plain": [
       "array([3189, 2981, 3029, ..., 3258, 3183, 3199])"
      ]
     },
     "execution_count": 27,
     "metadata": {},
     "output_type": "execute_result"
    }
   ],
   "source": [
    "np.sum(data_0+data_1, axis=1)"
   ]
  }
 ],
 "metadata": {
  "anaconda-cloud": {},
  "kernelspec": {
   "display_name": "Python 3 (ipykernel)",
   "language": "python",
   "name": "python3"
  },
  "language_info": {
   "codemirror_mode": {
    "name": "ipython",
    "version": 3
   },
   "file_extension": ".py",
   "mimetype": "text/x-python",
   "name": "python",
   "nbconvert_exporter": "python",
   "pygments_lexer": "ipython3",
   "version": "3.8.3"
  }
 },
 "nbformat": 4,
 "nbformat_minor": 1
}
