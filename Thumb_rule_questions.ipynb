{
 "cells": [
  {
   "cell_type": "markdown",
   "metadata": {
    "id": "Vd_np_-gQWp8"
   },
   "source": [
    "# Thumb rule and Markov chain Monte Carlo\n",
    "\n",
    "The goal of this tutorial is to practice the Markov chain algorithm and to explore how\n",
    "the statistical error of the result depends on specific choices for the\n",
    "evolution of the configurations. We will focus on the simple example of the estimate for $\\pi$\n",
    "using uniformly distributed points over a square $[-1,1]^2$\n",
    "\n",
    "<center>\n",
    "<img src=\"https://gist.github.com/mferrero/ae328ab0e3a0d3d7181a007daf5a373a/raw/circle.png\" width=300 height=300 />\n",
    "</center>\n",
    "\n",
    "An estimate for $\\pi$ is obtained by counting the fraction of points that are inside the\n",
    "unit radius circle:\n",
    "\n",
    "$$\n",
    "\\pi \\simeq 4\\times\\frac{N_{\\mathrm{inside}}}{N_{\\mathrm{total}}}\n",
    "$$\n",
    "\n"
   ]
  },
  {
   "cell_type": "markdown",
   "metadata": {
    "id": "uYpaubGkvogU"
   },
   "source": [
    "Let's first import the relevant libraries once and for good."
   ]
  },
  {
   "cell_type": "code",
   "execution_count": 1,
   "metadata": {
    "id": "m3NliYktvogW"
   },
   "outputs": [],
   "source": [
    "import numpy as np\n",
    "import matplotlib.pylab as plt\n",
    "from tqdm.auto import tqdm"
   ]
  },
  {
   "cell_type": "markdown",
   "metadata": {
    "id": "KS3-ffZXvogZ"
   },
   "source": [
    "## Direct sampling\n",
    "\n",
    "As a warm up, we will try to get an estimate for $\\pi$ by direct uniform sampling. In other words,\n",
    "we will directly generate (with uniform probability) random points within the $[-1,1]^2$\n",
    "square and evaluate $\\pi$ by looking at the fraction of points within the radius 1 circle."
   ]
  },
  {
   "cell_type": "markdown",
   "metadata": {
    "id": "4DJNFC-5vogb"
   },
   "source": [
    "### Statistical evaluation of $\\pi$\n",
    "\n",
    "Write a function that evaluates $\\pi$ using a sample of $N$ points.\n",
    "You can obtain a random pair of numbers in $[-1,1]$ with\n",
    "```python\n",
    "point = np.random.uniform(-1, 1, 2)\n",
    "```"
   ]
  },
  {
   "cell_type": "markdown",
   "metadata": {
    "id": "HCOBAEDPvogc"
   },
   "source": [
    "### Statistical error bars\n",
    "\n",
    "If you have time (you can do this at the end), you can try to compute the statistical error on the estimate\n",
    "of $\\pi$. To do so, generate several estimates (typically 100 or so) and compute\n",
    "their standard deviation:\n",
    "\n",
    "$$\n",
    "  \\sigma = \\sqrt{ \\langle \\mathcal{O}^2 \\rangle - \\langle \\mathcal{O} \\rangle^2 }\n",
    "$$\n",
    "\n",
    "where $\\mathcal{O}$ is the random variable used to estimate $\\pi$. How does the\n",
    "standard deviation depend on the number of sample points $N$?"
   ]
  },
  {
   "cell_type": "code",
   "execution_count": 3,
   "metadata": {
    "id": "S1F2RmiYvogb"
   },
   "outputs": [
    {
     "name": "stdout",
     "output_type": "stream",
     "text": [
      "estimated pi = 3.139828\n",
      "exact pi     = 3.141593\n",
      "\n",
      "estimated error = 0.0004109\n",
      "exact error     = 0.001765\n"
     ]
    }
   ],
   "source": [
    "n_samples = int(1e6)\n",
    "samples = np.random.uniform(-1, 1, (n_samples, 2))\n",
    "samples_in_circle = np.linalg.norm(samples, axis=1)<1\n",
    "print(\"estimated pi = {}\".format(4 * np.sum(samples_in_circle) / n_samples))\n",
    "print((\"exact pi     = {:.\" + str(1 + int(np.log10(n_samples))) + \"}\").format(np.pi))\n",
    "print(\"\\nestimated error = {:.4}\".format(np.std(samples_in_circle) / n_samples**0.5))\n",
    "print(\"exact error     = {:.4}\".format(abs(np.pi - 4 * np.sum(samples_in_circle) / n_samples)))"
   ]
  },
  {
   "cell_type": "markdown",
   "metadata": {
    "id": "5R9dZqmLTNET"
   },
   "source": [
    "## Markov chain algorithm\n",
    "\n",
    "Direct sampling is in general very difficult to achieve. Even though it is easy for our\n",
    "example to calculate $\\pi$, let us pretend that we do not know how to do direct sampling.\n",
    "We then need the more general strategy of a Markov chain algorithm. As you saw in the\n",
    "lecture, the idea is to let a \"walker\" evolve over the surface of the square. At every\n",
    "step the walker moves within a square $[-\\delta, \\delta]^2$ around its position, where\n",
    "$\\delta$ is a chosen maximal displacement length. If the displacement\n",
    "would bring the walker out of the square, then we let the walker where it was and do not\n",
    "move it. One of the questions we will try to answer is how we should choose the\n",
    "parameter $\\delta$."
   ]
  },
  {
   "cell_type": "markdown",
   "metadata": {
    "id": "Ai6IWzWcvogj"
   },
   "source": [
    "### Statistical evaluation of $\\pi$\n",
    "\n",
    "Write a function that evaluates $\\pi$ using a walker that will make a\n",
    "total of $N$ steps."
   ]
  },
  {
   "cell_type": "code",
   "execution_count": 4,
   "metadata": {
    "id": "SYKuZg8_vogj"
   },
   "outputs": [],
   "source": [
    "def markov_pi_estimate(n_steps, delta):\n",
    "    walker_position = np.zeros(2)\n",
    "    variable_estimate = 0\n",
    "    acceptance_rate = 0\n",
    "    for k in range(n_steps):\n",
    "        walker_step = np.random.uniform(-delta, delta, 2)\n",
    "        if np.all(abs(walker_position + walker_step) < 1):\n",
    "            walker_position += walker_step\n",
    "            acceptance_rate += 1\n",
    "        variable_estimate += np.linalg.norm(walker_position) < 1\n",
    "    return 4 * variable_estimate / n_steps, acceptance_rate / n_steps"
   ]
  },
  {
   "cell_type": "code",
   "execution_count": 6,
   "metadata": {},
   "outputs": [
    {
     "data": {
      "text/plain": [
       "(3.1268, 0.909)"
      ]
     },
     "execution_count": 6,
     "metadata": {},
     "output_type": "execute_result"
    }
   ],
   "source": [
    "markov_pi_estimate(int(1e4), 0.2)"
   ]
  },
  {
   "cell_type": "markdown",
   "metadata": {
    "id": "0aiDCxEHvogj"
   },
   "source": [
    "### Acceptance rate\n",
    "\n",
    "We will be interested in how the algorithm performs for different values of $\\delta$.\n",
    "An important ingredient in that respect is the \"acceptance rate\". This is the fraction\n",
    "of proposed moves that have led to a change of position of the walker (that have been accepted).\n",
    "Modify your function so that it also computes and returns the acceptance rate.\n",
    "How do you expect the acceptance rate to depend on $\\delta$?"
   ]
  },
  {
   "cell_type": "code",
   "execution_count": 7,
   "metadata": {
    "id": "ebJp7Q1Evogl"
   },
   "outputs": [
    {
     "data": {
      "application/vnd.jupyter.widget-view+json": {
       "model_id": "1830658e39c64951940530db6763de83",
       "version_major": 2,
       "version_minor": 0
      },
      "text/plain": [
       "  0%|          | 0/30 [00:00<?, ?it/s]"
      ]
     },
     "metadata": {},
     "output_type": "display_data"
    },
    {
     "ename": "KeyboardInterrupt",
     "evalue": "",
     "output_type": "error",
     "traceback": [
      "\u001b[1;31m---------------------------------------------------------------------------\u001b[0m",
      "\u001b[1;31mKeyboardInterrupt\u001b[0m                         Traceback (most recent call last)",
      "\u001b[1;32m~\\AppData\\Local\\Temp/ipykernel_21120/1276861054.py\u001b[0m in \u001b[0;36m<module>\u001b[1;34m\u001b[0m\n\u001b[0;32m      5\u001b[0m \u001b[1;33m\u001b[0m\u001b[0m\n\u001b[0;32m      6\u001b[0m \u001b[1;32mfor\u001b[0m \u001b[0mdelta\u001b[0m \u001b[1;32min\u001b[0m \u001b[0mtqdm\u001b[0m\u001b[1;33m(\u001b[0m\u001b[0ml_delta\u001b[0m\u001b[1;33m)\u001b[0m\u001b[1;33m:\u001b[0m\u001b[1;33m\u001b[0m\u001b[1;33m\u001b[0m\u001b[0m\n\u001b[1;32m----> 7\u001b[1;33m     \u001b[0mestimate\u001b[0m\u001b[1;33m,\u001b[0m \u001b[0macceptance_rate\u001b[0m \u001b[1;33m=\u001b[0m \u001b[0mmarkov_pi_estimate\u001b[0m\u001b[1;33m(\u001b[0m\u001b[0mn_steps\u001b[0m\u001b[1;33m,\u001b[0m \u001b[0mdelta\u001b[0m\u001b[1;33m)\u001b[0m\u001b[1;33m\u001b[0m\u001b[1;33m\u001b[0m\u001b[0m\n\u001b[0m\u001b[0;32m      8\u001b[0m     \u001b[0ml_acceptance_rate\u001b[0m\u001b[1;33m.\u001b[0m\u001b[0mappend\u001b[0m\u001b[1;33m(\u001b[0m\u001b[0macceptance_rate\u001b[0m\u001b[1;33m)\u001b[0m\u001b[1;33m\u001b[0m\u001b[1;33m\u001b[0m\u001b[0m\n\u001b[0;32m      9\u001b[0m     \u001b[0ml_error\u001b[0m\u001b[1;33m.\u001b[0m\u001b[0mappend\u001b[0m\u001b[1;33m(\u001b[0m\u001b[0mabs\u001b[0m\u001b[1;33m(\u001b[0m\u001b[0mnp\u001b[0m\u001b[1;33m.\u001b[0m\u001b[0mpi\u001b[0m \u001b[1;33m-\u001b[0m \u001b[0mestimate\u001b[0m\u001b[1;33m)\u001b[0m\u001b[1;33m)\u001b[0m\u001b[1;33m\u001b[0m\u001b[1;33m\u001b[0m\u001b[0m\n",
      "\u001b[1;32m~\\AppData\\Local\\Temp/ipykernel_21120/506142188.py\u001b[0m in \u001b[0;36mmarkov_pi_estimate\u001b[1;34m(n_steps, delta)\u001b[0m\n\u001b[0;32m      8\u001b[0m             \u001b[0mwalker_position\u001b[0m \u001b[1;33m+=\u001b[0m \u001b[0mwalker_step\u001b[0m\u001b[1;33m\u001b[0m\u001b[1;33m\u001b[0m\u001b[0m\n\u001b[0;32m      9\u001b[0m             \u001b[0macceptance_rate\u001b[0m \u001b[1;33m+=\u001b[0m \u001b[1;36m1\u001b[0m\u001b[1;33m\u001b[0m\u001b[1;33m\u001b[0m\u001b[0m\n\u001b[1;32m---> 10\u001b[1;33m         \u001b[0mvariable_estimate\u001b[0m \u001b[1;33m+=\u001b[0m \u001b[0mnp\u001b[0m\u001b[1;33m.\u001b[0m\u001b[0mlinalg\u001b[0m\u001b[1;33m.\u001b[0m\u001b[0mnorm\u001b[0m\u001b[1;33m(\u001b[0m\u001b[0mwalker_position\u001b[0m\u001b[1;33m)\u001b[0m \u001b[1;33m<\u001b[0m \u001b[1;36m1\u001b[0m\u001b[1;33m\u001b[0m\u001b[1;33m\u001b[0m\u001b[0m\n\u001b[0m\u001b[0;32m     11\u001b[0m     \u001b[1;32mreturn\u001b[0m \u001b[1;36m4\u001b[0m \u001b[1;33m*\u001b[0m \u001b[0mvariable_estimate\u001b[0m \u001b[1;33m/\u001b[0m \u001b[0mn_steps\u001b[0m\u001b[1;33m,\u001b[0m \u001b[0macceptance_rate\u001b[0m \u001b[1;33m/\u001b[0m \u001b[0mn_steps\u001b[0m\u001b[1;33m\u001b[0m\u001b[1;33m\u001b[0m\u001b[0m\n",
      "\u001b[1;32m<__array_function__ internals>\u001b[0m in \u001b[0;36mnorm\u001b[1;34m(*args, **kwargs)\u001b[0m\n",
      "\u001b[1;32m~\\anaconda3\\lib\\site-packages\\numpy\\linalg\\linalg.py\u001b[0m in \u001b[0;36mnorm\u001b[1;34m(x, ord, axis, keepdims)\u001b[0m\n\u001b[0;32m   2527\u001b[0m                 \u001b[0msqnorm\u001b[0m \u001b[1;33m=\u001b[0m \u001b[0mdot\u001b[0m\u001b[1;33m(\u001b[0m\u001b[0mx\u001b[0m\u001b[1;33m.\u001b[0m\u001b[0mreal\u001b[0m\u001b[1;33m,\u001b[0m \u001b[0mx\u001b[0m\u001b[1;33m.\u001b[0m\u001b[0mreal\u001b[0m\u001b[1;33m)\u001b[0m \u001b[1;33m+\u001b[0m \u001b[0mdot\u001b[0m\u001b[1;33m(\u001b[0m\u001b[0mx\u001b[0m\u001b[1;33m.\u001b[0m\u001b[0mimag\u001b[0m\u001b[1;33m,\u001b[0m \u001b[0mx\u001b[0m\u001b[1;33m.\u001b[0m\u001b[0mimag\u001b[0m\u001b[1;33m)\u001b[0m\u001b[1;33m\u001b[0m\u001b[1;33m\u001b[0m\u001b[0m\n\u001b[0;32m   2528\u001b[0m             \u001b[1;32melse\u001b[0m\u001b[1;33m:\u001b[0m\u001b[1;33m\u001b[0m\u001b[1;33m\u001b[0m\u001b[0m\n\u001b[1;32m-> 2529\u001b[1;33m                 \u001b[0msqnorm\u001b[0m \u001b[1;33m=\u001b[0m \u001b[0mdot\u001b[0m\u001b[1;33m(\u001b[0m\u001b[0mx\u001b[0m\u001b[1;33m,\u001b[0m \u001b[0mx\u001b[0m\u001b[1;33m)\u001b[0m\u001b[1;33m\u001b[0m\u001b[1;33m\u001b[0m\u001b[0m\n\u001b[0m\u001b[0;32m   2530\u001b[0m             \u001b[0mret\u001b[0m \u001b[1;33m=\u001b[0m \u001b[0msqrt\u001b[0m\u001b[1;33m(\u001b[0m\u001b[0msqnorm\u001b[0m\u001b[1;33m)\u001b[0m\u001b[1;33m\u001b[0m\u001b[1;33m\u001b[0m\u001b[0m\n\u001b[0;32m   2531\u001b[0m             \u001b[1;32mif\u001b[0m \u001b[0mkeepdims\u001b[0m\u001b[1;33m:\u001b[0m\u001b[1;33m\u001b[0m\u001b[1;33m\u001b[0m\u001b[0m\n",
      "\u001b[1;32m<__array_function__ internals>\u001b[0m in \u001b[0;36mdot\u001b[1;34m(*args, **kwargs)\u001b[0m\n",
      "\u001b[1;31mKeyboardInterrupt\u001b[0m: "
     ]
    }
   ],
   "source": [
    "n_steps = int(1e5)\n",
    "l_delta = np.logspace(-6, 1, 30)\n",
    "l_acceptance_rate = []\n",
    "l_error = []\n",
    "\n",
    "for delta in tqdm(l_delta):\n",
    "    estimate, acceptance_rate = markov_pi_estimate(n_steps, delta)\n",
    "    l_acceptance_rate.append(acceptance_rate)\n",
    "    l_error.append(abs(np.pi - estimate))\n",
    "\n",
    "plt.plot(l_acceptance_rate, l_error)\n",
    "plt.xlabel(\"Acceptance rate\")\n",
    "plt.ylabel(\"Error\")"
   ]
  },
  {
   "cell_type": "markdown",
   "metadata": {
    "id": "J5Ml_XeEvogm"
   },
   "source": [
    "### Statistical error bars\n",
    "\n",
    "Using the Markov chain algorithm, both the estimate for $\\pi$ and the acceptance rate\n",
    "have a statistical variance. It is interesting to study the standard deviation\n",
    "(error bar) on these quantities. Write a new function that uses 200 samples to\n",
    "estimate the standard deviation on the estimate for $\\pi$ and on the\n",
    "acceptance rate. Ideally, the function could return 4 number: the estimate\n",
    "for pi, its standard deviation, the estimate of the acceptance rate, its\n",
    "standard deviation. Remember that because of the central limit theorem,\n",
    "your error bar will be the standard deviation of your samples divided\n",
    "by $\\sqrt{N_\\mathrm{samples}}$, i.e.\n",
    "\n",
    "$$\n",
    " \\sigma = \\frac{1}{\\sqrt{N_\\mathrm{samples}}} \\big[ \\langle \\mathcal{O}^2\\rangle\n",
    " - \\langle \\mathcal{O} \\rangle^2 \\big]\n",
    "$$"
   ]
  },
  {
   "cell_type": "code",
   "execution_count": 8,
   "metadata": {
    "id": "6d52ZfbJvogn"
   },
   "outputs": [
    {
     "data": {
      "text/plain": [
       "(3.1132, 0.09292663773106186, 0.6963, 0.02056720690808548)"
      ]
     },
     "execution_count": 8,
     "metadata": {},
     "output_type": "execute_result"
    }
   ],
   "source": [
    "def markov_pi_variances(n_chains, n_steps, delta):\n",
    "    estimate_samples = []\n",
    "    acceptance_rate_sample = []\n",
    "    for k in range(n_chains):\n",
    "        estimate, acceptance_rate = markov_pi_estimate(n_steps, delta)\n",
    "        estimate_samples.append(estimate)\n",
    "        acceptance_rate_sample.append(acceptance_rate)\n",
    "    return np.mean(estimate_samples), np.std(estimate_samples), np.mean(acceptance_rate_sample), np.std(acceptance_rate_sample)\n",
    "\n",
    "markov_pi_variances(20, 1000, 0.632)"
   ]
  },
  {
   "cell_type": "markdown",
   "metadata": {
    "id": "1zPw42btvogo"
   },
   "source": [
    "### Dependence on $\\delta$\n",
    "\n",
    "We are now in a position to investigate how the results depend on $\\delta$.\n",
    "Create and discuss the three following plots:\n",
    "\n",
    "   * The estimate of $\\pi$ versus $\\delta$ (with error bars)\n",
    "   * The acceptance rate versus $\\delta$ (with error bars)\n",
    "   * The error bar for $\\pi$ versus $\\delta$\n",
    "   \n",
    "The runs will start to take some time. So you may want to only take about\n",
    "$N=100$ steps for the walker. You can investigate values of $\\delta \\in [0,4]$.\n",
    "By looking at the behavior of the error bars, what can you say about the\n",
    "optimal value that should be taken for $\\delta$?"
   ]
  },
  {
   "cell_type": "code",
   "execution_count": 47,
   "metadata": {
    "id": "rIrASE3bvogp"
   },
   "outputs": [
    {
     "data": {
      "application/vnd.jupyter.widget-view+json": {
       "model_id": "31d74c7f97af46eaaae4aa912414613d",
       "version_major": 2,
       "version_minor": 0
      },
      "text/plain": [
       "  0%|          | 0/10 [00:00<?, ?it/s]"
      ]
     },
     "metadata": {},
     "output_type": "display_data"
    }
   ],
   "source": [
    "n_chains = 1000\n",
    "n_steps = int(1e3)\n",
    "l_delta = np.logspace(-1, 1, 10)\n",
    "\n",
    "l_estimate = []\n",
    "l_estimate_deviation = []\n",
    "l_acceptance_rate = []\n",
    "l_acceptance_rate_deviation = []\n",
    "\n",
    "\n",
    "for delta in tqdm(l_delta):\n",
    "    estimate, estimate_deviation, acceptance_rate, acceptance_rate_deviation = markov_pi_variances(n_chains, n_steps, delta)\n",
    "    l_estimate.append(estimate)\n",
    "    l_estimate_deviation.append(estimate_deviation)\n",
    "    l_acceptance_rate.append(acceptance_rate)\n",
    "    l_acceptance_rate_deviation.append(acceptance_rate_deviation)"
   ]
  },
  {
   "cell_type": "code",
   "execution_count": 51,
   "metadata": {},
   "outputs": [
    {
     "data": {
      "image/png": "[encoded data removed]",
      "text/plain": [
       "<Figure size 432x288 with 1 Axes>"
      ]
     },
     "metadata": {
      "needs_background": "light"
     },
     "output_type": "display_data"
    }
   ],
   "source": [
    "plt.errorbar(l_delta, l_estimate, l_estimate_deviation, barsabove=True)\n",
    "plt.axhline(np.pi, ls = '--', c = 'k')\n",
    "plt.xlabel(r\"$\\delta$\")\n",
    "plt.ylabel(\"Estimate\")\n",
    "plt.xscale(\"log\")"
   ]
  },
  {
   "cell_type": "code",
   "execution_count": 52,
   "metadata": {},
   "outputs": [
    {
     "data": {
      "image/png": "[encoded data removed]",
      "text/plain": [
       "<Figure size 432x288 with 1 Axes>"
      ]
     },
     "metadata": {
      "needs_background": "light"
     },
     "output_type": "display_data"
    }
   ],
   "source": [
    "plt.errorbar(l_delta, l_acceptance_rate, l_acceptance_rate_deviation)\n",
    "plt.axhline(0, ls = '--', c = 'k')\n",
    "plt.xlabel(r\"$\\delta$\")\n",
    "plt.ylabel(\"Acceptance rate\")\n",
    "plt.xscale(\"log\")"
   ]
  },
  {
   "cell_type": "code",
   "execution_count": 53,
   "metadata": {},
   "outputs": [
    {
     "data": {
      "image/png": "[encoded data removed]",
      "text/plain": [
       "<Figure size 432x288 with 1 Axes>"
      ]
     },
     "metadata": {
      "needs_background": "light"
     },
     "output_type": "display_data"
    }
   ],
   "source": [
    "plt.plot(l_delta, l_estimate_deviation)\n",
    "plt.axhline(0, ls = '--', c = 'k')\n",
    "plt.xlabel(r\"$\\delta$\")\n",
    "plt.ylabel(\"Estimate deviation\")\n",
    "plt.xscale(\"log\")"
   ]
  },
  {
   "cell_type": "markdown",
   "metadata": {
    "id": "929oYJoFvogq"
   },
   "source": [
    "### Optimal $\\delta$ from the Thumb rule\n",
    "\n",
    "We have now seen that the smallest statistical error bars are obtained when the acceptance\n",
    "rate is close to 0.5. Use a bisection algorithm that will find a value of $\\delta$ yielding\n",
    "an acceptance rate in $[0.45, 0.55]$. Do not reinvent the wheel, you can use the `scipy` library\n",
    "to do this:\n",
    "```python\n",
    "import scipy.optimize\n",
    "scipy.optimize.bisect(f, a, b, xtol=0.05)\n",
    "```\n",
    "This function will find a zero of the function `f` between `a` and `b` with a tolerance\n",
    "`xtol`."
   ]
  },
  {
   "cell_type": "code",
   "execution_count": 43,
   "metadata": {
    "id": "w5wkfKPBvogq"
   },
   "outputs": [
    {
     "data": {
      "text/plain": [
       "1.21875"
      ]
     },
     "execution_count": 43,
     "metadata": {},
     "output_type": "execute_result"
    }
   ],
   "source": [
    "import scipy.optimize\n",
    "\n",
    "n_steps = 1000\n",
    "\n",
    "def optimize_me(delta):\n",
    "    estimate, acceptance_rate = markov_pi_estimate(n_steps, delta)\n",
    "    return acceptance_rate - 0.5\n",
    "\n",
    "scipy.optimize.bisect(optimize_me, 0, 4, xtol=0.05)"
   ]
  }
 ],
 "metadata": {
  "colab": {
   "collapsed_sections": [],
   "provenance": []
  },
  "kernelspec": {
   "display_name": "Python 3 (ipykernel)",
   "language": "python",
   "name": "python3"
  },
  "language_info": {
   "codemirror_mode": {
    "name": "ipython",
    "version": 3
   },
   "file_extension": ".py",
   "mimetype": "text/x-python",
   "name": "python",
   "nbconvert_exporter": "python",
   "pygments_lexer": "ipython3",
   "version": "3.8.3"
  }
 },
 "nbformat": 4,
 "nbformat_minor": 1
}
