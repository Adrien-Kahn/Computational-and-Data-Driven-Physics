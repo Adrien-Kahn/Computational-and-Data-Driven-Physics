{
 "cells": [
  {
   "cell_type": "markdown",
   "metadata": {
    "id": "p4ZQ2YJBobPJ"
   },
   "source": [
    "# Faster than the clock algorithms\n",
    "\n",
    "Faster than the clock algorithms are useful in cases when the acceptance rate of the standard Monte Carlo is low. An example of this is the Ising model at low temperatures, when we are disregarding most of the moves. The idea of the faster than the clock algorithms is to speed up the simulation by calculating the probability distribution of the number of moves that will be required in order to change the state of the system. Then, only accepted moves need to be evaluated during the simulation. One just has to properly generate the times between two of these accepted moves."
   ]
  },
  {
   "cell_type": "markdown",
   "metadata": {
    "id": "fQnz_gOeq40e"
   },
   "source": [
    "## Random depositions\n",
    "\n",
    "Let's consider the problem of random depositions in one dimension. Consider the line of length $L$ on which we are randomly depositing  pins of width $2 \\times \\sigma$ on the interval $[\\sigma,L-\\sigma]$ which cannot overlap. At time $t=1$ we deposit the first pin and in succesive time steps we try to deposite further pins. We make the deposition if the move is allowed, otherwise we choose a new position etc. The process halts when no further pins can be deposited.\n",
    "\n",
    "<br>\n",
    "<table><tr style=\"background-color: white;\">\n",
    "<td> <img src=\"https://gist.github.com/mferrero/ae328ab0e3a0d3d7181a007daf5a373a/raw/clothes_pins_many.png\" width=500 height=150 /> </td>\n",
    "<td> <img src=\"https://gist.github.com/mferrero/ae328ab0e3a0d3d7181a007daf5a373a/raw/clothes_pins_single.png\" width=200 height=150 /> </td>\n",
    "</tr></table>\n",
    "<br>\n",
    "\n",
    "In the following, we will write two Monte Carlo algorithms to simulate random depositions, a direct real-time implementation and a faster than the clock implementation. Results will be compared with the analytical solution.\n",
    "\n",
    "We first import the necessary libraries"
   ]
  },
  {
   "cell_type": "code",
   "execution_count": 2,
   "metadata": {
    "id": "sKwKHfByzNv6"
   },
   "outputs": [],
   "source": [
    "import numpy as np\n",
    "import matplotlib.pyplot as plt"
   ]
  },
  {
   "cell_type": "markdown",
   "metadata": {
    "id": "Rb9Ov1MhzOrq"
   },
   "source": [
    "## Real time algorithm\n",
    "\n",
    "Write the random depositions algorithm in real time, which outputs the times at which the depositions are made.\n",
    "You can use pins with $\\sigma = 1$. Start with $L = 100$ and increase to $L = 10000$ to see how the\n",
    "simulation time changes.\n",
    "\n",
    "Hint: It is a good idea to encode the positions of the pins in an *ordered* list. You can then use bisection to quickly find where a new pin has to be inserted. This example shows how to use the `bisect` function\n",
    "```python\n",
    "pins = [1, 4, 6, 7, 10, 16]\n",
    "ind = bisect.bisect(pins, 9) # find where 9 would go\n",
    "pins.insert(ind, 9) # insert 9 in the right place\n",
    "print(pins)\n",
    "```"
   ]
  },
  {
   "cell_type": "code",
   "execution_count": 3,
   "metadata": {},
   "outputs": [],
   "source": [
    "def compute_space_left_length(space_left):\n",
    "    length = 0\n",
    "    for interval in space_left:\n",
    "        length += interval[1] - interval[0]\n",
    "    return length\n",
    "\n",
    "def is_in_subset(pin_interval, space_left):\n",
    "    for interval_index, interval in enumerate(space_left):\n",
    "        if pin_interval[0] >= interval[0] and pin_interval[1] <= interval[1]:\n",
    "            return True, interval_index\n",
    "    return False, -1"
   ]
  },
  {
   "cell_type": "code",
   "execution_count": 4,
   "metadata": {},
   "outputs": [],
   "source": [
    "def real_time_pins(sigma, total_length):\n",
    "    \n",
    "    deposition_times = []\n",
    "    time = 0\n",
    "    space_left = [[0, total_length]]\n",
    "    space_left_length = total_length\n",
    "    \n",
    "    while space_left_length > 1e-10:\n",
    "        \n",
    "        pin_position = np.random.random() * total_length\n",
    "        is_valid, interval_index = is_in_subset([pin_position - sigma, pin_position + sigma], space_left)\n",
    "        \n",
    "        if is_valid:\n",
    "            deposition_times.append(time)\n",
    "            old_interval = space_left.pop(interval_index)\n",
    "            space_left_length -= 2 * sigma\n",
    "            \n",
    "            interval_below_length = pin_position - sigma - old_interval[0]\n",
    "            interval_above_length = old_interval[1] - pin_position - sigma\n",
    "            \n",
    "            if interval_below_length >= 2 * sigma:\n",
    "                space_left.append([old_interval[0], pin_position - sigma])\n",
    "            else:\n",
    "                space_left_length -= interval_below_length\n",
    "            \n",
    "            if interval_above_length >= 2 * sigma:\n",
    "                space_left.append([pin_position + sigma, old_interval[1]])\n",
    "            else:\n",
    "                space_left_length -= interval_above_length\n",
    "                \n",
    "        time += 1\n",
    "    \n",
    "    return deposition_times"
   ]
  },
  {
   "cell_type": "code",
   "execution_count": 5,
   "metadata": {},
   "outputs": [
    {
     "name": "stdout",
     "output_type": "stream",
     "text": [
      "37 2298\n",
      "35 198\n",
      "39 1851\n",
      "38 535\n",
      "38 1906\n",
      "38 5344\n",
      "37 1441\n",
      "37 360\n",
      "34 535\n",
      "36 3952\n"
     ]
    }
   ],
   "source": [
    "for _ in range(10):\n",
    "    l = real_time_pins(1, 100)\n",
    "    print(len(l), l[-1])"
   ]
  },
  {
   "cell_type": "code",
   "execution_count": 6,
   "metadata": {},
   "outputs": [
    {
     "name": "stdout",
     "output_type": "stream",
     "text": [
      "\n"
     ]
    },
    {
     "data": {
      "image/png": "[encoded data removed]",
      "text/plain": [
       "<Figure size 432x288 with 1 Axes>"
      ]
     },
     "metadata": {
      "needs_background": "light"
     },
     "output_type": "display_data"
    }
   ],
   "source": [
    "insertion_times = real_time_pins(1, 1000)\n",
    "pin_number = []\n",
    "for k in range(len(insertion_times) - 1):\n",
    "    pin_number += (insertion_times[k + 1] - insertion_times[k]) * [k]\n",
    "plt.plot(pin_number)\n",
    "plt.xscale(\"log\")\n",
    "plt.xlabel(\"Time steps\")\n",
    "plt.ylabel(\"Number of pins\")\n",
    "print()"
   ]
  },
  {
   "cell_type": "markdown",
   "metadata": {
    "id": "RCflq8NbBLcp"
   },
   "source": [
    "## Faster than the clock algorithm\n",
    "\n",
    "As you must have seen, the real-time implementation of the algorithm can become very slow. Indeed,\n",
    "the probability to place the pins at the right places when there is not so much space left becomes\n",
    "very small. As a result, the simulation times can become very long. We will now see how this can\n",
    "be avoided by implementing a faster than the clock algorithm. Here are the steps:\n",
    "\n",
    "- Given a certain configuration of pins, make a list of all the intervals where new pins can\n",
    "  be inserted.\n",
    "  \n",
    "- From the cumulative length of all these intervals, you can easily deduce the probability that the\n",
    "  next trial insertion will be accepted. You then also know the probability $p_r$ that this trial\n",
    "  will be rejected.\n",
    "\n",
    "- The distribution of the number of steps $t$ until a proposal is accepted is given by\n",
    "\n",
    "  $$\n",
    "  \\pi(t) = p_r^{t-1} (1 - p_r)\n",
    "  $$\n",
    "  \n",
    "  This distribution can be sampled from a uniform random variable $\\xi \\in [0,1]$ with\n",
    "  \n",
    "  $$\n",
    "  t = 1 + \\left\\lfloor \\frac{\\log(\\xi)}{\\log(p_r)} \\right\\rfloor\n",
    "  $$\n",
    "\n",
    "  With the knowledge of $p_r$ you can generate a faster than the clock time until the next\n",
    "  accepted proposal.\n",
    "  \n",
    "- Produce a new configuration of pins by randomly choosing a valid position for the new pin.\n",
    "  Be careful to pick this position uniformly across all valid intervals that you have found above.\n",
    "  \n",
    "- Keep track of the times when pins were inserted.\n",
    "\n",
    "Hint: It is a good idea to construct the list of intervals by specifying both their length and the position on the line where they start. This will be useful to more easily find the place where the next pin will be inserted."
   ]
  },
  {
   "cell_type": "code",
   "execution_count": 7,
   "metadata": {
    "id": "zxK_EDyWTSFA"
   },
   "outputs": [],
   "source": [
    "def find_position_and_interval_index(pin_relative_position, space_left):\n",
    "    offset = pin_relative_position\n",
    "    for index, interval in enumerate(space_left):\n",
    "        if offset - (interval[1] - interval[0]) < 0:\n",
    "            return offset + interval[0], index\n",
    "        else:\n",
    "            offset -= interval[1] - interval[0]\n",
    "    raise Exception(\"Hello there\")\n",
    "\n",
    "\n",
    "# Here space_left is not the unoccupied space left, but the space where the center of a pin can be put\n",
    "\n",
    "def faster_than_the_clock(sigma, total_length):\n",
    "    \n",
    "    deposition_times = []\n",
    "    time = 0\n",
    "    space_left = [[sigma, total_length - sigma]]\n",
    "    space_left_length = total_length - 2 * sigma\n",
    "    \n",
    "    while space_left_length > 1e-10:\n",
    "        \n",
    "        time += np.random.geometric(space_left_length / total_length)\n",
    "        deposition_times.append(time)\n",
    "        \n",
    "        pin_relative_position = np.random.random() * space_left_length\n",
    "        pin_position, interval_index = find_position_and_interval_index(pin_relative_position, space_left)\n",
    "        \n",
    "        old_interval = space_left.pop(interval_index)\n",
    "\n",
    "        interval_below_length = pin_position - 2*sigma - old_interval[0]\n",
    "        interval_above_length = old_interval[1] - pin_position - 2*sigma\n",
    "\n",
    "        if interval_below_length > 0:\n",
    "            space_left.append([old_interval[0], pin_position - 2*sigma])\n",
    "\n",
    "        if interval_above_length > 0:\n",
    "            space_left.append([pin_position + 2*sigma, old_interval[1]])\n",
    "        \n",
    "        space_left_length = compute_space_left_length(space_left)\n",
    "        \n",
    "    return deposition_times"
   ]
  },
  {
   "cell_type": "code",
   "execution_count": 9,
   "metadata": {},
   "outputs": [
    {
     "name": "stdout",
     "output_type": "stream",
     "text": [
      "37 1451\n",
      "39 738\n",
      "36 1513\n",
      "36 636\n",
      "36 2884\n",
      "37 544\n",
      "39 4074\n",
      "36 524\n",
      "35 2472\n",
      "36 648\n",
      "\n",
      "38 5379\n",
      "39 526\n",
      "38 12507\n",
      "37 8428\n",
      "38 13890\n",
      "37 1517\n",
      "38 1504\n",
      "35 763\n",
      "37 289\n",
      "37 1698\n"
     ]
    }
   ],
   "source": [
    "for _ in range(10):\n",
    "    l = real_time_pins(1, 100)\n",
    "    print(len(l), l[-1])\n",
    "    \n",
    "print()\n",
    "for _ in range(10):\n",
    "    l = faster_than_the_clock(1, 100)\n",
    "    print(len(l), l[-1])"
   ]
  },
  {
   "cell_type": "code",
   "execution_count": 10,
   "metadata": {},
   "outputs": [
    {
     "name": "stdout",
     "output_type": "stream",
     "text": [
      "\n"
     ]
    },
    {
     "data": {
      "image/png": "[encoded data removed]",
      "text/plain": [
       "<Figure size 432x288 with 1 Axes>"
      ]
     },
     "metadata": {
      "needs_background": "light"
     },
     "output_type": "display_data"
    }
   ],
   "source": [
    "for _ in range(3):\n",
    "    insertion_times = real_time_pins(1, 1000)\n",
    "    pin_number = []\n",
    "    for k in range(len(insertion_times) - 1):\n",
    "        pin_number += (insertion_times[k + 1] - insertion_times[k]) * [k]\n",
    "    plt.plot(pin_number, 'b')\n",
    "\n",
    "for _ in range(3):\n",
    "    insertion_times = faster_than_the_clock(1, 1000)\n",
    "    pin_number = []\n",
    "    for k in range(len(insertion_times) - 1):\n",
    "        pin_number += (insertion_times[k + 1] - insertion_times[k]) * [k]\n",
    "    plt.plot(pin_number, 'r')\n",
    "\n",
    "    \n",
    "plt.xscale(\"log\")\n",
    "plt.xlabel(\"Time steps\")\n",
    "plt.ylabel(\"Number of pins\")\n",
    "print()"
   ]
  },
  {
   "cell_type": "markdown",
   "metadata": {
    "id": "_5SoTnP7PlA8"
   },
   "source": [
    "## Comparison with analytical solution\n",
    "\n",
    "It can be shown that the distribution of the density of pins as a function of\n",
    "time is given by\n",
    "\n",
    "$$\n",
    "\\rho(T) = \\int_0^T  du\\;\\exp\\left\\{-2\\int_{0}^u\\frac{dv}{v}(1-e^{-v})\\right\\}\n",
    "$$\n",
    "\n",
    "where $T = 2\\sigma t/L$ is a renormalized simulation time. Check if the faster than\n",
    "the clock algorithm has produced densities in time that are compatible with this\n",
    "formula. You can use this code to produce the analytical data:\n",
    "\n",
    "```python\n",
    "from scipy.integrate import quad\n",
    "\n",
    "F = lambda u: quad(lambda v: (1 - np.exp(-v)) / v, 0, u)[0]\n",
    "analytic = lambda T: quad(lambda u: np.exp(-2 * F(u)), 0, T)[0]\n",
    "x_data = np.logspace(-4, 4, 50)\n",
    "y_data = np.vectorize(analytic)(x_data)\n",
    "```"
   ]
  },
  {
   "cell_type": "code",
   "execution_count": 12,
   "metadata": {
    "id": "UOf30I0nTSFC"
   },
   "outputs": [
    {
     "data": {
      "image/png": "[encoded data removed]",
      "text/plain": [
       "<Figure size 432x288 with 1 Axes>"
      ]
     },
     "metadata": {
      "needs_background": "light"
     },
     "output_type": "display_data"
    }
   ],
   "source": [
    "from scipy.integrate import quad\n",
    "\n",
    "F = lambda u: quad(lambda v: (1 - np.exp(-v)) / v, 0, u)[0]\n",
    "analytic = lambda T: quad(lambda u: np.exp(-2 * F(u)), 0, T)[0]\n",
    "x_data = np.logspace(-4, 4, 50)\n",
    "y_data = np.vectorize(analytic)(x_data)\n",
    "\n",
    "plt.plot(x_data, y_data)\n",
    "plt.xscale(\"log\")"
   ]
  },
  {
   "cell_type": "markdown",
   "metadata": {
    "id": "lXYaj3PV51LM"
   },
   "source": [
    "## References\n",
    "\n",
    "* Rényi, A. \"On a One-Dimensional Problem Concerning Random Space-Filling.\" Publ. Math. Inst. Hung. Acad. Sci. 3, 109-127, 1958 \n",
    "* Y. Pomeau, Some asymptotic estimates in the random parking problem, J. Phys. A: Math. Gen. 13 L193 (1980)\n",
    "* V. Privman, J.-S. Wang, and P. Nielaba, Continuum limit in random sequential adsorption, Phys. Rev. B 43 3366 (1991)"
   ]
  }
 ],
 "metadata": {
  "colab": {
   "collapsed_sections": [],
   "provenance": []
  },
  "kernelspec": {
   "display_name": "Python 3 (ipykernel)",
   "language": "python",
   "name": "python3"
  },
  "language_info": {
   "codemirror_mode": {
    "name": "ipython",
    "version": 3
   },
   "file_extension": ".py",
   "mimetype": "text/x-python",
   "name": "python",
   "nbconvert_exporter": "python",
   "pygments_lexer": "ipython3",
   "version": "3.8.3"
  }
 },
 "nbformat": 4,
 "nbformat_minor": 1
}
