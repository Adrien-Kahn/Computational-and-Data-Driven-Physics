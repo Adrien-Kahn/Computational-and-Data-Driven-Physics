{
 "cells": [
  {
   "cell_type": "markdown",
   "metadata": {
    "id": "7I6lRgaguLyw"
   },
   "source": [
    "# Homework 3: Text classification with Maximum Entropy model\n",
    "\n",
    "Can we detect sarcasm in news article headlines?\n",
    "\n",
    "In this homework, we will formulate a Maximum Entropy (MaxEnt) models to classify news headlines into sarcastic or not sarcastic.\n",
    "\n",
    "## Bibliography\n",
    "\n",
    "1. Misra, Rishabh and Prahal Arora. \"Sarcasm Detection using Hybrid Neural Network.\" arXiv preprint arXiv:1908.07414 (2019). https://arxiv.org/pdf/1908.07414.pdf\n",
    "2. McCallum, Andrew, and Kamal Nigam. \"A comparison of event models for naive bayes text classification.\" AAAI-98 workshop on learning for text categorization. Vol. 752. No. 1. 1998. http://citeseerx.ist.psu.edu/viewdoc/download?doi=10.1.1.65.9324&rep=rep1&type=pdf\n",
    "3. Kaggle dataset: https://www.kaggle.com/datasets/rmisra/news-headlines-dataset-for-sarcasm-detection\n",
    "\n",
    "## News article headlines dataset\n",
    "\n",
    "We will use the \"Sarcasm headlines\" dataset, collected by Ref. (1), and downloaded from Kaggle (3). The dataset consists of a series of headlines from news articles, classified as either being sarcastic, or not. The authors of (1) collected news from two sources: a serious news website (https://www.huffingtonpost.com), and an online newspaper that publishes satirical articles (https://www.theonion.com/). Headlines form the The Huffingtonpost were classified as non-sarcastic (`is_sarcastic=0`), and headlines from The Onion were classified as sarcastic (`is_sarcastic=1`)."
   ]
  },
  {
   "cell_type": "code",
   "execution_count": 1,
   "metadata": {},
   "outputs": [],
   "source": [
    "import json\n",
    "import numpy as np\n",
    "import matplotlib.pyplot as plt\n",
    "\n",
    "from sklearn.metrics import accuracy_score, roc_curve, roc_auc_score\n",
    "from scipy.stats import norm"
   ]
  },
  {
   "cell_type": "markdown",
   "metadata": {
    "id": "pUI9EFA8zg2i"
   },
   "source": [
    "**Data**. Two files have been prepared for this exercise: `train_data.json` containing the dataset that you will use to train the model, and `tests_data.json`, that you will use to evaluate the performance of the model. After downloading the data, you can use the following code to load and parse it."
   ]
  },
  {
   "cell_type": "code",
   "execution_count": 2,
   "metadata": {
    "colab": {
     "base_uri": "https://localhost:8080/"
    },
    "executionInfo": {
     "elapsed": 6,
     "status": "ok",
     "timestamp": 1667289203610,
     "user": {
      "displayName": "Jorge Fernández de Cossío Díaz",
      "userId": "02544861930102826650"
     },
     "user_tz": -60
    },
    "id": "paz_feOvv1hX",
    "outputId": "7d758a74-2f59-4478-bc9c-5233bad57581"
   },
   "outputs": [
    {
     "name": "stdout",
     "output_type": "stream",
     "text": [
      "Train data:\n",
      "\n",
      "{'is_sarcastic': 0, 'headline': 'sónar festival offers more than you might expect', 'article_link': 'https://www.huffingtonpost.com/entry/sonar-festival-offers-mor_b_5507780.html'}\n",
      "{'is_sarcastic': 1, 'headline': '2013 year in review photo essay shaping up to be quite horrific', 'article_link': 'https://www.theonion.com/2013-year-in-review-photo-essay-shaping-up-to-be-quite-1819575009'}\n",
      "{'is_sarcastic': 1, 'headline': 'angolan war criminal called in as character witness to manafort fraud trial', 'article_link': 'https://politics.theonion.com/angolan-war-criminal-called-in-as-character-witness-to-1828084812'}\n",
      "\n",
      "\n",
      "Tests data:\n",
      "\n",
      "{'is_sarcastic': 1, 'headline': \"mother comes pretty close to using word 'streaming' correctly\", 'article_link': 'https://www.theonion.com/mother-comes-pretty-close-to-using-word-streaming-cor-1819575546'}\n",
      "{'is_sarcastic': 1, 'headline': 'shadow government getting too large to meet in marriott conference room b', 'article_link': 'https://politics.theonion.com/shadow-government-getting-too-large-to-meet-in-marriott-1819570731'}\n",
      "{'is_sarcastic': 1, 'headline': 'area boy enters jumping-and-touching-tops-of-doorways phase', 'article_link': 'https://www.theonion.com/area-boy-enters-jumping-and-touching-tops-of-doorways-p-1819570282'}\n"
     ]
    }
   ],
   "source": [
    "def parse_data(path):\n",
    "    with open(path, 'r', encoding='utf-8') as file:\n",
    "        for l in file:\n",
    "            yield json.loads(l)\n",
    "\n",
    "train_data = list(parse_data('train_data.json'))\n",
    "tests_data = list(parse_data('tests_data.json'))\n",
    "all_data = train_data + tests_data\n",
    "\n",
    "# Use less train data! (for Question 5)\n",
    "#train_data_size = 10000\n",
    "#train_data, tests_data = all_data[:train_data_size], all_data[train_data_size:]\n",
    "\n",
    "# Print some examples\n",
    "print('Train data:\\n')\n",
    "for d in train_data[:3]:\n",
    "    print(d)\n",
    "print('\\n\\nTests data:\\n')\n",
    "for d in tests_data[:3]:\n",
    "    print(d)"
   ]
  },
  {
   "cell_type": "markdown",
   "metadata": {
    "id": "dGJ3Beauxmmr"
   },
   "source": [
    "As you can see, each data point is a Python dictionary with three fields:\n",
    "\n",
    "1. `'is_sarcastic'`, a binary value, equal to 1 if the headline is sarcastic, and equal to 0 otherwise.\n",
    "2. `'headline'`, the news article headline.\n",
    "3. `'article_link'`, a link to the original news article. Although in principle inspecting the news article itself can provide more information, in this tutorial we will **not** do this. For simplicity, please ignore the `'article_link'` field."
   ]
  },
  {
   "cell_type": "code",
   "execution_count": 3,
   "metadata": {
    "colab": {
     "base_uri": "https://localhost:8080/"
    },
    "executionInfo": {
     "elapsed": 276,
     "status": "ok",
     "timestamp": 1666958148928,
     "user": {
      "displayName": "Jorge Fernández de Cossío Díaz",
      "userId": "02544861930102826650"
     },
     "user_tz": -120
    },
    "id": "ljpIeeIiwYSX",
    "outputId": "d7e19ffb-d967-4718-b31f-c1f326e3b191"
   },
   "outputs": [
    {
     "name": "stdout",
     "output_type": "stream",
     "text": [
      "Number of training data points: 22895\n",
      "Number of testing data points:  5724\n"
     ]
    }
   ],
   "source": [
    "# number of train and testing data points\n",
    "print(\"Number of training data points: {}\".format(len(train_data)))\n",
    "print(\"Number of testing data points:  {}\".format(len(tests_data)))"
   ]
  },
  {
   "cell_type": "markdown",
   "metadata": {
    "id": "VYrAp-fZ1QKn"
   },
   "source": [
    "To keep things simple, we will \"define\" a word as any portion of text delimited by spaces. The first thing we will do is to construct a list of all words encountered in all the datasets. We will then construct a dictionary giving the index of any word in this list."
   ]
  },
  {
   "cell_type": "code",
   "execution_count": 4,
   "metadata": {
    "colab": {
     "base_uri": "https://localhost:8080/"
    },
    "executionInfo": {
     "elapsed": 2,
     "status": "ok",
     "timestamp": 1666958149990,
     "user": {
      "displayName": "Jorge Fernández de Cossío Díaz",
      "userId": "02544861930102826650"
     },
     "user_tz": -120
    },
    "id": "58Ly1LwlxqNz",
    "outputId": "19e97400-e667-427c-9349-91fd7d0f2791"
   },
   "outputs": [
    {
     "name": "stdout",
     "output_type": "stream",
     "text": [
      "38234\n"
     ]
    }
   ],
   "source": [
    "# collect all words in a single list (set discards duplicates)\n",
    "all_words = list(set(word for doc in all_data for word in doc['headline'].split()))\n",
    "\n",
    "# total number of words\n",
    "n_words = len(all_words)\n",
    "print(n_words)"
   ]
  },
  {
   "cell_type": "code",
   "execution_count": 5,
   "metadata": {
    "id": "0_JEay2y1GEM"
   },
   "outputs": [],
   "source": [
    "# dictionary giving the index of a word in the list\n",
    "word_index = {word: i for (i, word) in enumerate(all_words)}"
   ]
  },
  {
   "cell_type": "markdown",
   "metadata": {
    "id": "7pC-DC7yJYs4"
   },
   "source": [
    "## Question 1\n",
    "\n",
    "We represent a headline as a binary vector, $\\vec\\sigma=\\{σ_i\\}_{i=1}^L$, where $σ_i = 1$ if word $i$ appears in the headline, and $σ_i = 0$ otherwise. The vector $\\vec\\sigma$ is of length $L$, which equals the total number of words considered (the vocabulary, `all_words` in the code above).\n",
    "\n",
    "***\n",
    "\n",
    "**Q1a):** This representation of texts is missing important aspects of language. Can you give a simple argument for why?\n",
    "\n",
    "> This representation views sentences as bags of words, while in reality the order of the words is crucial to the interpretation of the sentence. The interpretation of a word is highly dependant on those in its neighborhood: typically, the presence of any word can be radically modified if it is preceded by a particle indicating negation (for example *not*).\n",
    ">\n",
    ">Also, this representation only encodes the presence of a word, and not the number of occurences.\n",
    "\n",
    "***\n",
    "\n",
    "We will formulate two maximum entropy models (one for each class) matching the empirical frequencies of words in the train dataset for each class. Let $c=0,1$ be our label ($c=1$ for sarcastic headlines, $c=0$ otherwise). For each word, we define its empirical frequency in headlines of class $c$ as follows:\n",
    "\n",
    "$$p_i(c) = \\frac{1}{M_c}\\sum_{\\vec\\sigma\\in\\mathcal D_c}\\sigma_i$$\n",
    "\n",
    "where $\\mathcal D_c$ is the set of headlines of class $c$, and $M_c=|\\mathcal D_c|$ is their number in our dataset. Notice that if a word appears more than once in a headline, it will still be counted as one. Since some rare words occur very few times in the data, it is recommended to add a *pseudo-count*,\n",
    "\n",
    "$$p_i(c) = \\frac{1}{M_c+1}\\left(\\sum_{\\vec\\sigma\\in\\mathcal D_c}\\sigma_i + 1\\right)$$\n",
    "\n",
    "This avoids unintentional divisions by zero below. This procedure will be better justified in the following lectures when we discuss the role of the prior distribution.\n",
    "\n",
    "As shown in the lecture, the MaxEnt model matching these empirical frequencies for each class, is of the form:\n",
    "\n",
    "$$P(\\vec{\\sigma}|c) = \\frac{e^{\\sum_i h_i(c)\\sigma_i}}{Z(c)}$$\n",
    "\n",
    "where\n",
    "\n",
    "$$Z (c) = \\sum_{\\vec{\\sigma}}e^{\\sum_i h_i (c) \\sigma_i} = \\prod_i\n",
    "\\sum_{\\sigma=0,1}e^{h_i (c) \\sigma_i} = \\prod_i (1 + e^{h_i (c)})$$\n",
    "\n",
    "and the fields $h_i(c)$ are such that the moment-matching constraints are satisfied.\n",
    "\n",
    "***\n",
    "\n",
    "**Q1b)** Write the expression of the fields $h_i(c)$ to satisfy the moment-matching constraints $\\langle \\sigma_i \\rangle_c = p_i(c)$, where $\\langle . \\rangle_c$ indicates the expectations under the model.\n",
    "\n",
    "> Imposing $\\langle \\sigma_i \\rangle_c = p_i(c)$ leads to:\n",
    "\\begin{align}\n",
    "p_i(c) &= \\frac 1 {Z(c)} \\sum_{\\vec{\\sigma}} \\sigma_i e^{\\sum_i h_i(c) \\sigma_i} \\\\\n",
    "&= \\frac 1 {\\prod_i \\left(1 + e^{h_i (c)}\\right)} \\left(0 \\times e^{h_i(c) \\times 0} + 1 \\times e^{h_i(c) \\times 1}\\right) \\prod_{j \\neq i} \\left(e^{h_j(c) \\times 0} + e^{h_j(c) \\times 1}\\right) \\\\\n",
    "&= \\frac{e^{h_i (c)}}{1 + e^{h_i (c)}} \\\\\n",
    "&= \\frac{1}{e^{-h_i (c)} + 1} \\\\\n",
    "\\end{align}\n",
    ">\n",
    "> Meaning that the correct value of the fields is given by:\n",
    "$$ h_i(c) = - \\log\\left( \\frac 1 {p_i(c)} - 1 \\right) $$\n",
    "\n",
    "***\n",
    "\n",
    "**Q1c)** Estimate the fields $h_i(c)$ for all the words in the full dataset, but using only the training data to estimate the empirical frequencies $p_i(c)$ (use the pseudocount, as explained above). Explain why the pseudo-count is necessary. *Hint: Consider a word that occurs in the testset, but not in the training set.*\n",
    "\n",
    "> Using the standard empirical frequency, suppose the $i$-th word appears in sentences of class $1$ but not of class $0$. Then $p_i(0) = 0$ and so $h_i(c) = -\\infty$, meaning that in class $c$, the probability of a sentence containing the $i$-th word is $0$. Mathematically, this is perfectly valid, but would introduce tedious special cases for the numerical implementation. The pseudo-count therefore ensures that all empirical frequencies are strictly positive.\n",
    ">\n",
    "> Conversely, we could also have a problem if $p_i(c) = 1$ leading to $h_i(c) = +\\infty$, but in practice no word occurs systematically in sentences of class $c$, we don't have to account for this possibility."
   ]
  },
  {
   "cell_type": "code",
   "execution_count": 6,
   "metadata": {},
   "outputs": [],
   "source": [
    "frequencies = [np.ones(n_words), np.ones(n_words)]\n",
    "fields = []\n",
    "class_size = [0, 0]\n",
    "\n",
    "for data in train_data:\n",
    "    c = data['is_sarcastic']\n",
    "    headline = data['headline']\n",
    "    class_size[c] += 1\n",
    "    for word in set(headline.split()):\n",
    "        frequencies[c][word_index[word]] += 1\n",
    "\n",
    "for c in [0, 1]:\n",
    "    frequencies[c] /= class_size[c] + 1\n",
    "    fields.append(-np.log((1 / frequencies[c]) - 1))"
   ]
  },
  {
   "cell_type": "markdown",
   "metadata": {
    "id": "wXAEmrpIJfZm"
   },
   "source": [
    "## Question 2.\n",
    "\n",
    "**Q2a)** Plot the histogram of $\\log P(\\vec\\sigma|c=1)$ for the sarcastic headlines, and for the serious headlines (in the same plot), for the test dataset. Are the histograms different?\n",
    "\n",
    "**Q2b)** Plot the histogram of $\\log\\frac{P(\\vec\\sigma|c=1)}{P(\\vec\\sigma|c=0)}$ for the sarcastic headlines, and for the serious headlines. Are the histograms different?\n",
    "\n",
    "**Bonus:** Same as b), but for $\\log P(\\vec\\sigma|c=0)$.\n",
    "\n",
    "**Q2c)** To give a quantitative measure of the separation of the two histograms above, you can compute the difference in means, normalized by the geometric mean of their standard deviations:\n",
    "\n",
    "$$\\frac{|\\langle x\\rangle - \\langle y\\rangle|}{\\sqrt{\\sigma_x \\sigma_y}}$$\n",
    "\n",
    "where $x,y$ denote the two kind of log-likelihoods or log-likelihood differences, considered in a), b)."
   ]
  },
  {
   "cell_type": "code",
   "execution_count": 7,
   "metadata": {},
   "outputs": [],
   "source": [
    "# Compute the logarithm of the partition functions\n",
    "log_partition_functions = []\n",
    "for c in [0, 1]:\n",
    "    log_partition_functions.append(np.sum(np.log(1 + np.exp(fields[c]))))\n",
    "\n",
    "# Compute the log-probabilities of the sentences in class c' according to the distribution knowing c\n",
    "# (With the convention sentence probability[c, c'])\n",
    "log_probabilities = [[[], []], [[], []]]\n",
    "for c in [0, 1]:\n",
    "    for data in train_data:\n",
    "        c_prime = data['is_sarcastic']\n",
    "        words = set(data['headline'].split())\n",
    "        total_field = np.sum([fields[c][word_index[word]] for word in words])\n",
    "        log_proba = total_field - log_partition_functions[c]\n",
    "        log_probabilities[c][c_prime].append(log_proba)"
   ]
  },
  {
   "cell_type": "code",
   "execution_count": 8,
   "metadata": {},
   "outputs": [
    {
     "data": {
      "image/png": "[encoded data removed]",
      "text/plain": [
       "<Figure size 1080x360 with 2 Axes>"
      ]
     },
     "metadata": {
      "needs_background": "light"
     },
     "output_type": "display_data"
    }
   ],
   "source": [
    "fig, ax = plt.subplots(1, 2, figsize=(15,5))\n",
    "\n",
    "class_names = ['non-sarcastic', 'sarcastic']\n",
    "\n",
    "hist_range = (-200, 0)\n",
    "#hist_range = None\n",
    "\n",
    "n_bins = 50\n",
    "for c in [0, 1]:\n",
    "    ax[c].hist(log_probabilities[c][0], label='non-sarcastic', range=hist_range, bins=n_bins, density=True)\n",
    "    ax[c].hist(log_probabilities[c][1], label='sarcastic', range=hist_range, bins=n_bins, density=True, alpha=0.7)\n",
    "    ax[c].set_title(\"Histogram of log-probabilities for the distribution assuming \" + class_names[c])\n",
    "    ax[c].legend()"
   ]
  },
  {
   "cell_type": "markdown",
   "metadata": {},
   "source": [
    "> Thankfully, it appears that assuming a given class, the sentences in that class are generally more probable than those that are not"
   ]
  },
  {
   "cell_type": "code",
   "execution_count": 9,
   "metadata": {
    "scrolled": false
   },
   "outputs": [
    {
     "data": {
      "image/png": "[encoded data removed]",
      "text/plain": [
       "<Figure size 1080x720 with 4 Axes>"
      ]
     },
     "metadata": {
      "needs_background": "light"
     },
     "output_type": "display_data"
    }
   ],
   "source": [
    "fig, ax = plt.subplots(2, 2, figsize=(15,10))\n",
    "\n",
    "hist_range = (-20, 20)\n",
    "#hist_range = None\n",
    "\n",
    "n_bins = 50\n",
    "for c in [0, 1]:\n",
    "    for c_prime in [0, 1]:\n",
    "        ax[c, c_prime].hist(np.array(log_probabilities[1-c][c_prime]) - np.array(log_probabilities[c][c_prime]), range=hist_range, bins=n_bins, density=True)\n",
    "        ax[c, c_prime].set_title(r\"Histogram of $\\log\\frac{{P(\\vec\\sigma|c={})}}{{P(\\vec\\sigma|c={})}}$ for \".format(1-c, c) + class_names[c_prime] + \" headlines\")"
   ]
  },
  {
   "cell_type": "markdown",
   "metadata": {},
   "source": [
    "> Again, unsurprisingly, headlines are on average more probable according to the distribution corresponding to their class.\n",
    ">\n",
    "> Let us now compute the difference in mean for the two histograms on the top."
   ]
  },
  {
   "cell_type": "code",
   "execution_count": 10,
   "metadata": {},
   "outputs": [
    {
     "name": "stdout",
     "output_type": "stream",
     "text": [
      "Histogram separation: 0.9272\n"
     ]
    }
   ],
   "source": [
    "histogram_means = []\n",
    "histogram_stds = []\n",
    "for c_prime in [0, 1]:\n",
    "    histogram_means.append(np.mean(np.array(log_probabilities[1][c_prime]) - np.array(log_probabilities[0][c_prime])))\n",
    "    histogram_stds.append(np.std(np.array(log_probabilities[1][c_prime]) - np.array(log_probabilities[0][c_prime])))\n",
    "\n",
    "print(\"Histogram separation: {:.4}\".format(np.abs(histogram_means[0] - histogram_means[1]) / np.prod(histogram_stds)))"
   ]
  },
  {
   "cell_type": "markdown",
   "metadata": {
    "id": "1xAJCecv7Nsn"
   },
   "source": [
    "### Question 3\n",
    "\n",
    "***\n",
    "\n",
    "**Q3a)** Using Bayes theorem, compute the ratio $P(c=1|\\vec{\\sigma})/P(c=0|\\vec{\\sigma})$ for the headlines in your testing set (note that $P(\\vec{\\sigma})$ cancels). To obtain an empirical estimate of $P(c)$, you can count the number of headlines in each class of the training set. Your classifier will use these ratios as the scores to predict the label of a headline.\n",
    "\n",
    "> Using the definition of conditional probability:\n",
    ">\n",
    ">\\begin{align}\n",
    "\\frac {P\\left(c=1|\\vec{\\sigma}\\right)} {P\\left(c=0|\\vec{\\sigma}\\right)} &= \\frac {P\\left(c=1 \\cap \\vec{\\sigma}\\right) P\\left( \\vec \\sigma \\right)} {P\\left(c=0 \\cap \\vec{\\sigma}\\right) P\\left( \\vec \\sigma \\right)} \\\\\n",
    "&= \\frac {P\\left(\\vec{\\sigma} | c=1\\right) P\\left( c=1 \\right)} {P\\left(\\vec{\\sigma} | c=0\\right) P\\left( c=0 \\right)} \\\\\n",
    "\\end{align}\n",
    ">\n",
    "> Taking the logarithm for numerical stability, we get:\n",
    ">\n",
    ">$$ \\log \\left( \\frac {P\\left(c=1|\\vec{\\sigma}\\right)} {P\\left(c=0|\\vec{\\sigma}\\right)} \\right) = \\log P\\left(\\vec{\\sigma} | c=1\\right) - \\log P\\left(\\vec{\\sigma} | c=0\\right) + \\log P\\left( c=1 \\right) - \\log P\\left( c=0 \\right) $$\n",
    ">\n",
    "> For a given threshold $t$, our classifier is then given by:\n",
    ">\n",
    ">\\begin{equation}\n",
    "\\begin{cases}\n",
    "\\log \\left( \\frac {P\\left(c=1|\\vec{\\sigma}\\right)} {P\\left(c=0|\\vec{\\sigma}\\right)} \\right) \\geq \\log t &\\to c=1 \\\\\n",
    "\\log \\left( \\frac {P\\left(c=1|\\vec{\\sigma}\\right)} {P\\left(c=0|\\vec{\\sigma}\\right)} \\right) < \\log t &\\to c=0\n",
    "\\end{cases}\n",
    "\\end{equation}\n",
    ">\n",
    "> We typically expect good values of $t$ to be close to $1$.\n",
    "\n",
    "\n",
    "***\n",
    "\n",
    "**Q3b)** How accurate is this classifier? To quantify this, plot the Receiver Operating Characteristic Curve (ROC) and compute the Area Under the Curve (AUC). See Appendix for an explanation of the ROC and the AUC. *Hint: The ROC curve is easier to obtain if you assume that the scores are sorted. You can also use the functions `roc_curve` and `auc` from the python package `sklearn`.*\n",
    "\n",
    "> At $t=1$, we get an accuracy of $86.4\\%$\n",
    ">\n",
    "> We get a ROC AUC of $0.94$\n",
    "\n",
    "\n",
    "**Bonus:** What is the ROC curve and AUC of a random classifier (that emits random labels for each headline)? What is the ROC curve and AUC of a perfect classifier (that emits the correct label for every headline)?\n",
    "\n",
    "> For a random classifier, the ROC curve is the identity since the score is uncorrelated to the class, and the AUC is therefore $1/2$\n",
    ">\n",
    "> For a perfect classifier, the ROC curve constant equal to $1$ and goes to $0$ at $0$. The AUC is therefore $1$.\n",
    "\n",
    "**Bonus:** Describe the connection between the areas under the histogram  curves of exercise 2 from d) and the AUC.\n",
    "\n",
    "***\n",
    "\n",
    "**(BONUS) Q3c)** Estimate the mutual information between the headline and the label,\n",
    "\n",
    "$$MI(\\vec\\sigma,c)=\\sum_{\\vec\\sigma,c}P(\\vec\\sigma,c)\\ln\\left(\\frac{P(\\vec\\sigma,c)}{P(\\vec\\sigma)P(c)}\\right)$$\n",
    "\n",
    "Using the exact expression is intractable. However, you can obtain a practical estimate by approximating the outer average over the model distribution $P(\\vec\\sigma,c)$, with an empirical average over your data,\n",
    "\n",
    "$$MI(\\vec\\sigma,c)\\approx\\frac{1}{M}\\sum_d\\ln\\left(\\frac{P(\\vec\\sigma_d,c_d)}{P(\\vec\\sigma_d)P(c_d)}\\right)$$\n",
    "\n",
    "where the sum over $d$ goes over the labeled headlines $\\vec\\sigma_d,c_d$ of your dataset. Estimate $MI(\\vec\\sigma,c)$ using this approximate expression for your training set and your testing set.\n",
    "\n",
    "> We begin by re-expressing the empirical mutual information using $P(\\vec\\sigma_d) = \\sum_c P(\\vec\\sigma_d \\cap c) = \\sum_c P(\\vec\\sigma_d | c) P(c)$ where $P(c)$ is evaluated using the empirical frequency of $c$, and using Bayes's theorem for $P(\\vec\\sigma_d,c_d)$:\n",
    ">\n",
    ">\\begin{align}\n",
    "MI(\\vec\\sigma,c) &\\approx \\frac{1}{M} \\sum_d \\left( \\log {P(\\vec\\sigma_d | c_d)} - \\log P(\\vec\\sigma_d) \\right) \\\\\n",
    "&\\approx \\frac{1}{M} \\sum_d \\left( \\log {P(\\vec\\sigma_d | c_d)} - \\log \\left( P(\\vec\\sigma_d | c=0) P(c=0) + P(\\vec\\sigma_d | c=1) P(c=1) \\right) \\right)\n",
    "\\end{align}"
   ]
  },
  {
   "cell_type": "code",
   "execution_count": 11,
   "metadata": {},
   "outputs": [],
   "source": [
    "# Empirical probability of each class\n",
    "class_probabilities = np.array(class_size, dtype=float)\n",
    "class_probabilities /= np.sum(class_probabilities)\n",
    "\n",
    "def maxent_log_score(sentence):\n",
    "    \"\"\"Output the log-score of the sentence\"\"\"\n",
    "    words = set(sentence.split())\n",
    "    log_score = 0\n",
    "    for c in [0, 1]:\n",
    "        total_field = np.sum([fields[c][word_index[word]] for word in words])\n",
    "        log_proba = total_field - log_partition_functions[c]\n",
    "        log_score += (2 * c - 1) * (log_proba + np.log(class_probabilities[c]))\n",
    "    return log_score"
   ]
  },
  {
   "cell_type": "code",
   "execution_count": 12,
   "metadata": {},
   "outputs": [
    {
     "name": "stdout",
     "output_type": "stream",
     "text": [
      "ROC AUC of our classifier: 0.9373\n"
     ]
    },
    {
     "data": {
      "image/png": "[encoded data removed]",
      "text/plain": [
       "<Figure size 432x288 with 1 Axes>"
      ]
     },
     "metadata": {
      "needs_background": "light"
     },
     "output_type": "display_data"
    }
   ],
   "source": [
    "# Compute the log-scores for the test dataset\n",
    "test_classes = []\n",
    "test_log_scores = []\n",
    "for data in tests_data:\n",
    "    test_classes.append(data['is_sarcastic'])\n",
    "    test_log_scores.append(maxent_log_score(data['headline']))\n",
    "\n",
    "fpr, tpr, thresholds = roc_curve(test_classes, test_log_scores)\n",
    "\n",
    "plt.plot(fpr, tpr, label='Our classifier')\n",
    "plt.plot([0,1], [0,1], ls='--', label='Random classifier')\n",
    "plt.plot([0,0,1], [0,1,1], ls='--', label='Perfect classifier')\n",
    "plt.xlabel(\"False positive rate\")\n",
    "plt.ylabel(\"True positive rate\")\n",
    "plt.title(\"ROC curve of the log-score\")\n",
    "plt.legend()\n",
    "\n",
    "print(\"ROC AUC of our classifier: {:.4}\".format(roc_auc_score(test_classes, test_log_scores)))"
   ]
  },
  {
   "cell_type": "markdown",
   "metadata": {},
   "source": [
    "> To get a clearer look at our classifier's performance, let us set $t = 1$, (so that $\\log t = 0$) and compute the accuracy."
   ]
  },
  {
   "cell_type": "code",
   "execution_count": 13,
   "metadata": {},
   "outputs": [
    {
     "name": "stdout",
     "output_type": "stream",
     "text": [
      "Accuracy at t=1: 86.3557%\n"
     ]
    }
   ],
   "source": [
    "test_predictions = np.array(test_log_scores) >= 0\n",
    "print(\"Accuracy at t=1: {:.4%}\".format(accuracy_score(test_classes, test_predictions)))"
   ]
  },
  {
   "cell_type": "code",
   "execution_count": 14,
   "metadata": {},
   "outputs": [],
   "source": [
    "# Compute the log-probabilities of the sentences in class c' according to the distribution knowing c for the test set\n",
    "# (With the convention sentence probability[c, c'])\n",
    "test_log_probabilities = [[[], []], [[], []]]\n",
    "for c in [0, 1]:\n",
    "    for data in tests_data:\n",
    "        c_prime = data['is_sarcastic']\n",
    "        words = set(data['headline'].split())\n",
    "        total_field = np.sum([fields[c][word_index[word]] for word in words])\n",
    "        log_proba = total_field - log_partition_functions[c]\n",
    "        test_log_probabilities[c][c_prime].append(log_proba)"
   ]
  },
  {
   "cell_type": "code",
   "execution_count": 15,
   "metadata": {},
   "outputs": [
    {
     "name": "stdout",
     "output_type": "stream",
     "text": [
      "Mutual information of the training dataset: 0.5529\n",
      "Mutual information of the testing dataset:  0.355\n"
     ]
    }
   ],
   "source": [
    "# Mutual informations\n",
    "train_mutual_information = 0\n",
    "test_mutual_information = 0\n",
    "\n",
    "for c in [0,1]:\n",
    "    train_mutual_information += np.sum(log_probabilities[c][c])\n",
    "    test_mutual_information += np.sum(test_log_probabilities[c][c])\n",
    "\n",
    "for c_prime in [0,1]:\n",
    "    \n",
    "    for log_proba_c0, log_proba_c1 in zip(log_probabilities[0][c_prime], log_probabilities[1][c_prime]):\n",
    "        train_mutual_information -= np.logaddexp(log_proba_c0 + np.log(class_probabilities[0]), log_proba_c1 + np.log(class_probabilities[1]))\n",
    "    \n",
    "    for test_log_proba_c0, test_log_proba_c1 in zip(test_log_probabilities[0][c_prime], test_log_probabilities[1][c_prime]):\n",
    "        test_mutual_information -= np.logaddexp(test_log_proba_c0 + np.log(class_probabilities[0]), test_log_proba_c1 + np.log(class_probabilities[1]))\n",
    "    \n",
    "\n",
    "            \n",
    "train_mutual_information /= len(train_data)\n",
    "test_mutual_information /= len(tests_data)\n",
    "\n",
    "\n",
    "print(\"Mutual information of the training dataset: {:.4}\".format(train_mutual_information))\n",
    "print(\"Mutual information of the testing dataset:  {:.4}\".format(test_mutual_information))"
   ]
  },
  {
   "cell_type": "markdown",
   "metadata": {},
   "source": [
    "> It makes sense that the mutual information is larger on the training dataset, than on the testing dataset since the conditional distributions we consider were designed from the training dataset and therefore over-estimate the correlations between the class and the headlines over the training dataset as opposed to the testing dataset."
   ]
  },
  {
   "cell_type": "markdown",
   "metadata": {
    "id": "kYbVCUcm1y_j"
   },
   "source": [
    "### Question 4\n",
    "\n",
    "Compute the Kullback-Leiber (KL) divergences between the 2 models,\n",
    "\n",
    "$$D_{KL}(P(\\vec\\sigma|c=0) || P(\\vec\\sigma|c=1))$$\n",
    "\n",
    "and\n",
    "\n",
    "$$D_{KL}(P(\\vec\\sigma|c=1) || P(\\vec\\sigma|c=0))$$\n",
    "\n",
    "Why are the two KL divergences different?\n",
    "\n",
    "> Using the formula derived below, we obtain the Kullback Leibler divergences:\n",
    ">\n",
    ">\\begin{align}\n",
    "D_\\text{KL}\\left( P_{c=0} \\middle\\| P_{c=1} \\right) &= 4.748 \\\\\n",
    "D_\\text{KL}\\left( P_{c=1} \\middle\\| P_{c=0} \\right) &= 4.965\n",
    "\\end{align}\n",
    ">\n",
    "> The Kullback-Leibler divergence is not symmetric so those two values have no reason to be the same.\n",
    "\n",
    "***\n",
    "\n",
    "**Q4a)** Show that the KL divergences above are sums of contributions for each word. Derive analytical expressions, as functions of the fields $h_i(c)$ in each case.\n",
    "\n",
    "> The Kullback-Leibler divergence can be expressed as:\n",
    "\\begin{align}\n",
    "D_\\text{KL}\\left( P_{c=0} \\middle\\| P_{c=1} \\right) &= \\sum_\\vec{\\sigma} P\\left( \\vec{\\sigma} | c=0 \\right) \\log \\left( \\frac {P\\left( \\vec \\sigma | c=0 \\right)} {P\\left( \\vec \\sigma | c=1 \\right)} \\right) \\\\\n",
    "&= \\frac 1 {Z(0)} \\sum_\\vec{\\sigma} e^{\\sum_i h_i(0) \\sigma_i} \\left[ -\\log Z(0) + \\log Z(1) + \\sum_j \\left(h_j(0) - h_j(1)\\right) \\sigma_j \\right] \\\\\n",
    "&= -\\log Z(0) + \\log Z(1) + \\sum_j \\left(h_j(0) - h_j(1)\\right) \\frac 1 {Z(0)} \\sum_\\vec{\\sigma} e^{\\sum_i h_i(0) \\sigma_i} \\sigma_j \\\\\n",
    "&= -\\log Z(0) + \\log Z(1) + \\sum_j \\left(h_j(0) - h_j(1)\\right) \\frac {e^{h_j(0)}} {1 + e^{h_j(0)}} \\\\\n",
    "&= -\\log Z(0) + \\log Z(1) + \\sum_j \\left(h_j(0) - h_j(1)\\right) p_j(0)\n",
    "\\end{align}\n",
    ">\n",
    "> Inversely:\n",
    "$$ D_\\text{KL}\\left( P_{c=1} \\middle\\| P_{c=0} \\right) = -\\log Z(1) + \\log Z(0) + \\sum_j \\left(h_j(1) - h_j(0)\\right) p_j(1) $$\n",
    "\n",
    "***\n",
    "\n",
    "**Q4b)** Consider the task of classifying a newspaper as publishing sarcastic or non-sarcastic news articles. Estimate (approximatey) how many headlines your model will need to guess the correct classification confidently (with a probability of error below $10^{-10}$), assuming that in reality, i) the news-source publishes sarcastic headlines, or ii) the news-source publishes serious articles.\n",
    "\n",
    "> Recall that the score of a single sentence $\\vec{\\sigma}_n$ is given by:\n",
    ">\n",
    "> $$ A\\left( \\vec{\\sigma}_n \\right) = \\log \\left( \\frac {P\\left(c=1|\\vec{\\sigma}_n\\right)} {P\\left(c=0|\\vec{\\sigma}_n\\right)} \\right) = \\log P\\left(\\vec{\\sigma}_n | c=1\\right) - \\log P\\left(\\vec{\\sigma}_n | c=0\\right) + \\log P\\left( c=1 \\right) - \\log P\\left( c=0 \\right) $$\n",
    ">\n",
    "> and we then predict the class depending on the sign of $A\\left( \\vec{\\sigma}_n \\right)$:\n",
    "\\begin{equation}\n",
    "\\begin{cases}\n",
    "A\\left( \\vec{\\sigma}_n \\right) \\geq 0 &\\to c=1 \\\\\n",
    "A\\left( \\vec{\\sigma}_n \\right) < 0 &\\to c=0\n",
    "\\end{cases}\n",
    "\\end{equation}\n",
    ">\n",
    "> We can therefore define the score of $N$ sentences to be the average of the individual scores:\n",
    ">\n",
    ">\\begin{align}\n",
    "A_N\\left( \\left\\{ \\vec{\\sigma}_n \\right\\} \\right) &= \\frac 1 N \\sum_n \\log \\left( \\frac {P\\left(c=1|\\vec{\\sigma}_n\\right)} {P\\left(c=0|\\vec{\\sigma}_n\\right)} \\right) \\\\\n",
    "&= \\log P\\left( c=1 \\right) - \\log P\\left( c=0 \\right) + \\frac 1 N \\sum_n \\left[ \\log P\\left(\\vec{\\sigma}_n | c=1\\right) - \\log P\\left(\\vec{\\sigma}_n | c=0\\right) \\right]\n",
    "\\end{align}\n",
    ">\n",
    "> The $N$ random variables $X_n = \\log P\\left(\\vec{\\sigma}_n | c=1\\right) - \\log P\\left(\\vec{\\sigma}_n | c=0\\right)$ are independant variables dependant on $\\vec{\\sigma}_n$. If we assume that the $\\vec{\\sigma}_n$ follow the probabilities $P_{c^*}$ where $c^*$ is the class of the newspaper, then we can use the central limit theorem to show that the averages approximately follow a Gaussian distribution $\\mathcal N \\left(\\langle X_1 \\rangle, \\frac {V(X_1)} {N}\\right)$. The mean of $X_1$ is given by:\n",
    ">\n",
    ">\\begin{align}\n",
    "\\left\\langle \\log P\\left(\\vec{\\sigma}_1 | c=1\\right) - \\log P\\left(\\vec{\\sigma_1} | c=0\\right) \\right\\rangle_{P_{c^*}} &= \\sum_\\vec{\\sigma} P\\left(\\vec{\\sigma} | c^*\\right) \\log P\\left(\\vec{\\sigma} | c=1\\right) - \\sum_\\vec{\\sigma} P\\left(\\vec{\\sigma} | c^*\\right) \\log P\\left(\\vec{\\sigma} | c=0\\right) \\\\\n",
    "&= - S_c\\left(P_{c^*}, P_{c=1} \\right) + S_c\\left(P_{c^*}, P_{c=0} \\right) \\\\\n",
    "&= - S\\left(P_{c^*}\\right) - D_\\text{KL}\\left( P_{c^*} \\middle\\| P_{c=1} \\right) + S\\left(P_{c^*}\\right) + D_\\text{KL}\\left( P_{c^*} \\middle\\| P_{c=0} \\right) \\\\\n",
    "&= D_\\text{KL}\\left( P_{c^*} \\middle\\| P_{c=0} \\right) - D_\\text{KL}\\left( P_{c^*} \\middle\\| P_{c=1} \\right) \\\\\n",
    "&= \\delta_{c^*, 1} D_\\text{KL}\\left( P_{c=1} \\middle\\| P_{c=0} \\right) - \\delta_{c^*, 0} D_\\text{KL}\\left( P_{c=0} \\middle\\| P_{c=1} \\right)\n",
    "\\end{align}\n",
    ">\n",
    "> To compute the second moment $\\langle X^2_1 \\rangle$ of $X_1$, we follow steps similar to the ones we took for the Kullback-Leibler divergence. In order to make the calculations easier to read, we use following notations: $B = \\log Z(0) - \\log Z(1)$ and $h'_j = h_j(1) - h_j(0)$. Then:\n",
    ">\n",
    ">\\begin{align}\n",
    "\\left\\langle \\log^2 \\left( \\frac{P\\left(\\vec{\\sigma}_1 | c=1\\right)} {P\\left(\\vec{\\sigma_1} | c=0\\right)} \\right) \\right\\rangle_{P_{c^*}} &= \\sum_\\vec{\\sigma} P\\left( \\vec \\sigma | c^* \\right) \\log^2 \\left( \\frac {P\\left( \\vec \\sigma | c=1 \\right)} {P\\left( \\vec \\sigma | c=0 \\right)} \\right) \\\\\n",
    "&= \\frac 1 {Z\\left(c^*\\right)} \\sum_\\vec{\\sigma} e^{\\sum_k h_k(c^*) \\sigma_k} \\left[ -\\log Z(1) + \\log Z(0) + \\sum_j \\left(h_j(1) - h_j(0)\\right) \\sigma_j \\right]^2 \\\\\n",
    "&= \\frac 1 {Z\\left(c^*\\right)} \\sum_\\vec{\\sigma} e^{\\sum_k h_k(c^*) \\sigma_k} \\left[ B + \\sum_j h'_j \\sigma_j \\right]^2 \\\\\n",
    "&= B^2 + 2 B \\frac {1} {Z\\left(c^*\\right)} \\sum_\\vec{\\sigma} e^{\\sum_k h_k(c^*) \\sigma_k} \\sum_j h'_j \\sigma_j + \\frac 1 {Z\\left(c^*\\right)} \\sum_\\vec{\\sigma} e^{\\sum_k h_k(c^*) \\sigma_k} \\sum_{ij} h'_i h'_j \\sigma_i \\sigma_j \\\\\n",
    "&= B^2 + 2 B \\sum_j h'_j \\frac {1} {Z\\left(c^*\\right)} \\sum_\\vec{\\sigma} e^{\\sum_k h_k(c^*) \\sigma_k} \\sigma_j + \\sum_{ij} h'_i h'_j \\frac 1 {Z\\left(c^*\\right)} \\sum_\\vec{\\sigma} e^{\\sum_k h_k(c^*) \\sigma_k} \\sigma_i \\sigma_j \\\\\n",
    "&= B^2 + 2 B \\sum_j h'_j p_j(c^*) + \\sum_{i \\neq j} h'_i h'_j p_i(c^*) p_j(c^*) + \\sum_j h'^2_j p_j(c^*) \\\\\n",
    "&= B^2 + 2 B \\sum_j h'_j p_j(c^*) + \\left[ \\sum_j h'_j p_j(c^*) \\right]^2 + \\sum_j h'^2_j (p_j(c^*) - p_j^2(c^*)) \\\\\n",
    "&= \\left[ B + \\sum_j h'_j p_j(c^*) \\right]^2 + \\sum_j h'^2_j (p_j(c^*) - p_j^2(c^*)) \\\\\n",
    "&= \\left\\langle \\log \\left( \\frac{P\\left(\\vec{\\sigma}_1 | c=1\\right)} {P\\left(\\vec{\\sigma_1} | c=0\\right)} \\right) \\right\\rangle^2_{P_{c^*}} + \\sum_j h'^2_j (p_j(c^*) - p_j^2(c^*))\n",
    "\\end{align}\n",
    ">\n",
    "> This yields an especially simple expression for the variance:\n",
    ">\n",
    ">$$ V(X_1) = \\sum_j \\left( h_j(1) - h_j(0)\\right)^2 (p_j(c^*) - p_j^2(c^*))$$\n",
    ">\n",
    "> Now that we know that $A_N\\left( \\left\\{ \\vec{\\sigma}_n \\right\\} \\right)$ follows a Gaussian distribution $\\mathcal N \\left( \\mu\\left(c^*\\right), \\frac {V(X_1)\\left(c^*\\right)} {N}\\right)$ with \n",
    ">\n",
    ">\\begin{equation}\n",
    "\\begin{cases}\n",
    "\\mu\\left(c^*\\right) &= \\log P\\left( c=1 \\right) - \\log P\\left( c=0 \\right) + \\delta_{c^*, 1} D_\\text{KL}\\left( P_{c=1} \\middle\\| P_{c=0} \\right) - \\delta_{c^*, 0} D_\\text{KL}\\left( P_{c=0} \\middle\\| P_{c=1} \\right) \\\\\n",
    "V(X_1)(c^*) &= \\sum_j \\left( h_j(1) - h_j(0)\\right)^2 (p_j(c^*) - p_j^2(c^*)) \\\\\n",
    "\\end{cases}\n",
    "\\end{equation}\n",
    ">\n",
    "> we want to the probability of getting a positive score if $c=0$ or a negative score if $c=1$, which is given by:\n",
    ">\n",
    "> $$ 1 - c^* + (-1)^{c^*+1} F_{c^*, N}(0) $$\n",
    ">\n",
    "> with $F_{c^*, N}$ the cumulative probability function of $\\mathcal N \\left( \\mu\\left(c^*\\right), \\frac {V(X_1)\\left(c^*\\right)} {N}\\right)$. Setting this quantity equal to $10^{-10}$ provides us an equation for each $c^*$ that gives the required $N$ to obtain this precision (still under the assumption of validity of the central theorem).\n",
    ">\n",
    "> We obtain the following results:\n",
    ">- For a non-sarcastic newspaper: $N = 20$\n",
    ">- For a sarcastic newspaper: $N = 22$\n",
    "\n",
    "***\n",
    "\n",
    "**Q4c)** To model different newspapers, construct datasets $D_1(c=1), D_2(c=1), \\dots, D_{10}(c=1)$ consisting of different numbers of sarcastic headlines only, by taking the first 5, 10, 15, ..., 50, sarcastic headlines from the test dataset. Similarly, construct datasets $D_1(c=0), D_2(c=0), \\dots, D_{10}(c=0)$ consisting of serious headlines only, by taking the first 5, 10, 15, .. 50 serious headlines from the test dataset. Compute the log-likelihood of each of these datasets under the two models $P(\\vec\\sigma|c=0,1)$.\n",
    "\n",
    "**Q4d)** Plot the log-likelihood difference versus the number of headlines in each of the datasets constructed in Q4c). What is the expected slope of this plot?\n",
    "\n",
    "> In principle, the slope should be $-D_\\text{KL}\\left( P_{c=0} \\middle\\| P_{c=1} \\right)$ for the non-sarcastic dataset, and $D_\\text{KL}\\left( P_{c=1} \\middle\\| P_{c=0} \\right)$ for the sarcastic dataset as we showed in **4b**.\n",
    "\n",
    "**Q4e)** Plot the log-likelihood difference per headlines (i.e., divided by number of headlines), versus the number of headlines in each of the datasets constructed in c). What is the expected asymptotic of this plot?\n",
    "\n",
    "> Again, in principle, the limit should be $-D_\\text{KL}\\left( P_{c=0} \\middle\\| P_{c=1} \\right)$ for the non-sarcastic dataset, and $D_\\text{KL}\\left( P_{c=1} \\middle\\| P_{c=0} \\right)$ for the sarcastic dataset. In practice, data outside the training dataset are less easy to classify, and their limits is therefore closer to 0 than it should in theory. However, if we do the same for the testing dataset, we indeed obtain limits very close to the Kullback-Leibler divergences as predicted."
   ]
  },
  {
   "cell_type": "code",
   "execution_count": 16,
   "metadata": {},
   "outputs": [
    {
     "name": "stdout",
     "output_type": "stream",
     "text": [
      "KL divergence of P_0 and P_1: 4.748\n",
      "KL divergence of P_1 and P_0: 4.965\n"
     ]
    }
   ],
   "source": [
    "# Compute the Kullback-Leibler divergence\n",
    "# kl_divergence[c] is the Kullback-Leibler divergence of c and 1-c\n",
    "\n",
    "kl_divergence = []\n",
    "for c in [0, 1]:\n",
    "    kl_divergence.append(- log_partition_functions[c] + log_partition_functions[1 - c] + np.sum((fields[c] - fields[1-c])*frequencies[c]))\n",
    "    print(\"KL divergence of P_{} and P_{}: {:.4}\".format(c, 1-c, kl_divergence[-1]))"
   ]
  },
  {
   "cell_type": "code",
   "execution_count": 17,
   "metadata": {},
   "outputs": [],
   "source": [
    "# Compute the mean of the Gaussian distribution\n",
    "mu = np.zeros(2)\n",
    "mu += np.log(class_probabilities[1]) - np.log(class_probabilities[0])\n",
    "mu[0] += -kl_divergence[0]\n",
    "mu[1] += kl_divergence[1]\n",
    "\n",
    "# Compute the variance of the Gaussian distribution\n",
    "variance = np.zeros(2)\n",
    "for c in [0, 1]:\n",
    "    variance[c] = np.sum(((fields[1] - fields[0])**2) * (frequencies[c] - frequencies[c]**2))"
   ]
  },
  {
   "cell_type": "code",
   "execution_count": 18,
   "metadata": {},
   "outputs": [
    {
     "name": "stdout",
     "output_type": "stream",
     "text": [
      "Number of data points to be have error probability of 1e-10 if non-sarcastic :\t20\n",
      "Number of data points to be have error probability of 1e-10 if sarcastic :\t22\n"
     ]
    }
   ],
   "source": [
    "confidence_sizes = [0, 0]\n",
    "score_distributions = []\n",
    "\n",
    "for c in [0, 1]:\n",
    "    while True:\n",
    "        confidence_sizes[c] += 1\n",
    "        distribution = norm(loc=mu[c], scale=(variance[c] / confidence_sizes[c])**0.5)\n",
    "        if 1 - c + (-1)**(c+1) * distribution.cdf(0) < 1e-10:\n",
    "            score_distributions.append(distribution)\n",
    "            print(\"Number of data points to be have error probability of 1e-10 if \"+class_names[c]+\" :\\t{}\".format(confidence_sizes[c]))\n",
    "            break"
   ]
  },
  {
   "cell_type": "code",
   "execution_count": 19,
   "metadata": {
    "scrolled": true
   },
   "outputs": [
    {
     "name": "stdout",
     "output_type": "stream",
     "text": [
      "\n"
     ]
    },
    {
     "data": {
      "image/png": "[encoded data removed]",
      "text/plain": [
       "<Figure size 432x288 with 1 Axes>"
      ]
     },
     "metadata": {
      "needs_background": "light"
     },
     "output_type": "display_data"
    }
   ],
   "source": [
    "x = np.linspace(-20,20,500)\n",
    "for c in [0, 1]:\n",
    "    plt.plot(x, score_distributions[c].pdf(x), label=class_names[c])\n",
    "\n",
    "plt.legend()\n",
    "plt.axvline(0, ls='--', c='k')\n",
    "\n",
    "plt.title(\"Probability distribution of the average score for datasets in both classes\")\n",
    "\n",
    "print()"
   ]
  },
  {
   "cell_type": "code",
   "execution_count": 20,
   "metadata": {},
   "outputs": [
    {
     "name": "stdout",
     "output_type": "stream",
     "text": [
      "\n"
     ]
    },
    {
     "data": {
      "image/png": "[encoded data removed]",
      "text/plain": [
       "<Figure size 1080x360 with 2 Axes>"
      ]
     },
     "metadata": {
      "needs_background": "light"
     },
     "output_type": "display_data"
    }
   ],
   "source": [
    "log_proba_dif_for_sizes = [[], []]\n",
    "log_proba_dif_for_sizes_normalized = [[], []]\n",
    "dataset_sizes = list(range(5, 1001, 5))\n",
    "\n",
    "for dataset_size in dataset_sizes:\n",
    "    for c_prime in [0, 1]:\n",
    "        log_proba_dif = np.sum(np.array(test_log_probabilities[1][c_prime][:dataset_size]) - np.array(test_log_probabilities[0][c_prime][:dataset_size]))\n",
    "        # UNCOMMENT TO USE THE TRAIN DATASET #log_proba_dif = np.sum(np.array(log_probabilities[1][c_prime][:dataset_size]) - np.array(log_probabilities[0][c_prime][:dataset_size]))\n",
    "        log_proba_dif_for_sizes[c_prime].append(log_proba_dif)\n",
    "        log_proba_dif_for_sizes_normalized[c_prime].append(log_proba_dif / dataset_size)\n",
    "\n",
    "fig, ax = plt.subplots(1, 2, figsize=(15, 5))\n",
    "for c_prime in [0, 1]:\n",
    "    ax[0].plot(dataset_sizes, log_proba_dif_for_sizes[c_prime], label=class_names[c_prime])\n",
    "    ax[1].plot(dataset_sizes, log_proba_dif_for_sizes_normalized[c_prime], label=class_names[c_prime])\n",
    "\n",
    "ax[1].axhline(-kl_divergence[0], ls='--', c='b', label=r'$-D_{KL} (P_{c=0} \\|  P_{c=1})$')\n",
    "ax[1].axhline(kl_divergence[1], ls='--', c='y', label=r'$D_{KL} (P_{c=1} \\|  P_{c=0})$')\n",
    "    \n",
    "for axe in ax:\n",
    "    axe.legend()\n",
    "    axe.set_xlabel(\"Dataset size\")\n",
    "\n",
    "ax[0].set_ylabel(\"Dataset total log-likelihood\")\n",
    "ax[1].set_ylabel(\"Dataset average log-likelihood\")\n",
    "ax[0].set_title(\"Total log-likelihood of a non-sarcastic or sarcastic dataset\")\n",
    "ax[1].set_title(\"Average log-likelihood of a non-sarcastic or sarcastic dataset\")\n",
    "\n",
    "print()"
   ]
  },
  {
   "cell_type": "markdown",
   "metadata": {
    "id": "bo9448SBdAOQ"
   },
   "source": [
    "## Question 5\n",
    "\n",
    "In the previous exercises, your training dataset contained $\\approx 80\\%$ of headlines in your entire dataset. Repeat exercises 1-4, but reducing your training dataset to only the first 100, 1000, and 10000 headlines, assigning all the remaining headlines to the testing set. Discuss the impact on the performance of the model of the limited training data. Plot the AUC for the different sizes of training data, and the score computed in Q2c. *Hint: You can just modify the definition of `train_data` in the first cell of this notebook and re-run everything else!*\n",
    "\n",
    "> The results are summed up in the following table:\n",
    ">\n",
    ">| Train data size | Accuracy | ROC AUC | Histogram distance |\n",
    "| :- | :-: | :-: | :-: |\n",
    "| $100$ | $52.37\\%$ | $0.76$ | $2.45$\n",
    "| $1000$ | $62.65\\%$ | $0.84$ | $1.68$\n",
    "| $10000$ | $82.95\\%$ | $0.92$ | $1.08$\n",
    "| $22895$ | $86.36\\%$ | $0.94$ | $0.93$\n",
    ">\n",
    "> Unsurprisingly, everything gets better the more we have training data (though we must be careful to keep a reasonable amount of testing data)."
   ]
  },
  {
   "cell_type": "markdown",
   "metadata": {
    "id": "4eUuuaZ98FA1"
   },
   "source": [
    "# Appendix: ROC and AUC\n",
    "\n",
    "Given predicted scores $S_i$ (in the exercises above you will use the odds ratio $P(c=1|\\vec\\sigma)/P(c=0|\\vec\\sigma)$) of the headlines $\\vec\\sigma_i$, and their true labels, $y_i=0,1$, we consider a threshold $t$ and assume that headlines for which $S_i > t$ are predicted to be sarcastic, while those for which $S_i\\le t$ are predicted to be non-sarcastic. We define:\n",
    "\n",
    "$$TP(t) = \\text{number of true positives}\\quad\n",
    "(S_i > t\\, \\text{and}\\, y_i=1)$$\n",
    "$$FP(t) = \\text{number of false positives}\\quad\n",
    "(S_i > t\\, \\text{and}\\, y_i=0)$$\n",
    "\n",
    "That is, $TP(t)$ is the number of correctly classified positive (sarcastic) headlines, and $FP(t)$ is the number of wrongly classified negative (non-sarcastic) headlines. In addition, let $P$ be the total number of sarcastic headlines in the data, and $N$ the total number of non-sarcastic headlines. Finally we define:\n",
    "\n",
    "$$TPR(t) = \\frac{TP(t)}{P} ,\\qquad FPR(t) = \\frac{FP(t)}{N}$$\n",
    "\n",
    "The ROC curve is defined as the parametric curve $(FPR(t), TPR(t))$, traversed as the threshold takes all possible values, $-\\infty<t<\\infty$. Notice that $0\\le TPR(t)\\le1$ and $0\\le FPR(t)\\le1$, and that:\n",
    "\n",
    "$$TPR(-\\infty)=FPR(-\\infty)=1,\\qquad TPR(\\infty)=FPR(\\infty)=0$$.\n",
    "\n",
    "The AUC is defined as the area under this curve:\n",
    "\n",
    "$$AUC = \\int_{t=-\\infty}^\\infty TPR(t) \\times \\mathrm d FPR(t)\n",
    "= \\int_{t=-\\infty}^\\infty TPR(t) \\times \\frac{\\mathrm d FPR(t)}{\\mathrm d t} \\mathrm{d}t$$"
   ]
  }
 ],
 "metadata": {
  "colab": {
   "authorship_tag": "ABX9TyMNpBRtaQLgECQLyas7ab/N",
   "collapsed_sections": [],
   "provenance": [
    {
     "file_id": "1AiY0ZuY1q7crbK6_MDv4R1f0PCdI8a08",
     "timestamp": 1666767222246
    }
   ]
  },
  "kernelspec": {
   "display_name": "Python 3 (ipykernel)",
   "language": "python",
   "name": "python3"
  },
  "language_info": {
   "codemirror_mode": {
    "name": "ipython",
    "version": 3
   },
   "file_extension": ".py",
   "mimetype": "text/x-python",
   "name": "python",
   "nbconvert_exporter": "python",
   "pygments_lexer": "ipython3",
   "version": "3.9.12"
  }
 },
 "nbformat": 4,
 "nbformat_minor": 1
}
